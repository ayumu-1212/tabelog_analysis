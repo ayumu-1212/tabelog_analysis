{
  "cells": [
    {
      "cell_type": "markdown",
      "metadata": {
        "id": "view-in-github",
        "colab_type": "text"
      },
      "source": [
        "<a href=\"https://colab.research.google.com/github/ayumu-1212/tabelog_analysis/blob/main/main.ipynb\" target=\"_parent\"><img src=\"https://colab.research.google.com/assets/colab-badge.svg\" alt=\"Open In Colab\"/></a>"
      ]
    },
    {
      "cell_type": "code",
      "execution_count": null,
      "metadata": {
        "id": "cPPyg0xOL981"
      },
      "outputs": [],
      "source": [
        "# 自然言語処理のライブラリ\n",
        "!apt install aptitude swig\n",
        "!aptitude install mecab libmecab-dev mecab-ipadic-utf8 git make curl xz-utils file -y\n",
        "!pip install mecab-python3\n",
        "!pip install transformers==2.9.0\n",
        "\n",
        "# シンボリックリンクによるエラー回避\n",
        "!ln -s /etc/mecabrc /usr/local/etc/mecabrc\n",
        "\n",
        "# 未知言語に関するライブラリ\n",
        "!git clone --depth 1 https://github.com/neologd/mecab-ipadic-neologd.git\n",
        "!echo yes | mecab-ipadic-neologd/bin/install-mecab-ipadic-neologd -n -a\n",
        "!echo `mecab-config --dicdir`\"/mecab-ipadic-neologd\""
      ]
    },
    {
      "cell_type": "code",
      "execution_count": null,
      "metadata": {
        "colab": {
          "base_uri": "https://localhost:8080/"
        },
        "id": "VpGLFm20CH6h",
        "outputId": "09aa516f-102a-4096-d3ac-4d9ecc3751fc"
      },
      "outputs": [
        {
          "output_type": "stream",
          "name": "stdout",
          "text": [
            "Drive already mounted at /content/drive; to attempt to forcibly remount, call drive.mount(\"/content/drive\", force_remount=True).\n"
          ]
        }
      ],
      "source": [
        "import os\n",
        "import numpy as np\n",
        "import matplotlib.pyplot as plt\n",
        "import PIL\n",
        "import torch\n",
        "import torchvision\n",
        "import torchtext\n",
        "from torchvision import models\n",
        "import torch.nn as nn\n",
        "\n",
        "# google driveのマウント\n",
        "from google.colab import drive\n",
        "drive.mount('/content/drive')\n",
        "\n",
        "# プログレスバー導入\n",
        "from tqdm import tqdm\n",
        "import time\n",
        "\n",
        "# 標準化・正規化ライブラリ\n",
        "from sklearn.preprocessing import StandardScaler\n",
        "from sklearn.preprocessing import MinMaxScaler"
      ]
    },
    {
      "cell_type": "code",
      "execution_count": null,
      "metadata": {
        "id": "wycxMBf8FBYw"
      },
      "outputs": [],
      "source": [
        "# Dataset\n",
        "class MyDataset(torch.utils.data.Dataset):\n",
        "    def __init__(self, score_path, transform=None):\n",
        "        # tsvから分割して一時的に保存する配列\n",
        "        imgs = []\n",
        "        distances = []\n",
        "        scores = []\n",
        "        dinner_prices = []\n",
        "        nearest_stations = []\n",
        "\n",
        "        # 標準化・正規化のクラスを定義\n",
        "        ss_score = StandardScaler()\n",
        "        ms_score = MinMaxScaler()\n",
        "        ss_distance = StandardScaler()\n",
        "        ms_distance = MinMaxScaler()\n",
        "        ss_dinner = StandardScaler()\n",
        "        ms_dinner = MinMaxScaler()\n",
        "\n",
        "        # 値段帯の関係表\n",
        "        price_list = {\n",
        "            \"-\":0,\n",
        "            \"～￥999\":500,\n",
        "            \"￥1,000～￥1,999\":1500,\n",
        "            \"￥2,000～￥2,999\":2500,\n",
        "            \"￥3,000～￥3,999\":3500,\n",
        "            \"￥4,000～￥4,999\":4500,\n",
        "            \"￥5,000～￥5,999\":5500,\n",
        "            \"￥6,000～￥7,999\":7000,\n",
        "            \"￥8,000～￥9,999\":9000,\n",
        "            \"￥10,000～￥14,999\":12500,\n",
        "            \"￥15,000～￥19,999\":17500,\n",
        "            \"￥20,000～￥29,999\":25000,\n",
        "            \"￥30,000～￥39,999\":35000,\n",
        "            \"￥40,000～￥49,999\":45000,\n",
        "            \"￥50,000～￥59,999\":55000,\n",
        "            \"￥60,000～￥79,999\":70000,\n",
        "            \"￥80,000～￥99,999\":90000,\n",
        "            \"￥100,000～\":120000\n",
        "        }\n",
        "        \n",
        "        with open (score_path, 'r') as infh:\n",
        "            header = next(infh)\n",
        "            for line in infh:\n",
        "                d = line.replace('\\n', \"\").split(\"\\t\")\n",
        "                # 画像3枚\n",
        "                three_imgs = []\n",
        "                for img_i in range(3):\n",
        "                    three_imgs.append(os.path.join(os.path.dirname(score_path), d[img_i]))\n",
        "                imgs.append(three_imgs)\n",
        "\n",
        "                # 最寄りまでの距離\n",
        "                distances.append(int(d[6]))\n",
        "\n",
        "                # 夜の値段帯\n",
        "                dinner_prices.append(int(price_list[d[7]]))\n",
        "\n",
        "                # 最寄駅名\n",
        "                nearest_stations.append(d[5])\n",
        "                \n",
        "                # スコア\n",
        "                if d[3] == '':\n",
        "                    scores.append(float(0))\n",
        "                else:\n",
        "                    scores.append(float(d[3]))\n",
        "        \n",
        "        # 画像・最寄駅のプロパティ化\n",
        "        self.imgs = imgs\n",
        "        self.nearest_stations = nearest_stations\n",
        "\n",
        "        # レビュー、最寄駅までの距離、値段帯を変形してプロパティ化\n",
        "        self.scores = self.sn_transform(scores, ss_score, ms_score)\n",
        "        self.distances = self.sn_transform(distances, ss_distance, ms_distance)\n",
        "        self.dinner_prices = self.sn_transform(dinner_prices, ss_dinner, ms_dinner)\n",
        "        \n",
        "        # その他定義\n",
        "        self.ss_score = ss_score\n",
        "        self.ms_score = ms_score\n",
        "        self.transform = transform\n",
        "\n",
        "    # 正規化・標準化を定義\n",
        "    def sn_transform(self, data, ss, ms):\n",
        "        data = torch.from_numpy(np.array(data)).float().view(-1, 1)\n",
        "        data = ss.fit_transform(data) #fit_transformを用いて、特徴量の平均値と標準化を計算してから特徴量のスケール変換を行う\n",
        "        data = ms.fit_transform(data) #特徴量の最大値と最小値を計算し変換\n",
        "        data = torch.from_numpy(np.array(data)).to(torch.float32).view(-1, 1)\n",
        "        return data\n",
        "        \n",
        "    def __len__(self):\n",
        "        return len(self.scores)\n",
        "    \n",
        "    def __getitem__(self, i):\n",
        "        img0 = PIL.Image.open(self.imgs[i][0]).convert(\"RGB\")\n",
        "        img1 = PIL.Image.open(self.imgs[i][1]).convert(\"RGB\")\n",
        "        img2 = PIL.Image.open(self.imgs[i][2]).convert(\"RGB\")\n",
        "        if self.transform is not None:\n",
        "            img0 = self.transform(img0)\n",
        "            img1 = self.transform(img1)\n",
        "            img2 = self.transform(img2)\n",
        "            \n",
        "        return [img0, img1, img2, self.distances[i], self.dinner_prices[i]], self.scores[i]"
      ]
    },
    {
      "cell_type": "code",
      "execution_count": null,
      "metadata": {
        "id": "aHuMY1YMfpRV"
      },
      "outputs": [],
      "source": [
        "# full_datasetの定義\n",
        "normalize = torchvision.transforms.Normalize(\n",
        "        mean=[0.485, 0.456, 0.406], std=[0.229, 0.224, 0.225]\n",
        ")\n",
        "transform = torchvision.transforms.Compose([\n",
        "    torchvision.transforms.Resize(224),\n",
        "    torchvision.transforms.ToTensor(),\n",
        "    normalize\n",
        "])\n",
        "\n",
        "data_dir = \"./drive/MyDrive/Colab Notebooks/CATechAccel/data/train_scores_20220306211034.tsv\"\n",
        "full_dataset = MyDataset(data_dir, transform=transform)"
      ]
    },
    {
      "cell_type": "code",
      "execution_count": null,
      "metadata": {
        "id": "3AGa37H9pY2_"
      },
      "outputs": [],
      "source": [
        "#　trainとvalidのdatasetの定義\n",
        "train_ratio = 0.8\n",
        "train_size = int(train_ratio * len(full_dataset))\n",
        "valid_size = len(full_dataset) - train_size\n",
        "\n",
        "train_dataset, valid_dataset = torch.utils.data.random_split(\n",
        "    full_dataset, [train_size, valid_size]\n",
        ")"
      ]
    },
    {
      "cell_type": "code",
      "execution_count": null,
      "metadata": {
        "id": "XFD7SoN2MKif",
        "colab": {
          "base_uri": "https://localhost:8080/",
          "height": 48,
          "referenced_widgets": [
            "4e8a1d3c313b41a99bbc47b39be14105",
            "891632f7937d4c24a0404cff31e6e03b",
            "1e787236a7bc4c5b93a0fdbada6131f7",
            "1ccd65cc36e042049acccd683ec97232",
            "bc7f53c76fd544c6b5d01ef11e7ce1ee",
            "ea9314596f694bacadebf08fe0ae417a",
            "77fd70daa3e64b0387ad7aa117eb6485",
            "dc06329508c54c44980213c860bbfc9a",
            "f1d8233e7c464994a0aa57ac3a8a09e7",
            "72799823643240e28c03d0e7ddca7ab3",
            "24e4a6bfc2df4cf2a790c1b9f452c379"
          ]
        },
        "outputId": "cadb055c-801c-4016-92a6-15723fb23aaf"
      },
      "outputs": [
        {
          "output_type": "display_data",
          "data": {
            "text/plain": [
              "Downloading:   0%|          | 0.00/258k [00:00<?, ?B/s]"
            ],
            "application/vnd.jupyter.widget-view+json": {
              "version_major": 2,
              "version_minor": 0,
              "model_id": "4e8a1d3c313b41a99bbc47b39be14105"
            }
          },
          "metadata": {}
        }
      ],
      "source": [
        "# Fieldの用意\n",
        "from transformers.modeling_bert import BertModel\n",
        "from transformers.tokenization_bert_japanese import BertJapaneseTokenizer\n",
        "\n",
        "# 日本語BERTの分かち書き用tokenizerです\n",
        "tokenizer = BertJapaneseTokenizer.from_pretrained('bert-base-japanese-whole-word-masking')\n",
        "# 東北大学_日本語版の最大の単語数（サブワード数）は512\n",
        "max_length = 512\n",
        "\n",
        "def custom_tokenizer(input_text):\n",
        "    \"\"\"torchtextのtokenizerとして扱えるように、512単語のpytorchでのencodeを定義。ここで[0]を指定し忘れないように\"\"\"\n",
        "    return tokenizer.encode(input_text, max_length=max_length, return_tensors='pt')[0]\n",
        "\n",
        "TEXT = torchtext.legacy.data.Field(sequential=True, tokenize=custom_tokenizer, use_vocab=False, lower=False,\n",
        "                            include_lengths=True, batch_first=True, fix_length=max_length, pad_token=0)\n",
        "LABEL = torchtext.legacy.data.Field(sequential=False, use_vocab=False)\n",
        "# 注意：tokenize=tokenizer.encodeと、.encodeをつけます。padding[PAD]のindexが0なので、0を指定します。"
      ]
    },
    {
      "cell_type": "code",
      "execution_count": null,
      "metadata": {
        "id": "X6aGeB6pKlJW"
      },
      "outputs": [],
      "source": [
        "# 自然言語処理のtrainとtestのDatasetを用意\n",
        "# indexesを取得\n",
        "train_station_indices = train_dataset.indices\n",
        "valid_station_indices = valid_dataset.indices\n",
        "\n",
        "full_stations = full_dataset.nearest_stations\n",
        "fields = [('Text', TEXT)]\n",
        "\n",
        "train_examples = []\n",
        "valid_examples = []\n",
        "\n",
        "for train_index in train_station_indices:\n",
        "    train_examples += [torchtext.legacy.data.Example.fromlist([full_stations[train_index]], fields)]\n",
        "\n",
        "for valid_index in valid_station_indices:\n",
        "    valid_examples += [torchtext.legacy.data.Example.fromlist([full_stations[valid_index]], fields)]\n",
        "\n",
        "train_dataset_station = torchtext.legacy.data.Dataset(train_examples, fields)\n",
        "valid_dataset_station = torchtext.legacy.data.Dataset(valid_examples, fields)\n",
        "# train_dataset_text = torchtext.data.Dataset(train_dataset.)"
      ]
    },
    {
      "cell_type": "code",
      "execution_count": null,
      "metadata": {
        "id": "wdhNkvPyGZ6b"
      },
      "outputs": [],
      "source": [
        "# DataLoaderの定義\n",
        "batch_size = 64\n",
        "\n",
        "train_loader = torch.utils.data.DataLoader(train_dataset, batch_size=batch_size, shuffle=False, num_workers=2)\n",
        "valid_loader = torch.utils.data.DataLoader(valid_dataset, batch_size=batch_size, shuffle=False, num_workers=2)\n",
        "\n",
        "train_loader_station = torchtext.legacy.data.Iterator(train_dataset_station, batch_size=batch_size, shuffle=False)\n",
        "valid_loader_station = torchtext.legacy.data.Iterator(valid_dataset_station, batch_size=batch_size, shuffle=False)"
      ]
    },
    {
      "cell_type": "code",
      "execution_count": null,
      "metadata": {
        "id": "gYWCvI-PNOEd"
      },
      "outputs": [],
      "source": [
        "# device設定\n",
        "device = torch.device('cuda:0' if torch.cuda.is_available() else 'cpu')"
      ]
    },
    {
      "cell_type": "code",
      "execution_count": null,
      "metadata": {
        "id": "UQ7RC2OmVUdI",
        "colab": {
          "base_uri": "https://localhost:8080/",
          "height": 150,
          "referenced_widgets": [
            "6de3b54b43124a0f8898f8fed7b8b545",
            "f90a56a476514ce780072d7b2355b15a",
            "b1557d83b91a4e059c24de0f9c6c4f87",
            "bd5c913dd8fb40f6b6dfa104dcb96388",
            "967e8e4a5ad749c09513bafa7319e8f1",
            "07a98672f0914e1987410c9e50105339",
            "014430f57eaa4d009e8c59bd04069264",
            "37e09ea968784fb0a7ca8d476457f488",
            "b3c0c3c2d8d44d9aba0b47738ca9baec",
            "4d73515be82943549b1a7a022f2f9140",
            "cccc16aca3d44caf9b9f118a58b5e9d9",
            "5f71b8b4fd424988b908d2018d77ecc8",
            "62b3d3f16ed44e17ad0efb8d4547b057",
            "4a6a61c846d8435682df3f749e543f50",
            "ce591d9935e74bfe8a550218fb8ac1e7",
            "941f2955860c4d6485dd3c0023c81840",
            "6720d31a6df64410a29af88afd5553a3",
            "608a9265dbd248518e5c54ea24393758",
            "adb0096387684e0c83bb1e79c6b78513",
            "2661e9c67f7740cfb92bd51247c32e4f",
            "86f3f165779d435a897a44de90fa4de8",
            "1ca17dece0fe4609a2e1366305eaa6b2",
            "a7eb70303db441a486a0ed1147af17f8",
            "be6c40ae33af407baf791afb3376326c",
            "f26e5dbc1ef64f53b2e5d3877349343e",
            "327a4c9664da46c2abfafc74e9bddbad",
            "dbdc13f702134dc6a5cab5b6f855ee1f",
            "2d811e6097634867bf09e5c4677dafd9",
            "d40c94d82dc040c795467c99f1e7604e",
            "6e294ecfed35483ead8c7ed2a1b156b8",
            "17d4b06d05d0450c81325981e673b253",
            "2bf5a9f2e1324efe91bc19be452e4649",
            "2ff2a2d1a79b4ecb849b42e43aacf5f1"
          ]
        },
        "outputId": "3cb1e67d-beb1-4ee8-d8ea-1089fc24a414"
      },
      "outputs": [
        {
          "output_type": "stream",
          "name": "stderr",
          "text": [
            "Downloading: \"https://download.pytorch.org/models/resnet50-0676ba61.pth\" to /root/.cache/torch/hub/checkpoints/resnet50-0676ba61.pth\n"
          ]
        },
        {
          "output_type": "display_data",
          "data": {
            "text/plain": [
              "  0%|          | 0.00/97.8M [00:00<?, ?B/s]"
            ],
            "application/vnd.jupyter.widget-view+json": {
              "version_major": 2,
              "version_minor": 0,
              "model_id": "6de3b54b43124a0f8898f8fed7b8b545"
            }
          },
          "metadata": {}
        },
        {
          "output_type": "display_data",
          "data": {
            "text/plain": [
              "Downloading:   0%|          | 0.00/479 [00:00<?, ?B/s]"
            ],
            "application/vnd.jupyter.widget-view+json": {
              "version_major": 2,
              "version_minor": 0,
              "model_id": "5f71b8b4fd424988b908d2018d77ecc8"
            }
          },
          "metadata": {}
        },
        {
          "output_type": "display_data",
          "data": {
            "text/plain": [
              "Downloading:   0%|          | 0.00/445M [00:00<?, ?B/s]"
            ],
            "application/vnd.jupyter.widget-view+json": {
              "version_major": 2,
              "version_minor": 0,
              "model_id": "a7eb70303db441a486a0ed1147af17f8"
            }
          },
          "metadata": {}
        }
      ],
      "source": [
        "from transformers.modeling_bert import BertModel\n",
        "class CustomNet(torch.nn.Module):\n",
        "    \n",
        "    def __init__(self):\n",
        "        super(CustomNet, self).__init__()\n",
        "\n",
        "        # 画像のfc層\n",
        "        self.img_fc1 = torch.nn.Linear(3 * 2048, 1024)\n",
        "        self.img_fc2 = torch.nn.Linear(1024, 1024)\n",
        "        self.img_fc3 = torch.nn.Linear(1024, 128)\n",
        "\n",
        "        # 自然言語処理のfc層\n",
        "        self.station_fc1 = torch.nn.Linear(768, 768)\n",
        "        self.station_fc2 = torch.nn.Linear(768, 128)\n",
        "\n",
        "        # 最寄駅までの距離をLinearで拡大\n",
        "        self.distance_fc1 = torch.nn.Linear(1, 128)\n",
        "\n",
        "        # 価格帯をLinearで拡大\n",
        "        self.dinner_price_fc1 = torch.nn.Linear(1, 128)\n",
        "\n",
        "        # 総括fc層\n",
        "        self.fc1 = torch.nn.Linear(512, 64)\n",
        "        self.fc2 = torch.nn.Linear(64, 1)\n",
        "        self.sigmoid = torch.nn.Sigmoid()\n",
        "\n",
        "        # resnetの定義\n",
        "        arch = \"resnet50\"\n",
        "        resnet_model = models.__dict__[arch](pretrained=True)\n",
        "        resnet_model.fc = nn.Identity()\n",
        "        for p in resnet_model.parameters():\n",
        "            p.requires_grad=False\n",
        "        self.resnet = resnet_model\n",
        "\n",
        "        # BERT(日本語学習済み)の定義\n",
        "        bert_model = BertModel.from_pretrained('bert-base-japanese-whole-word-masking')\n",
        "        bert_model.pooler = nn.Identity()\n",
        "        for p in bert_model.parameters():\n",
        "            p.requires_grad = False\n",
        "        ## BertLayerモジュールの最後を勾配計算ありに変更\n",
        "        for p in bert_model.encoder.layer[-1].parameters():\n",
        "            p.requires_grad = True\n",
        "        self.bert_model = bert_model\n",
        "\n",
        "\n",
        "    def imgs_features(self, imgs):\n",
        "        img0 = self.resnet(imgs[0])\n",
        "        img1 = self.resnet(imgs[1])\n",
        "        img2 = self.resnet(imgs[2])\n",
        "        imgs = torch.stack((img0, img1, img2), 1)\n",
        "\n",
        "        imgs = imgs.view(-1, 3 * 2048) # 多次元から1次元に無理やり戻しすぎ\n",
        "        imgs = self.img_fc1(imgs)\n",
        "        imgs = self.img_fc2(imgs)\n",
        "        imgs = self.img_fc3(imgs)\n",
        "        # sigmoid関数を使って0 - 1の値に変換する\n",
        "        imgs = self.sigmoid(imgs)\n",
        "        return imgs\n",
        "\n",
        "    def stations_features(self, stations):\n",
        "        stations = self.bert_model(stations)\n",
        "        vec_0 = stations[0]\n",
        "        vec_0 = vec_0[:, 0, :]\n",
        "        vec_0 = vec_0.view(-1, 768)\n",
        "        stations = self.station_fc1(vec_0)\n",
        "        stations = self.station_fc2(stations)\n",
        "        return stations\n",
        "        \n",
        "    def forward(self, img0, img1, img2, distance, dinner_price, stations):\n",
        "        # 一定の次元に変換\n",
        "        imgs = self.imgs_features([img0, img1, img2])\n",
        "        stations = self.stations_features(stations)\n",
        "        distance = self.distance_fc1(distance)\n",
        "        dinner_price = self.dinner_price_fc1(dinner_price)\n",
        "\n",
        "        # 統括\n",
        "        outputs = torch.cat((imgs, distance, dinner_price, stations), 1)\n",
        "        outputs = self.fc1(outputs)\n",
        "        outputs = self.fc2(outputs)\n",
        "        outputs = self.sigmoid(outputs)\n",
        "        \n",
        "        return outputs\n",
        "\n",
        "custom_model = CustomNet()\n",
        "custom_model = custom_model.to(device)"
      ]
    },
    {
      "cell_type": "code",
      "execution_count": null,
      "metadata": {
        "id": "PqoDfe5Uhqso"
      },
      "outputs": [],
      "source": [
        "optimizer = torch.optim.SGD(custom_model.parameters(), lr=0.01)\n",
        "# criterion = torch.nn.MSELoss()\n",
        "\n",
        "class RMSELoss(nn.Module):\n",
        "    def __init__(self, eps=1e-6):\n",
        "        super().__init__()\n",
        "        self.mse = nn.MSELoss()\n",
        "        self.eps = eps\n",
        "        \n",
        "    def forward(self,yhat,y):\n",
        "        loss = torch.sqrt(self.mse(yhat,y) + self.eps)\n",
        "        return loss\n",
        "\n",
        "criterion = RMSELoss()\n"
      ]
    },
    {
      "cell_type": "code",
      "execution_count": null,
      "metadata": {
        "colab": {
          "base_uri": "https://localhost:8080/"
        },
        "id": "DDkq9qYirPKK",
        "outputId": "3236e65a-28ef-446f-a0f6-5ae4b6fb5c4f"
      },
      "outputs": [
        {
          "output_type": "stream",
          "name": "stderr",
          "text": [
            "  2%|▏         | 1/50 [07:25<6:03:54, 445.60s/it]"
          ]
        },
        {
          "output_type": "stream",
          "name": "stdout",
          "text": [
            "#epoch:0\ttrain loss: 2.7463506162166595\tvalid loss: 0.905968427658081\n"
          ]
        },
        {
          "output_type": "stream",
          "name": "stderr",
          "text": [
            "\r  4%|▍         | 2/50 [07:54<2:40:27, 200.57s/it]"
          ]
        },
        {
          "output_type": "stream",
          "name": "stdout",
          "text": [
            "#epoch:1\ttrain loss: 1.30536737293005\tvalid loss: 0.4482560157775879\n"
          ]
        },
        {
          "output_type": "stream",
          "name": "stderr",
          "text": [
            "\r  6%|▌         | 3/50 [08:23<1:35:46, 122.27s/it]"
          ]
        },
        {
          "output_type": "stream",
          "name": "stdout",
          "text": [
            "#epoch:2\ttrain loss: 0.8679799636205038\tvalid loss: 0.2984631657600403\n"
          ]
        },
        {
          "output_type": "stream",
          "name": "stderr",
          "text": [
            "\r  8%|▊         | 4/50 [08:52<1:05:31, 85.47s/it] "
          ]
        },
        {
          "output_type": "stream",
          "name": "stdout",
          "text": [
            "#epoch:3\ttrain loss: 0.6493436992168427\tvalid loss: 0.22353556752204895\n"
          ]
        },
        {
          "output_type": "stream",
          "name": "stderr",
          "text": [
            "\r 10%|█         | 5/50 [09:21<48:49, 65.10s/it]  "
          ]
        },
        {
          "output_type": "stream",
          "name": "stdout",
          "text": [
            "#epoch:4\ttrain loss: 0.518086776137352\tvalid loss: 0.1783221960067749\n"
          ]
        },
        {
          "output_type": "stream",
          "name": "stderr",
          "text": [
            "\r 12%|█▏        | 6/50 [09:50<38:44, 52.83s/it]"
          ]
        },
        {
          "output_type": "stream",
          "name": "stdout",
          "text": [
            "#epoch:5\ttrain loss: 0.4309559613466263\tvalid loss: 0.14781570434570312\n"
          ]
        },
        {
          "output_type": "stream",
          "name": "stderr",
          "text": [
            "\r 14%|█▍        | 7/50 [10:19<32:17, 45.06s/it]"
          ]
        },
        {
          "output_type": "stream",
          "name": "stdout",
          "text": [
            "#epoch:6\ttrain loss: 0.3682445010968617\tvalid loss: 0.12619210992540633\n"
          ]
        },
        {
          "output_type": "stream",
          "name": "stderr",
          "text": [
            "\r 16%|█▌        | 8/50 [10:48<27:58, 39.96s/it]"
          ]
        },
        {
          "output_type": "stream",
          "name": "stdout",
          "text": [
            "#epoch:7\ttrain loss: 0.32173652574419975\tvalid loss: 0.11038782447576523\n"
          ]
        },
        {
          "output_type": "stream",
          "name": "stderr",
          "text": [
            "\r 18%|█▊        | 9/50 [11:17<24:57, 36.53s/it]"
          ]
        },
        {
          "output_type": "stream",
          "name": "stdout",
          "text": [
            "#epoch:8\ttrain loss: 0.28529122802946305\tvalid loss: 0.0977979236178928\n"
          ]
        },
        {
          "output_type": "stream",
          "name": "stderr",
          "text": [
            "\r 20%|██        | 10/50 [11:46<22:48, 34.21s/it]"
          ]
        },
        {
          "output_type": "stream",
          "name": "stdout",
          "text": [
            "#epoch:9\ttrain loss: 0.2560705289244652\tvalid loss: 0.087662273645401\n"
          ]
        },
        {
          "output_type": "stream",
          "name": "stderr",
          "text": [
            "\r 22%|██▏       | 11/50 [12:15<21:12, 32.63s/it]"
          ]
        },
        {
          "output_type": "stream",
          "name": "stdout",
          "text": [
            "#epoch:10\ttrain loss: 0.23227509991689163\tvalid loss: 0.07953425970944492\n"
          ]
        },
        {
          "output_type": "stream",
          "name": "stderr",
          "text": [
            "\r 24%|██▍       | 12/50 [12:44<19:57, 31.52s/it]"
          ]
        },
        {
          "output_type": "stream",
          "name": "stdout",
          "text": [
            "#epoch:11\ttrain loss: 0.21255269149939218\tvalid loss: 0.07252027094364166\n"
          ]
        },
        {
          "output_type": "stream",
          "name": "stderr",
          "text": [
            "\r 26%|██▌       | 13/50 [13:13<18:58, 30.77s/it]"
          ]
        },
        {
          "output_type": "stream",
          "name": "stdout",
          "text": [
            "#epoch:12\ttrain loss: 0.19584133877204016\tvalid loss: 0.06704157132368821\n"
          ]
        },
        {
          "output_type": "stream",
          "name": "stderr",
          "text": [
            "\r 28%|██▊       | 14/50 [13:42<18:08, 30.23s/it]"
          ]
        },
        {
          "output_type": "stream",
          "name": "stdout",
          "text": [
            "#epoch:13\ttrain loss: 0.18145251061235154\tvalid loss: 0.06207599810191563\n"
          ]
        },
        {
          "output_type": "stream",
          "name": "stderr",
          "text": [
            "\r 30%|███       | 15/50 [14:11<17:25, 29.86s/it]"
          ]
        },
        {
          "output_type": "stream",
          "name": "stdout",
          "text": [
            "#epoch:14\ttrain loss: 0.16904289225737254\tvalid loss: 0.057733583450317386\n"
          ]
        },
        {
          "output_type": "stream",
          "name": "stderr",
          "text": [
            "\r 32%|███▏      | 16/50 [14:40<16:46, 29.61s/it]"
          ]
        },
        {
          "output_type": "stream",
          "name": "stdout",
          "text": [
            "#epoch:15\ttrain loss: 0.1581683438271284\tvalid loss: 0.054076969623565674\n"
          ]
        },
        {
          "output_type": "stream",
          "name": "stderr",
          "text": [
            "\r 34%|███▍      | 17/50 [15:10<16:11, 29.44s/it]"
          ]
        },
        {
          "output_type": "stream",
          "name": "stdout",
          "text": [
            "#epoch:16\ttrain loss: 0.1484758783789242\tvalid loss: 0.050617628237780404\n"
          ]
        },
        {
          "output_type": "stream",
          "name": "stderr",
          "text": [
            "\r 36%|███▌      | 18/50 [15:39<15:38, 29.32s/it]"
          ]
        },
        {
          "output_type": "stream",
          "name": "stdout",
          "text": [
            "#epoch:17\ttrain loss: 0.1400846102171474\tvalid loss: 0.047792279058032565\n"
          ]
        },
        {
          "output_type": "stream",
          "name": "stderr",
          "text": [
            "\r 38%|███▊      | 19/50 [16:08<15:06, 29.25s/it]"
          ]
        },
        {
          "output_type": "stream",
          "name": "stdout",
          "text": [
            "#epoch:18\ttrain loss: 0.1325246346624274\tvalid loss: 0.04510164574572915\n"
          ]
        },
        {
          "output_type": "stream",
          "name": "stderr",
          "text": [
            "\r 40%|████      | 20/50 [16:37<14:35, 29.20s/it]"
          ]
        },
        {
          "output_type": "stream",
          "name": "stdout",
          "text": [
            "#epoch:19\ttrain loss: 0.12565407827496528\tvalid loss: 0.042797905206680295\n"
          ]
        },
        {
          "output_type": "stream",
          "name": "stderr",
          "text": [
            "\r 42%|████▏     | 21/50 [17:06<14:05, 29.15s/it]"
          ]
        },
        {
          "output_type": "stream",
          "name": "stdout",
          "text": [
            "#epoch:20\ttrain loss: 0.11936958347048078\tvalid loss: 0.04067115272794451\n"
          ]
        },
        {
          "output_type": "stream",
          "name": "stderr",
          "text": [
            "\r 44%|████▍     | 22/50 [17:35<13:34, 29.10s/it]"
          ]
        },
        {
          "output_type": "stream",
          "name": "stdout",
          "text": [
            "#epoch:21\ttrain loss: 0.11376090280034325\tvalid loss: 0.03860485553741455\n"
          ]
        },
        {
          "output_type": "stream",
          "name": "stderr",
          "text": [
            "\r 46%|████▌     | 23/50 [18:04<13:04, 29.07s/it]"
          ]
        },
        {
          "output_type": "stream",
          "name": "stdout",
          "text": [
            "#epoch:22\ttrain loss: 0.10873804856901584\tvalid loss: 0.03698169925938482\n"
          ]
        },
        {
          "output_type": "stream",
          "name": "stderr",
          "text": [
            "\r 48%|████▊     | 24/50 [18:33<12:36, 29.09s/it]"
          ]
        },
        {
          "output_type": "stream",
          "name": "stdout",
          "text": [
            "#epoch:23\ttrain loss: 0.10400202311575413\tvalid loss: 0.035404376685619354\n"
          ]
        },
        {
          "output_type": "stream",
          "name": "stderr",
          "text": [
            "\r 50%|█████     | 25/50 [19:02<12:06, 29.04s/it]"
          ]
        },
        {
          "output_type": "stream",
          "name": "stdout",
          "text": [
            "#epoch:24\ttrain loss: 0.09966168284416199\tvalid loss: 0.03386394262313843\n"
          ]
        },
        {
          "output_type": "stream",
          "name": "stderr",
          "text": [
            "\r 52%|█████▏    | 26/50 [19:31<11:36, 29.01s/it]"
          ]
        },
        {
          "output_type": "stream",
          "name": "stdout",
          "text": [
            "#epoch:25\ttrain loss: 0.09574201359198643\tvalid loss: 0.03243642357679514\n"
          ]
        },
        {
          "output_type": "stream",
          "name": "stderr",
          "text": [
            "\r 54%|█████▍    | 27/50 [20:00<11:07, 29.01s/it]"
          ]
        },
        {
          "output_type": "stream",
          "name": "stdout",
          "text": [
            "#epoch:26\ttrain loss: 0.09206347498628828\tvalid loss: 0.031153822386706317\n"
          ]
        },
        {
          "output_type": "stream",
          "name": "stderr",
          "text": [
            "\r 56%|█████▌    | 28/50 [20:29<10:38, 29.01s/it]"
          ]
        },
        {
          "output_type": "stream",
          "name": "stdout",
          "text": [
            "#epoch:27\ttrain loss: 0.08857317907469613\tvalid loss: 0.029965886047908237\n"
          ]
        },
        {
          "output_type": "stream",
          "name": "stderr",
          "text": [
            "\r 58%|█████▊    | 29/50 [20:58<10:09, 29.04s/it]"
          ]
        },
        {
          "output_type": "stream",
          "name": "stdout",
          "text": [
            "#epoch:28\ttrain loss: 0.0855453147970397\tvalid loss: 0.028866718555318898\n"
          ]
        },
        {
          "output_type": "stream",
          "name": "stderr",
          "text": [
            "\r 60%|██████    | 30/50 [21:27<09:41, 29.07s/it]"
          ]
        },
        {
          "output_type": "stream",
          "name": "stdout",
          "text": [
            "#epoch:29\ttrain loss: 0.0824809287985166\tvalid loss: 0.02786438465118408\n"
          ]
        },
        {
          "output_type": "stream",
          "name": "stderr",
          "text": [
            "\r 62%|██████▏   | 31/50 [21:56<09:12, 29.07s/it]"
          ]
        },
        {
          "output_type": "stream",
          "name": "stdout",
          "text": [
            "#epoch:30\ttrain loss: 0.07975449965846154\tvalid loss: 0.02688275614092427\n"
          ]
        },
        {
          "output_type": "stream",
          "name": "stderr",
          "text": [
            "\r 64%|██████▍   | 32/50 [22:25<08:43, 29.06s/it]"
          ]
        },
        {
          "output_type": "stream",
          "name": "stdout",
          "text": [
            "#epoch:31\ttrain loss: 0.07710654567927122\tvalid loss: 0.025927359238266945\n"
          ]
        },
        {
          "output_type": "stream",
          "name": "stderr",
          "text": [
            "\r 66%|██████▌   | 33/50 [22:54<08:14, 29.07s/it]"
          ]
        },
        {
          "output_type": "stream",
          "name": "stdout",
          "text": [
            "#epoch:32\ttrain loss: 0.07472286666884567\tvalid loss: 0.02511728713006684\n"
          ]
        },
        {
          "output_type": "stream",
          "name": "stderr",
          "text": [
            "\r 68%|██████▊   | 34/50 [23:23<07:44, 29.04s/it]"
          ]
        },
        {
          "output_type": "stream",
          "name": "stdout",
          "text": [
            "#epoch:33\ttrain loss: 0.07244029553497539\tvalid loss: 0.024432958925471586\n"
          ]
        },
        {
          "output_type": "stream",
          "name": "stderr",
          "text": [
            "\r 70%|███████   | 35/50 [23:52<07:15, 29.04s/it]"
          ]
        },
        {
          "output_type": "stream",
          "name": "stdout",
          "text": [
            "#epoch:34\ttrain loss: 0.07030349331242698\tvalid loss: 0.02370422397341047\n"
          ]
        },
        {
          "output_type": "stream",
          "name": "stderr",
          "text": [
            "\r 72%|███████▏  | 36/50 [24:21<06:46, 29.02s/it]"
          ]
        },
        {
          "output_type": "stream",
          "name": "stdout",
          "text": [
            "#epoch:35\ttrain loss: 0.06829691057403882\tvalid loss: 0.02296085821257697\n"
          ]
        },
        {
          "output_type": "stream",
          "name": "stderr",
          "text": [
            "\r 74%|███████▍  | 37/50 [24:50<06:16, 29.00s/it]"
          ]
        },
        {
          "output_type": "stream",
          "name": "stdout",
          "text": [
            "#epoch:36\ttrain loss: 0.06637838160669482\tvalid loss: 0.02233247982489096\n"
          ]
        },
        {
          "output_type": "stream",
          "name": "stderr",
          "text": [
            "\r 76%|███████▌  | 38/50 [25:19<05:48, 29.00s/it]"
          ]
        },
        {
          "output_type": "stream",
          "name": "stdout",
          "text": [
            "#epoch:37\ttrain loss: 0.06454840969098241\tvalid loss: 0.02169416452708997\n"
          ]
        },
        {
          "output_type": "stream",
          "name": "stderr",
          "text": [
            "\r 78%|███████▊  | 39/50 [25:48<05:19, 29.02s/it]"
          ]
        },
        {
          "output_type": "stream",
          "name": "stdout",
          "text": [
            "#epoch:38\ttrain loss: 0.06284183072738159\tvalid loss: 0.02110217320613372\n"
          ]
        },
        {
          "output_type": "stream",
          "name": "stderr",
          "text": [
            "\r 80%|████████  | 40/50 [26:17<04:50, 29.03s/it]"
          ]
        },
        {
          "output_type": "stream",
          "name": "stdout",
          "text": [
            "#epoch:39\ttrain loss: 0.06120184063911438\tvalid loss: 0.020587556064128876\n"
          ]
        },
        {
          "output_type": "stream",
          "name": "stderr",
          "text": [
            "\r 82%|████████▏ | 41/50 [26:46<04:21, 29.00s/it]"
          ]
        },
        {
          "output_type": "stream",
          "name": "stdout",
          "text": [
            "#epoch:40\ttrain loss: 0.05965507902750155\tvalid loss: 0.01991403539006303\n"
          ]
        },
        {
          "output_type": "stream",
          "name": "stderr",
          "text": [
            "\r 84%|████████▍ | 42/50 [27:15<03:52, 29.02s/it]"
          ]
        },
        {
          "output_type": "stream",
          "name": "stdout",
          "text": [
            "#epoch:41\ttrain loss: 0.058204450068019685\tvalid loss: 0.019518693288167317\n"
          ]
        },
        {
          "output_type": "stream",
          "name": "stderr",
          "text": [
            "\r 86%|████████▌ | 43/50 [27:44<03:23, 29.01s/it]"
          ]
        },
        {
          "output_type": "stream",
          "name": "stdout",
          "text": [
            "#epoch:42\ttrain loss: 0.05678129057551539\tvalid loss: 0.01900630219038143\n"
          ]
        },
        {
          "output_type": "stream",
          "name": "stderr",
          "text": [
            "\r 88%|████████▊ | 44/50 [28:13<02:54, 29.02s/it]"
          ]
        },
        {
          "output_type": "stream",
          "name": "stdout",
          "text": [
            "#epoch:43\ttrain loss: 0.05548877946355126\tvalid loss: 0.01858907396143133\n"
          ]
        },
        {
          "output_type": "stream",
          "name": "stderr",
          "text": [
            "\r 90%|█████████ | 45/50 [28:42<02:25, 29.04s/it]"
          ]
        },
        {
          "output_type": "stream",
          "name": "stdout",
          "text": [
            "#epoch:44\ttrain loss: 0.0542291263739268\tvalid loss: 0.01811003949907091\n"
          ]
        },
        {
          "output_type": "stream",
          "name": "stderr",
          "text": [
            "\r 92%|█████████▏| 46/50 [29:12<01:56, 29.06s/it]"
          ]
        },
        {
          "output_type": "stream",
          "name": "stdout",
          "text": [
            "#epoch:45\ttrain loss: 0.053018167938875115\tvalid loss: 0.017674350220224132\n"
          ]
        },
        {
          "output_type": "stream",
          "name": "stderr",
          "text": [
            "\r 94%|█████████▍| 47/50 [29:41<01:27, 29.06s/it]"
          ]
        },
        {
          "output_type": "stream",
          "name": "stdout",
          "text": [
            "#epoch:46\ttrain loss: 0.05180572353779001\tvalid loss: 0.017256994196709168\n"
          ]
        },
        {
          "output_type": "stream",
          "name": "stderr",
          "text": [
            "\r 96%|█████████▌| 48/50 [30:10<00:58, 29.04s/it]"
          ]
        },
        {
          "output_type": "stream",
          "name": "stdout",
          "text": [
            "#epoch:47\ttrain loss: 0.050735789351165295\tvalid loss: 0.01694750413298607\n"
          ]
        },
        {
          "output_type": "stream",
          "name": "stderr",
          "text": [
            "\r 98%|█████████▊| 49/50 [30:39<00:29, 29.06s/it]"
          ]
        },
        {
          "output_type": "stream",
          "name": "stdout",
          "text": [
            "#epoch:48\ttrain loss: 0.049618266066726376\tvalid loss: 0.01647611175264631\n"
          ]
        },
        {
          "output_type": "stream",
          "name": "stderr",
          "text": [
            "100%|██████████| 50/50 [31:08<00:00, 37.36s/it]"
          ]
        },
        {
          "output_type": "stream",
          "name": "stdout",
          "text": [
            "#epoch:49\ttrain loss: 0.04864637702703476\tvalid loss: 0.01622745633125305\n"
          ]
        },
        {
          "output_type": "stream",
          "name": "stderr",
          "text": [
            "\n"
          ]
        }
      ],
      "source": [
        "train_loss = []\n",
        "valid_loss = []\n",
        "valid_outputs = torch.tensor([]).to(device)\n",
        "valid_scores = torch.tensor([]).to(device)\n",
        "\n",
        "for epoch in tqdm(range(50)):\n",
        "  # 学習\n",
        "  custom_model.train()\n",
        "  running_train_loss = 0.0\n",
        "  with torch.set_grad_enabled(True):\n",
        "    for data, data_station in zip(train_loader, train_loader_station):\n",
        "      inputs, scores = data\n",
        "      input_stations = data_station.Text[0].to(device)\n",
        "      scores = scores.to(device)\n",
        "      for i in range(len(inputs)):\n",
        "          inputs[i] = inputs[i].to(device)\n",
        "      outputs = custom_model(inputs[0], inputs[1], inputs[2], inputs[3], inputs[4], input_stations)\n",
        "      loss = criterion(outputs, scores)\n",
        "      running_train_loss += loss.item()\n",
        "      optimizer.zero_grad()\n",
        "      loss.backward()\n",
        "      optimizer.step()\n",
        "\n",
        "  train_loss.append(running_train_loss / len(train_dataset))\n",
        "  \n",
        "  # 検証\n",
        "  custom_model.eval()\n",
        "  running_valid_loss = 0.0\n",
        "  with torch.set_grad_enabled(False):\n",
        "    for data, data_station in zip(valid_loader, valid_loader_station):\n",
        "      inputs, scores = data\n",
        "      input_stations = data_station.Text[0].to(device)\n",
        "      scores = scores.to(device)\n",
        "      for i in range(len(inputs)):\n",
        "          inputs[i] = inputs[i].to(device)\n",
        "      outputs = custom_model(inputs[0], inputs[1], inputs[2], inputs[3], inputs[4], input_stations)\n",
        "      running_valid_loss += loss.item()\n",
        "      valid_outputs = torch.cat((valid_outputs, outputs), 0)\n",
        "      valid_scores = torch.cat((valid_scores, scores), 0)\n",
        "\n",
        "  valid_loss.append(running_valid_loss / len(valid_dataset))\n",
        "\n",
        "  \n",
        "  print('#epoch:{}\\ttrain loss: {}\\tvalid loss: {}'.format(epoch,\n",
        "                                                running_train_loss / len(train_loss), \n",
        "                                                running_valid_loss / len(valid_loss)))"
      ]
    },
    {
      "cell_type": "code",
      "execution_count": null,
      "metadata": {
        "id": "qtbpr3kxR5_n",
        "colab": {
          "base_uri": "https://localhost:8080/",
          "height": 268
        },
        "outputId": "9a013635-b21e-43bb-9ede-1e581043d054"
      },
      "outputs": [
        {
          "output_type": "display_data",
          "data": {
            "text/plain": [
              "<Figure size 432x288 with 1 Axes>"
            ],
            "image/png": "[encoded data removed]"
          },
          "metadata": {
            "needs_background": "light"
          }
        }
      ],
      "source": [
        "fig = plt.figure()\n",
        "ax = fig.add_subplot()\n",
        "ax.plot(train_loss, label='train')\n",
        "ax.plot(valid_loss, label='valid')\n",
        "fig.show()"
      ]
    },
    {
      "cell_type": "code",
      "execution_count": null,
      "metadata": {
        "id": "nZtazbxDSB8V",
        "colab": {
          "base_uri": "https://localhost:8080/",
          "height": 291
        },
        "outputId": "5f6fc1df-8ce3-48ea-86e1-d0c95bf0b88a"
      },
      "outputs": [
        {
          "output_type": "display_data",
          "data": {
            "text/plain": [
              "<Figure size 432x288 with 1 Axes>"
            ],
            "image/png": "[encoded data removed]"
          },
          "metadata": {
            "needs_background": "light"
          }
        }
      ],
      "source": [
        "fig = plt.figure()\n",
        "ax = fig.add_subplot()\n",
        "\n",
        "# 標準化・正規化を戻す\n",
        "ss = full_dataset.ss_score\n",
        "ms = full_dataset.ms_score\n",
        "plot_outputs = ss.inverse_transform(ms.inverse_transform(valid_outputs.cpu().detach().numpy()))\n",
        "plot_scores = ss.inverse_transform(ms.inverse_transform(valid_scores.cpu().detach().numpy()))\n",
        "\n",
        "from itertools import chain\n",
        "# 相関行列を計算\n",
        "coef = np.corrcoef(list(chain.from_iterable(plot_outputs)), list(chain.from_iterable(plot_scores)))\n",
        "# print(plot_outputs)\n",
        "# fig内でのaxes座標を取得，戻り値はBbox\n",
        "ax_pos = ax.get_position()\n",
        "coef_text = \"Correlation coefficient: \" + str(coef[0][1])\n",
        "# fig内座標でテキストを表示 Bboxは Bbox.x0, Bbox.x1, Bbox.y0, Bbox.y1で座標を取得できる\n",
        "fig.text(ax_pos.x0, ax_pos.y1 + 0.05, coef_text, fontsize='x-large')  \n",
        "\n",
        "ax.scatter(plot_outputs, plot_scores, s=8)\n",
        "fig.show()"
      ]
    },
    {
      "cell_type": "code",
      "source": [
        "print(\"各特徴量ごとの平均値は\"+str(ms.mean_))\n",
        "print(\"各特徴量ごとの標準偏差は\"+str(ms.var_))"
      ],
      "metadata": {
        "id": "_4pOdcuHbcV0"
      },
      "execution_count": null,
      "outputs": []
    },
    {
      "cell_type": "markdown",
      "metadata": {
        "id": "aB0i8-xo0Hce"
      },
      "source": [
        "- 重みは更新しない（->p.requires_grad=False）\n",
        "- 回帰問題にするために、out_features=1に設定\n",
        "- dataloaderのときにNormalizeを変更、画像サイズも調整 -> h:224, w:224"
      ]
    }
  ],
  "metadata": {
    "accelerator": "GPU",
    "colab": {
      "collapsed_sections": [],
      "name": "main.ipynb",
      "provenance": [],
      "authorship_tag": "ABX9TyMcvJpKCv+mKe4wc0AJNcjl",
      "include_colab_link": true
    },
    "kernelspec": {
      "display_name": "Python 3",
      "name": "python3"
    },
    "language_info": {
      "name": "python"
    },
    "widgets": {
      "application/vnd.jupyter.widget-state+json": {
        "4e8a1d3c313b41a99bbc47b39be14105": {
          "model_module": "@jupyter-widgets/controls",
          "model_name": "HBoxModel",
          "model_module_version": "1.5.0",
          "state": {
            "_dom_classes": [],
            "_model_module": "@jupyter-widgets/controls",
            "_model_module_version": "1.5.0",
            "_model_name": "HBoxModel",
            "_view_count": null,
            "_view_module": "@jupyter-widgets/controls",
            "_view_module_version": "1.5.0",
            "_view_name": "HBoxView",
            "box_style": "",
            "children": [
              "IPY_MODEL_891632f7937d4c24a0404cff31e6e03b",
              "IPY_MODEL_1e787236a7bc4c5b93a0fdbada6131f7",
              "IPY_MODEL_1ccd65cc36e042049acccd683ec97232"
            ],
            "layout": "IPY_MODEL_bc7f53c76fd544c6b5d01ef11e7ce1ee"
          }
        },
        "891632f7937d4c24a0404cff31e6e03b": {
          "model_module": "@jupyter-widgets/controls",
          "model_name": "HTMLModel",
          "model_module_version": "1.5.0",
          "state": {
            "_dom_classes": [],
            "_model_module": "@jupyter-widgets/controls",
            "_model_module_version": "1.5.0",
            "_model_name": "HTMLModel",
            "_view_count": null,
            "_view_module": "@jupyter-widgets/controls",
            "_view_module_version": "1.5.0",
            "_view_name": "HTMLView",
            "description": "",
            "description_tooltip": null,
            "layout": "IPY_MODEL_ea9314596f694bacadebf08fe0ae417a",
            "placeholder": "​",
            "style": "IPY_MODEL_77fd70daa3e64b0387ad7aa117eb6485",
            "value": "Downloading: 100%"
          }
        },
        "1e787236a7bc4c5b93a0fdbada6131f7": {
          "model_module": "@jupyter-widgets/controls",
          "model_name": "FloatProgressModel",
          "model_module_version": "1.5.0",
          "state": {
            "_dom_classes": [],
            "_model_module": "@jupyter-widgets/controls",
            "_model_module_version": "1.5.0",
            "_model_name": "FloatProgressModel",
            "_view_count": null,
            "_view_module": "@jupyter-widgets/controls",
            "_view_module_version": "1.5.0",
            "_view_name": "ProgressView",
            "bar_style": "success",
            "description": "",
            "description_tooltip": null,
            "layout": "IPY_MODEL_dc06329508c54c44980213c860bbfc9a",
            "max": 257706,
            "min": 0,
            "orientation": "horizontal",
            "style": "IPY_MODEL_f1d8233e7c464994a0aa57ac3a8a09e7",
            "value": 257706
          }
        },
        "1ccd65cc36e042049acccd683ec97232": {
          "model_module": "@jupyter-widgets/controls",
          "model_name": "HTMLModel",
          "model_module_version": "1.5.0",
          "state": {
            "_dom_classes": [],
            "_model_module": "@jupyter-widgets/controls",
            "_model_module_version": "1.5.0",
            "_model_name": "HTMLModel",
            "_view_count": null,
            "_view_module": "@jupyter-widgets/controls",
            "_view_module_version": "1.5.0",
            "_view_name": "HTMLView",
            "description": "",
            "description_tooltip": null,
            "layout": "IPY_MODEL_72799823643240e28c03d0e7ddca7ab3",
            "placeholder": "​",
            "style": "IPY_MODEL_24e4a6bfc2df4cf2a790c1b9f452c379",
            "value": " 258k/258k [00:00&lt;00:00, 1.00MB/s]"
          }
        },
        "bc7f53c76fd544c6b5d01ef11e7ce1ee": {
          "model_module": "@jupyter-widgets/base",
          "model_name": "LayoutModel",
          "model_module_version": "1.2.0",
          "state": {
            "_model_module": "@jupyter-widgets/base",
            "_model_module_version": "1.2.0",
            "_model_name": "LayoutModel",
            "_view_count": null,
            "_view_module": "@jupyter-widgets/base",
            "_view_module_version": "1.2.0",
            "_view_name": "LayoutView",
            "align_content": null,
            "align_items": null,
            "align_self": null,
            "border": null,
            "bottom": null,
            "display": null,
            "flex": null,
            "flex_flow": null,
            "grid_area": null,
            "grid_auto_columns": null,
            "grid_auto_flow": null,
            "grid_auto_rows": null,
            "grid_column": null,
            "grid_gap": null,
            "grid_row": null,
            "grid_template_areas": null,
            "grid_template_columns": null,
            "grid_template_rows": null,
            "height": null,
            "justify_content": null,
            "justify_items": null,
            "left": null,
            "margin": null,
            "max_height": null,
            "max_width": null,
            "min_height": null,
            "min_width": null,
            "object_fit": null,
            "object_position": null,
            "order": null,
            "overflow": null,
            "overflow_x": null,
            "overflow_y": null,
            "padding": null,
            "right": null,
            "top": null,
            "visibility": null,
            "width": null
          }
        },
        "ea9314596f694bacadebf08fe0ae417a": {
          "model_module": "@jupyter-widgets/base",
          "model_name": "LayoutModel",
          "model_module_version": "1.2.0",
          "state": {
            "_model_module": "@jupyter-widgets/base",
            "_model_module_version": "1.2.0",
            "_model_name": "LayoutModel",
            "_view_count": null,
            "_view_module": "@jupyter-widgets/base",
            "_view_module_version": "1.2.0",
            "_view_name": "LayoutView",
            "align_content": null,
            "align_items": null,
            "align_self": null,
            "border": null,
            "bottom": null,
            "display": null,
            "flex": null,
            "flex_flow": null,
            "grid_area": null,
            "grid_auto_columns": null,
            "grid_auto_flow": null,
            "grid_auto_rows": null,
            "grid_column": null,
            "grid_gap": null,
            "grid_row": null,
            "grid_template_areas": null,
            "grid_template_columns": null,
            "grid_template_rows": null,
            "height": null,
            "justify_content": null,
            "justify_items": null,
            "left": null,
            "margin": null,
            "max_height": null,
            "max_width": null,
            "min_height": null,
            "min_width": null,
            "object_fit": null,
            "object_position": null,
            "order": null,
            "overflow": null,
            "overflow_x": null,
            "overflow_y": null,
            "padding": null,
            "right": null,
            "top": null,
            "visibility": null,
            "width": null
          }
        },
        "77fd70daa3e64b0387ad7aa117eb6485": {
          "model_module": "@jupyter-widgets/controls",
          "model_name": "DescriptionStyleModel",
          "model_module_version": "1.5.0",
          "state": {
            "_model_module": "@jupyter-widgets/controls",
            "_model_module_version": "1.5.0",
            "_model_name": "DescriptionStyleModel",
            "_view_count": null,
            "_view_module": "@jupyter-widgets/base",
            "_view_module_version": "1.2.0",
            "_view_name": "StyleView",
            "description_width": ""
          }
        },
        "dc06329508c54c44980213c860bbfc9a": {
          "model_module": "@jupyter-widgets/base",
          "model_name": "LayoutModel",
          "model_module_version": "1.2.0",
          "state": {
            "_model_module": "@jupyter-widgets/base",
            "_model_module_version": "1.2.0",
            "_model_name": "LayoutModel",
            "_view_count": null,
            "_view_module": "@jupyter-widgets/base",
            "_view_module_version": "1.2.0",
            "_view_name": "LayoutView",
            "align_content": null,
            "align_items": null,
            "align_self": null,
            "border": null,
            "bottom": null,
            "display": null,
            "flex": null,
            "flex_flow": null,
            "grid_area": null,
            "grid_auto_columns": null,
            "grid_auto_flow": null,
            "grid_auto_rows": null,
            "grid_column": null,
            "grid_gap": null,
            "grid_row": null,
            "grid_template_areas": null,
            "grid_template_columns": null,
            "grid_template_rows": null,
            "height": null,
            "justify_content": null,
            "justify_items": null,
            "left": null,
            "margin": null,
            "max_height": null,
            "max_width": null,
            "min_height": null,
            "min_width": null,
            "object_fit": null,
            "object_position": null,
            "order": null,
            "overflow": null,
            "overflow_x": null,
            "overflow_y": null,
            "padding": null,
            "right": null,
            "top": null,
            "visibility": null,
            "width": null
          }
        },
        "f1d8233e7c464994a0aa57ac3a8a09e7": {
          "model_module": "@jupyter-widgets/controls",
          "model_name": "ProgressStyleModel",
          "model_module_version": "1.5.0",
          "state": {
            "_model_module": "@jupyter-widgets/controls",
            "_model_module_version": "1.5.0",
            "_model_name": "ProgressStyleModel",
            "_view_count": null,
            "_view_module": "@jupyter-widgets/base",
            "_view_module_version": "1.2.0",
            "_view_name": "StyleView",
            "bar_color": null,
            "description_width": ""
          }
        },
        "72799823643240e28c03d0e7ddca7ab3": {
          "model_module": "@jupyter-widgets/base",
          "model_name": "LayoutModel",
          "model_module_version": "1.2.0",
          "state": {
            "_model_module": "@jupyter-widgets/base",
            "_model_module_version": "1.2.0",
            "_model_name": "LayoutModel",
            "_view_count": null,
            "_view_module": "@jupyter-widgets/base",
            "_view_module_version": "1.2.0",
            "_view_name": "LayoutView",
            "align_content": null,
            "align_items": null,
            "align_self": null,
            "border": null,
            "bottom": null,
            "display": null,
            "flex": null,
            "flex_flow": null,
            "grid_area": null,
            "grid_auto_columns": null,
            "grid_auto_flow": null,
            "grid_auto_rows": null,
            "grid_column": null,
            "grid_gap": null,
            "grid_row": null,
            "grid_template_areas": null,
            "grid_template_columns": null,
            "grid_template_rows": null,
            "height": null,
            "justify_content": null,
            "justify_items": null,
            "left": null,
            "margin": null,
            "max_height": null,
            "max_width": null,
            "min_height": null,
            "min_width": null,
            "object_fit": null,
            "object_position": null,
            "order": null,
            "overflow": null,
            "overflow_x": null,
            "overflow_y": null,
            "padding": null,
            "right": null,
            "top": null,
            "visibility": null,
            "width": null
          }
        },
        "24e4a6bfc2df4cf2a790c1b9f452c379": {
          "model_module": "@jupyter-widgets/controls",
          "model_name": "DescriptionStyleModel",
          "model_module_version": "1.5.0",
          "state": {
            "_model_module": "@jupyter-widgets/controls",
            "_model_module_version": "1.5.0",
            "_model_name": "DescriptionStyleModel",
            "_view_count": null,
            "_view_module": "@jupyter-widgets/base",
            "_view_module_version": "1.2.0",
            "_view_name": "StyleView",
            "description_width": ""
          }
        },
        "6de3b54b43124a0f8898f8fed7b8b545": {
          "model_module": "@jupyter-widgets/controls",
          "model_name": "HBoxModel",
          "model_module_version": "1.5.0",
          "state": {
            "_dom_classes": [],
            "_model_module": "@jupyter-widgets/controls",
            "_model_module_version": "1.5.0",
            "_model_name": "HBoxModel",
            "_view_count": null,
            "_view_module": "@jupyter-widgets/controls",
            "_view_module_version": "1.5.0",
            "_view_name": "HBoxView",
            "box_style": "",
            "children": [
              "IPY_MODEL_f90a56a476514ce780072d7b2355b15a",
              "IPY_MODEL_b1557d83b91a4e059c24de0f9c6c4f87",
              "IPY_MODEL_bd5c913dd8fb40f6b6dfa104dcb96388"
            ],
            "layout": "IPY_MODEL_967e8e4a5ad749c09513bafa7319e8f1"
          }
        },
        "f90a56a476514ce780072d7b2355b15a": {
          "model_module": "@jupyter-widgets/controls",
          "model_name": "HTMLModel",
          "model_module_version": "1.5.0",
          "state": {
            "_dom_classes": [],
            "_model_module": "@jupyter-widgets/controls",
            "_model_module_version": "1.5.0",
            "_model_name": "HTMLModel",
            "_view_count": null,
            "_view_module": "@jupyter-widgets/controls",
            "_view_module_version": "1.5.0",
            "_view_name": "HTMLView",
            "description": "",
            "description_tooltip": null,
            "layout": "IPY_MODEL_07a98672f0914e1987410c9e50105339",
            "placeholder": "​",
            "style": "IPY_MODEL_014430f57eaa4d009e8c59bd04069264",
            "value": "100%"
          }
        },
        "b1557d83b91a4e059c24de0f9c6c4f87": {
          "model_module": "@jupyter-widgets/controls",
          "model_name": "FloatProgressModel",
          "model_module_version": "1.5.0",
          "state": {
            "_dom_classes": [],
            "_model_module": "@jupyter-widgets/controls",
            "_model_module_version": "1.5.0",
            "_model_name": "FloatProgressModel",
            "_view_count": null,
            "_view_module": "@jupyter-widgets/controls",
            "_view_module_version": "1.5.0",
            "_view_name": "ProgressView",
            "bar_style": "success",
            "description": "",
            "description_tooltip": null,
            "layout": "IPY_MODEL_37e09ea968784fb0a7ca8d476457f488",
            "max": 102530333,
            "min": 0,
            "orientation": "horizontal",
            "style": "IPY_MODEL_b3c0c3c2d8d44d9aba0b47738ca9baec",
            "value": 102530333
          }
        },
        "bd5c913dd8fb40f6b6dfa104dcb96388": {
          "model_module": "@jupyter-widgets/controls",
          "model_name": "HTMLModel",
          "model_module_version": "1.5.0",
          "state": {
            "_dom_classes": [],
            "_model_module": "@jupyter-widgets/controls",
            "_model_module_version": "1.5.0",
            "_model_name": "HTMLModel",
            "_view_count": null,
            "_view_module": "@jupyter-widgets/controls",
            "_view_module_version": "1.5.0",
            "_view_name": "HTMLView",
            "description": "",
            "description_tooltip": null,
            "layout": "IPY_MODEL_4d73515be82943549b1a7a022f2f9140",
            "placeholder": "​",
            "style": "IPY_MODEL_cccc16aca3d44caf9b9f118a58b5e9d9",
            "value": " 97.8M/97.8M [00:01&lt;00:00, 75.7MB/s]"
          }
        },
        "967e8e4a5ad749c09513bafa7319e8f1": {
          "model_module": "@jupyter-widgets/base",
          "model_name": "LayoutModel",
          "model_module_version": "1.2.0",
          "state": {
            "_model_module": "@jupyter-widgets/base",
            "_model_module_version": "1.2.0",
            "_model_name": "LayoutModel",
            "_view_count": null,
            "_view_module": "@jupyter-widgets/base",
            "_view_module_version": "1.2.0",
            "_view_name": "LayoutView",
            "align_content": null,
            "align_items": null,
            "align_self": null,
            "border": null,
            "bottom": null,
            "display": null,
            "flex": null,
            "flex_flow": null,
            "grid_area": null,
            "grid_auto_columns": null,
            "grid_auto_flow": null,
            "grid_auto_rows": null,
            "grid_column": null,
            "grid_gap": null,
            "grid_row": null,
            "grid_template_areas": null,
            "grid_template_columns": null,
            "grid_template_rows": null,
            "height": null,
            "justify_content": null,
            "justify_items": null,
            "left": null,
            "margin": null,
            "max_height": null,
            "max_width": null,
            "min_height": null,
            "min_width": null,
            "object_fit": null,
            "object_position": null,
            "order": null,
            "overflow": null,
            "overflow_x": null,
            "overflow_y": null,
            "padding": null,
            "right": null,
            "top": null,
            "visibility": null,
            "width": null
          }
        },
        "07a98672f0914e1987410c9e50105339": {
          "model_module": "@jupyter-widgets/base",
          "model_name": "LayoutModel",
          "model_module_version": "1.2.0",
          "state": {
            "_model_module": "@jupyter-widgets/base",
            "_model_module_version": "1.2.0",
            "_model_name": "LayoutModel",
            "_view_count": null,
            "_view_module": "@jupyter-widgets/base",
            "_view_module_version": "1.2.0",
            "_view_name": "LayoutView",
            "align_content": null,
            "align_items": null,
            "align_self": null,
            "border": null,
            "bottom": null,
            "display": null,
            "flex": null,
            "flex_flow": null,
            "grid_area": null,
            "grid_auto_columns": null,
            "grid_auto_flow": null,
            "grid_auto_rows": null,
            "grid_column": null,
            "grid_gap": null,
            "grid_row": null,
            "grid_template_areas": null,
            "grid_template_columns": null,
            "grid_template_rows": null,
            "height": null,
            "justify_content": null,
            "justify_items": null,
            "left": null,
            "margin": null,
            "max_height": null,
            "max_width": null,
            "min_height": null,
            "min_width": null,
            "object_fit": null,
            "object_position": null,
            "order": null,
            "overflow": null,
            "overflow_x": null,
            "overflow_y": null,
            "padding": null,
            "right": null,
            "top": null,
            "visibility": null,
            "width": null
          }
        },
        "014430f57eaa4d009e8c59bd04069264": {
          "model_module": "@jupyter-widgets/controls",
          "model_name": "DescriptionStyleModel",
          "model_module_version": "1.5.0",
          "state": {
            "_model_module": "@jupyter-widgets/controls",
            "_model_module_version": "1.5.0",
            "_model_name": "DescriptionStyleModel",
            "_view_count": null,
            "_view_module": "@jupyter-widgets/base",
            "_view_module_version": "1.2.0",
            "_view_name": "StyleView",
            "description_width": ""
          }
        },
        "37e09ea968784fb0a7ca8d476457f488": {
          "model_module": "@jupyter-widgets/base",
          "model_name": "LayoutModel",
          "model_module_version": "1.2.0",
          "state": {
            "_model_module": "@jupyter-widgets/base",
            "_model_module_version": "1.2.0",
            "_model_name": "LayoutModel",
            "_view_count": null,
            "_view_module": "@jupyter-widgets/base",
            "_view_module_version": "1.2.0",
            "_view_name": "LayoutView",
            "align_content": null,
            "align_items": null,
            "align_self": null,
            "border": null,
            "bottom": null,
            "display": null,
            "flex": null,
            "flex_flow": null,
            "grid_area": null,
            "grid_auto_columns": null,
            "grid_auto_flow": null,
            "grid_auto_rows": null,
            "grid_column": null,
            "grid_gap": null,
            "grid_row": null,
            "grid_template_areas": null,
            "grid_template_columns": null,
            "grid_template_rows": null,
            "height": null,
            "justify_content": null,
            "justify_items": null,
            "left": null,
            "margin": null,
            "max_height": null,
            "max_width": null,
            "min_height": null,
            "min_width": null,
            "object_fit": null,
            "object_position": null,
            "order": null,
            "overflow": null,
            "overflow_x": null,
            "overflow_y": null,
            "padding": null,
            "right": null,
            "top": null,
            "visibility": null,
            "width": null
          }
        },
        "b3c0c3c2d8d44d9aba0b47738ca9baec": {
          "model_module": "@jupyter-widgets/controls",
          "model_name": "ProgressStyleModel",
          "model_module_version": "1.5.0",
          "state": {
            "_model_module": "@jupyter-widgets/controls",
            "_model_module_version": "1.5.0",
            "_model_name": "ProgressStyleModel",
            "_view_count": null,
            "_view_module": "@jupyter-widgets/base",
            "_view_module_version": "1.2.0",
            "_view_name": "StyleView",
            "bar_color": null,
            "description_width": ""
          }
        },
        "4d73515be82943549b1a7a022f2f9140": {
          "model_module": "@jupyter-widgets/base",
          "model_name": "LayoutModel",
          "model_module_version": "1.2.0",
          "state": {
            "_model_module": "@jupyter-widgets/base",
            "_model_module_version": "1.2.0",
            "_model_name": "LayoutModel",
            "_view_count": null,
            "_view_module": "@jupyter-widgets/base",
            "_view_module_version": "1.2.0",
            "_view_name": "LayoutView",
            "align_content": null,
            "align_items": null,
            "align_self": null,
            "border": null,
            "bottom": null,
            "display": null,
            "flex": null,
            "flex_flow": null,
            "grid_area": null,
            "grid_auto_columns": null,
            "grid_auto_flow": null,
            "grid_auto_rows": null,
            "grid_column": null,
            "grid_gap": null,
            "grid_row": null,
            "grid_template_areas": null,
            "grid_template_columns": null,
            "grid_template_rows": null,
            "height": null,
            "justify_content": null,
            "justify_items": null,
            "left": null,
            "margin": null,
            "max_height": null,
            "max_width": null,
            "min_height": null,
            "min_width": null,
            "object_fit": null,
            "object_position": null,
            "order": null,
            "overflow": null,
            "overflow_x": null,
            "overflow_y": null,
            "padding": null,
            "right": null,
            "top": null,
            "visibility": null,
            "width": null
          }
        },
        "cccc16aca3d44caf9b9f118a58b5e9d9": {
          "model_module": "@jupyter-widgets/controls",
          "model_name": "DescriptionStyleModel",
          "model_module_version": "1.5.0",
          "state": {
            "_model_module": "@jupyter-widgets/controls",
            "_model_module_version": "1.5.0",
            "_model_name": "DescriptionStyleModel",
            "_view_count": null,
            "_view_module": "@jupyter-widgets/base",
            "_view_module_version": "1.2.0",
            "_view_name": "StyleView",
            "description_width": ""
          }
        },
        "5f71b8b4fd424988b908d2018d77ecc8": {
          "model_module": "@jupyter-widgets/controls",
          "model_name": "HBoxModel",
          "model_module_version": "1.5.0",
          "state": {
            "_dom_classes": [],
            "_model_module": "@jupyter-widgets/controls",
            "_model_module_version": "1.5.0",
            "_model_name": "HBoxModel",
            "_view_count": null,
            "_view_module": "@jupyter-widgets/controls",
            "_view_module_version": "1.5.0",
            "_view_name": "HBoxView",
            "box_style": "",
            "children": [
              "IPY_MODEL_62b3d3f16ed44e17ad0efb8d4547b057",
              "IPY_MODEL_4a6a61c846d8435682df3f749e543f50",
              "IPY_MODEL_ce591d9935e74bfe8a550218fb8ac1e7"
            ],
            "layout": "IPY_MODEL_941f2955860c4d6485dd3c0023c81840"
          }
        },
        "62b3d3f16ed44e17ad0efb8d4547b057": {
          "model_module": "@jupyter-widgets/controls",
          "model_name": "HTMLModel",
          "model_module_version": "1.5.0",
          "state": {
            "_dom_classes": [],
            "_model_module": "@jupyter-widgets/controls",
            "_model_module_version": "1.5.0",
            "_model_name": "HTMLModel",
            "_view_count": null,
            "_view_module": "@jupyter-widgets/controls",
            "_view_module_version": "1.5.0",
            "_view_name": "HTMLView",
            "description": "",
            "description_tooltip": null,
            "layout": "IPY_MODEL_6720d31a6df64410a29af88afd5553a3",
            "placeholder": "​",
            "style": "IPY_MODEL_608a9265dbd248518e5c54ea24393758",
            "value": "Downloading: 100%"
          }
        },
        "4a6a61c846d8435682df3f749e543f50": {
          "model_module": "@jupyter-widgets/controls",
          "model_name": "FloatProgressModel",
          "model_module_version": "1.5.0",
          "state": {
            "_dom_classes": [],
            "_model_module": "@jupyter-widgets/controls",
            "_model_module_version": "1.5.0",
            "_model_name": "FloatProgressModel",
            "_view_count": null,
            "_view_module": "@jupyter-widgets/controls",
            "_view_module_version": "1.5.0",
            "_view_name": "ProgressView",
            "bar_style": "success",
            "description": "",
            "description_tooltip": null,
            "layout": "IPY_MODEL_adb0096387684e0c83bb1e79c6b78513",
            "max": 479,
            "min": 0,
            "orientation": "horizontal",
            "style": "IPY_MODEL_2661e9c67f7740cfb92bd51247c32e4f",
            "value": 479
          }
        },
        "ce591d9935e74bfe8a550218fb8ac1e7": {
          "model_module": "@jupyter-widgets/controls",
          "model_name": "HTMLModel",
          "model_module_version": "1.5.0",
          "state": {
            "_dom_classes": [],
            "_model_module": "@jupyter-widgets/controls",
            "_model_module_version": "1.5.0",
            "_model_name": "HTMLModel",
            "_view_count": null,
            "_view_module": "@jupyter-widgets/controls",
            "_view_module_version": "1.5.0",
            "_view_name": "HTMLView",
            "description": "",
            "description_tooltip": null,
            "layout": "IPY_MODEL_86f3f165779d435a897a44de90fa4de8",
            "placeholder": "​",
            "style": "IPY_MODEL_1ca17dece0fe4609a2e1366305eaa6b2",
            "value": " 479/479 [00:00&lt;00:00, 6.27kB/s]"
          }
        },
        "941f2955860c4d6485dd3c0023c81840": {
          "model_module": "@jupyter-widgets/base",
          "model_name": "LayoutModel",
          "model_module_version": "1.2.0",
          "state": {
            "_model_module": "@jupyter-widgets/base",
            "_model_module_version": "1.2.0",
            "_model_name": "LayoutModel",
            "_view_count": null,
            "_view_module": "@jupyter-widgets/base",
            "_view_module_version": "1.2.0",
            "_view_name": "LayoutView",
            "align_content": null,
            "align_items": null,
            "align_self": null,
            "border": null,
            "bottom": null,
            "display": null,
            "flex": null,
            "flex_flow": null,
            "grid_area": null,
            "grid_auto_columns": null,
            "grid_auto_flow": null,
            "grid_auto_rows": null,
            "grid_column": null,
            "grid_gap": null,
            "grid_row": null,
            "grid_template_areas": null,
            "grid_template_columns": null,
            "grid_template_rows": null,
            "height": null,
            "justify_content": null,
            "justify_items": null,
            "left": null,
            "margin": null,
            "max_height": null,
            "max_width": null,
            "min_height": null,
            "min_width": null,
            "object_fit": null,
            "object_position": null,
            "order": null,
            "overflow": null,
            "overflow_x": null,
            "overflow_y": null,
            "padding": null,
            "right": null,
            "top": null,
            "visibility": null,
            "width": null
          }
        },
        "6720d31a6df64410a29af88afd5553a3": {
          "model_module": "@jupyter-widgets/base",
          "model_name": "LayoutModel",
          "model_module_version": "1.2.0",
          "state": {
            "_model_module": "@jupyter-widgets/base",
            "_model_module_version": "1.2.0",
            "_model_name": "LayoutModel",
            "_view_count": null,
            "_view_module": "@jupyter-widgets/base",
            "_view_module_version": "1.2.0",
            "_view_name": "LayoutView",
            "align_content": null,
            "align_items": null,
            "align_self": null,
            "border": null,
            "bottom": null,
            "display": null,
            "flex": null,
            "flex_flow": null,
            "grid_area": null,
            "grid_auto_columns": null,
            "grid_auto_flow": null,
            "grid_auto_rows": null,
            "grid_column": null,
            "grid_gap": null,
            "grid_row": null,
            "grid_template_areas": null,
            "grid_template_columns": null,
            "grid_template_rows": null,
            "height": null,
            "justify_content": null,
            "justify_items": null,
            "left": null,
            "margin": null,
            "max_height": null,
            "max_width": null,
            "min_height": null,
            "min_width": null,
            "object_fit": null,
            "object_position": null,
            "order": null,
            "overflow": null,
            "overflow_x": null,
            "overflow_y": null,
            "padding": null,
            "right": null,
            "top": null,
            "visibility": null,
            "width": null
          }
        },
        "608a9265dbd248518e5c54ea24393758": {
          "model_module": "@jupyter-widgets/controls",
          "model_name": "DescriptionStyleModel",
          "model_module_version": "1.5.0",
          "state": {
            "_model_module": "@jupyter-widgets/controls",
            "_model_module_version": "1.5.0",
            "_model_name": "DescriptionStyleModel",
            "_view_count": null,
            "_view_module": "@jupyter-widgets/base",
            "_view_module_version": "1.2.0",
            "_view_name": "StyleView",
            "description_width": ""
          }
        },
        "adb0096387684e0c83bb1e79c6b78513": {
          "model_module": "@jupyter-widgets/base",
          "model_name": "LayoutModel",
          "model_module_version": "1.2.0",
          "state": {
            "_model_module": "@jupyter-widgets/base",
            "_model_module_version": "1.2.0",
            "_model_name": "LayoutModel",
            "_view_count": null,
            "_view_module": "@jupyter-widgets/base",
            "_view_module_version": "1.2.0",
            "_view_name": "LayoutView",
            "align_content": null,
            "align_items": null,
            "align_self": null,
            "border": null,
            "bottom": null,
            "display": null,
            "flex": null,
            "flex_flow": null,
            "grid_area": null,
            "grid_auto_columns": null,
            "grid_auto_flow": null,
            "grid_auto_rows": null,
            "grid_column": null,
            "grid_gap": null,
            "grid_row": null,
            "grid_template_areas": null,
            "grid_template_columns": null,
            "grid_template_rows": null,
            "height": null,
            "justify_content": null,
            "justify_items": null,
            "left": null,
            "margin": null,
            "max_height": null,
            "max_width": null,
            "min_height": null,
            "min_width": null,
            "object_fit": null,
            "object_position": null,
            "order": null,
            "overflow": null,
            "overflow_x": null,
            "overflow_y": null,
            "padding": null,
            "right": null,
            "top": null,
            "visibility": null,
            "width": null
          }
        },
        "2661e9c67f7740cfb92bd51247c32e4f": {
          "model_module": "@jupyter-widgets/controls",
          "model_name": "ProgressStyleModel",
          "model_module_version": "1.5.0",
          "state": {
            "_model_module": "@jupyter-widgets/controls",
            "_model_module_version": "1.5.0",
            "_model_name": "ProgressStyleModel",
            "_view_count": null,
            "_view_module": "@jupyter-widgets/base",
            "_view_module_version": "1.2.0",
            "_view_name": "StyleView",
            "bar_color": null,
            "description_width": ""
          }
        },
        "86f3f165779d435a897a44de90fa4de8": {
          "model_module": "@jupyter-widgets/base",
          "model_name": "LayoutModel",
          "model_module_version": "1.2.0",
          "state": {
            "_model_module": "@jupyter-widgets/base",
            "_model_module_version": "1.2.0",
            "_model_name": "LayoutModel",
            "_view_count": null,
            "_view_module": "@jupyter-widgets/base",
            "_view_module_version": "1.2.0",
            "_view_name": "LayoutView",
            "align_content": null,
            "align_items": null,
            "align_self": null,
            "border": null,
            "bottom": null,
            "display": null,
            "flex": null,
            "flex_flow": null,
            "grid_area": null,
            "grid_auto_columns": null,
            "grid_auto_flow": null,
            "grid_auto_rows": null,
            "grid_column": null,
            "grid_gap": null,
            "grid_row": null,
            "grid_template_areas": null,
            "grid_template_columns": null,
            "grid_template_rows": null,
            "height": null,
            "justify_content": null,
            "justify_items": null,
            "left": null,
            "margin": null,
            "max_height": null,
            "max_width": null,
            "min_height": null,
            "min_width": null,
            "object_fit": null,
            "object_position": null,
            "order": null,
            "overflow": null,
            "overflow_x": null,
            "overflow_y": null,
            "padding": null,
            "right": null,
            "top": null,
            "visibility": null,
            "width": null
          }
        },
        "1ca17dece0fe4609a2e1366305eaa6b2": {
          "model_module": "@jupyter-widgets/controls",
          "model_name": "DescriptionStyleModel",
          "model_module_version": "1.5.0",
          "state": {
            "_model_module": "@jupyter-widgets/controls",
            "_model_module_version": "1.5.0",
            "_model_name": "DescriptionStyleModel",
            "_view_count": null,
            "_view_module": "@jupyter-widgets/base",
            "_view_module_version": "1.2.0",
            "_view_name": "StyleView",
            "description_width": ""
          }
        },
        "a7eb70303db441a486a0ed1147af17f8": {
          "model_module": "@jupyter-widgets/controls",
          "model_name": "HBoxModel",
          "model_module_version": "1.5.0",
          "state": {
            "_dom_classes": [],
            "_model_module": "@jupyter-widgets/controls",
            "_model_module_version": "1.5.0",
            "_model_name": "HBoxModel",
            "_view_count": null,
            "_view_module": "@jupyter-widgets/controls",
            "_view_module_version": "1.5.0",
            "_view_name": "HBoxView",
            "box_style": "",
            "children": [
              "IPY_MODEL_be6c40ae33af407baf791afb3376326c",
              "IPY_MODEL_f26e5dbc1ef64f53b2e5d3877349343e",
              "IPY_MODEL_327a4c9664da46c2abfafc74e9bddbad"
            ],
            "layout": "IPY_MODEL_dbdc13f702134dc6a5cab5b6f855ee1f"
          }
        },
        "be6c40ae33af407baf791afb3376326c": {
          "model_module": "@jupyter-widgets/controls",
          "model_name": "HTMLModel",
          "model_module_version": "1.5.0",
          "state": {
            "_dom_classes": [],
            "_model_module": "@jupyter-widgets/controls",
            "_model_module_version": "1.5.0",
            "_model_name": "HTMLModel",
            "_view_count": null,
            "_view_module": "@jupyter-widgets/controls",
            "_view_module_version": "1.5.0",
            "_view_name": "HTMLView",
            "description": "",
            "description_tooltip": null,
            "layout": "IPY_MODEL_2d811e6097634867bf09e5c4677dafd9",
            "placeholder": "​",
            "style": "IPY_MODEL_d40c94d82dc040c795467c99f1e7604e",
            "value": "Downloading: 100%"
          }
        },
        "f26e5dbc1ef64f53b2e5d3877349343e": {
          "model_module": "@jupyter-widgets/controls",
          "model_name": "FloatProgressModel",
          "model_module_version": "1.5.0",
          "state": {
            "_dom_classes": [],
            "_model_module": "@jupyter-widgets/controls",
            "_model_module_version": "1.5.0",
            "_model_name": "FloatProgressModel",
            "_view_count": null,
            "_view_module": "@jupyter-widgets/controls",
            "_view_module_version": "1.5.0",
            "_view_name": "ProgressView",
            "bar_style": "success",
            "description": "",
            "description_tooltip": null,
            "layout": "IPY_MODEL_6e294ecfed35483ead8c7ed2a1b156b8",
            "max": 445021143,
            "min": 0,
            "orientation": "horizontal",
            "style": "IPY_MODEL_17d4b06d05d0450c81325981e673b253",
            "value": 445021143
          }
        },
        "327a4c9664da46c2abfafc74e9bddbad": {
          "model_module": "@jupyter-widgets/controls",
          "model_name": "HTMLModel",
          "model_module_version": "1.5.0",
          "state": {
            "_dom_classes": [],
            "_model_module": "@jupyter-widgets/controls",
            "_model_module_version": "1.5.0",
            "_model_name": "HTMLModel",
            "_view_count": null,
            "_view_module": "@jupyter-widgets/controls",
            "_view_module_version": "1.5.0",
            "_view_name": "HTMLView",
            "description": "",
            "description_tooltip": null,
            "layout": "IPY_MODEL_2bf5a9f2e1324efe91bc19be452e4649",
            "placeholder": "​",
            "style": "IPY_MODEL_2ff2a2d1a79b4ecb849b42e43aacf5f1",
            "value": " 445M/445M [00:08&lt;00:00, 57.5MB/s]"
          }
        },
        "dbdc13f702134dc6a5cab5b6f855ee1f": {
          "model_module": "@jupyter-widgets/base",
          "model_name": "LayoutModel",
          "model_module_version": "1.2.0",
          "state": {
            "_model_module": "@jupyter-widgets/base",
            "_model_module_version": "1.2.0",
            "_model_name": "LayoutModel",
            "_view_count": null,
            "_view_module": "@jupyter-widgets/base",
            "_view_module_version": "1.2.0",
            "_view_name": "LayoutView",
            "align_content": null,
            "align_items": null,
            "align_self": null,
            "border": null,
            "bottom": null,
            "display": null,
            "flex": null,
            "flex_flow": null,
            "grid_area": null,
            "grid_auto_columns": null,
            "grid_auto_flow": null,
            "grid_auto_rows": null,
            "grid_column": null,
            "grid_gap": null,
            "grid_row": null,
            "grid_template_areas": null,
            "grid_template_columns": null,
            "grid_template_rows": null,
            "height": null,
            "justify_content": null,
            "justify_items": null,
            "left": null,
            "margin": null,
            "max_height": null,
            "max_width": null,
            "min_height": null,
            "min_width": null,
            "object_fit": null,
            "object_position": null,
            "order": null,
            "overflow": null,
            "overflow_x": null,
            "overflow_y": null,
            "padding": null,
            "right": null,
            "top": null,
            "visibility": null,
            "width": null
          }
        },
        "2d811e6097634867bf09e5c4677dafd9": {
          "model_module": "@jupyter-widgets/base",
          "model_name": "LayoutModel",
          "model_module_version": "1.2.0",
          "state": {
            "_model_module": "@jupyter-widgets/base",
            "_model_module_version": "1.2.0",
            "_model_name": "LayoutModel",
            "_view_count": null,
            "_view_module": "@jupyter-widgets/base",
            "_view_module_version": "1.2.0",
            "_view_name": "LayoutView",
            "align_content": null,
            "align_items": null,
            "align_self": null,
            "border": null,
            "bottom": null,
            "display": null,
            "flex": null,
            "flex_flow": null,
            "grid_area": null,
            "grid_auto_columns": null,
            "grid_auto_flow": null,
            "grid_auto_rows": null,
            "grid_column": null,
            "grid_gap": null,
            "grid_row": null,
            "grid_template_areas": null,
            "grid_template_columns": null,
            "grid_template_rows": null,
            "height": null,
            "justify_content": null,
            "justify_items": null,
            "left": null,
            "margin": null,
            "max_height": null,
            "max_width": null,
            "min_height": null,
            "min_width": null,
            "object_fit": null,
            "object_position": null,
            "order": null,
            "overflow": null,
            "overflow_x": null,
            "overflow_y": null,
            "padding": null,
            "right": null,
            "top": null,
            "visibility": null,
            "width": null
          }
        },
        "d40c94d82dc040c795467c99f1e7604e": {
          "model_module": "@jupyter-widgets/controls",
          "model_name": "DescriptionStyleModel",
          "model_module_version": "1.5.0",
          "state": {
            "_model_module": "@jupyter-widgets/controls",
            "_model_module_version": "1.5.0",
            "_model_name": "DescriptionStyleModel",
            "_view_count": null,
            "_view_module": "@jupyter-widgets/base",
            "_view_module_version": "1.2.0",
            "_view_name": "StyleView",
            "description_width": ""
          }
        },
        "6e294ecfed35483ead8c7ed2a1b156b8": {
          "model_module": "@jupyter-widgets/base",
          "model_name": "LayoutModel",
          "model_module_version": "1.2.0",
          "state": {
            "_model_module": "@jupyter-widgets/base",
            "_model_module_version": "1.2.0",
            "_model_name": "LayoutModel",
            "_view_count": null,
            "_view_module": "@jupyter-widgets/base",
            "_view_module_version": "1.2.0",
            "_view_name": "LayoutView",
            "align_content": null,
            "align_items": null,
            "align_self": null,
            "border": null,
            "bottom": null,
            "display": null,
            "flex": null,
            "flex_flow": null,
            "grid_area": null,
            "grid_auto_columns": null,
            "grid_auto_flow": null,
            "grid_auto_rows": null,
            "grid_column": null,
            "grid_gap": null,
            "grid_row": null,
            "grid_template_areas": null,
            "grid_template_columns": null,
            "grid_template_rows": null,
            "height": null,
            "justify_content": null,
            "justify_items": null,
            "left": null,
            "margin": null,
            "max_height": null,
            "max_width": null,
            "min_height": null,
            "min_width": null,
            "object_fit": null,
            "object_position": null,
            "order": null,
            "overflow": null,
            "overflow_x": null,
            "overflow_y": null,
            "padding": null,
            "right": null,
            "top": null,
            "visibility": null,
            "width": null
          }
        },
        "17d4b06d05d0450c81325981e673b253": {
          "model_module": "@jupyter-widgets/controls",
          "model_name": "ProgressStyleModel",
          "model_module_version": "1.5.0",
          "state": {
            "_model_module": "@jupyter-widgets/controls",
            "_model_module_version": "1.5.0",
            "_model_name": "ProgressStyleModel",
            "_view_count": null,
            "_view_module": "@jupyter-widgets/base",
            "_view_module_version": "1.2.0",
            "_view_name": "StyleView",
            "bar_color": null,
            "description_width": ""
          }
        },
        "2bf5a9f2e1324efe91bc19be452e4649": {
          "model_module": "@jupyter-widgets/base",
          "model_name": "LayoutModel",
          "model_module_version": "1.2.0",
          "state": {
            "_model_module": "@jupyter-widgets/base",
            "_model_module_version": "1.2.0",
            "_model_name": "LayoutModel",
            "_view_count": null,
            "_view_module": "@jupyter-widgets/base",
            "_view_module_version": "1.2.0",
            "_view_name": "LayoutView",
            "align_content": null,
            "align_items": null,
            "align_self": null,
            "border": null,
            "bottom": null,
            "display": null,
            "flex": null,
            "flex_flow": null,
            "grid_area": null,
            "grid_auto_columns": null,
            "grid_auto_flow": null,
            "grid_auto_rows": null,
            "grid_column": null,
            "grid_gap": null,
            "grid_row": null,
            "grid_template_areas": null,
            "grid_template_columns": null,
            "grid_template_rows": null,
            "height": null,
            "justify_content": null,
            "justify_items": null,
            "left": null,
            "margin": null,
            "max_height": null,
            "max_width": null,
            "min_height": null,
            "min_width": null,
            "object_fit": null,
            "object_position": null,
            "order": null,
            "overflow": null,
            "overflow_x": null,
            "overflow_y": null,
            "padding": null,
            "right": null,
            "top": null,
            "visibility": null,
            "width": null
          }
        },
        "2ff2a2d1a79b4ecb849b42e43aacf5f1": {
          "model_module": "@jupyter-widgets/controls",
          "model_name": "DescriptionStyleModel",
          "model_module_version": "1.5.0",
          "state": {
            "_model_module": "@jupyter-widgets/controls",
            "_model_module_version": "1.5.0",
            "_model_name": "DescriptionStyleModel",
            "_view_count": null,
            "_view_module": "@jupyter-widgets/base",
            "_view_module_version": "1.2.0",
            "_view_name": "StyleView",
            "description_width": ""
          }
        }
      }
    }
  },
  "nbformat": 4,
  "nbformat_minor": 0
}