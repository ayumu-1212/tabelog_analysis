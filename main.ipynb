{
  "cells": [
    {
      "cell_type": "markdown",
      "metadata": {
        "id": "view-in-github",
        "colab_type": "text"
      },
      "source": [
        "<a href=\"https://colab.research.google.com/github/ayumu-1212/tabelog_analysis/blob/main/main.ipynb\" target=\"_parent\"><img src=\"https://colab.research.google.com/assets/colab-badge.svg\" alt=\"Open In Colab\"/></a>"
      ]
    },
    {
      "cell_type": "code",
      "execution_count": 1,
      "metadata": {
        "id": "VpGLFm20CH6h"
      },
      "outputs": [],
      "source": [
        "import os\n",
        "import numpy as np\n",
        "import matplotlib.pyplot as plt\n",
        "import PIL\n",
        "import torch\n",
        "import torchvision\n",
        "from torchvision import models\n",
        "import torch.nn as nn"
      ]
    },
    {
      "cell_type": "code",
      "execution_count": 2,
      "metadata": {
        "colab": {
          "base_uri": "https://localhost:8080/"
        },
        "id": "1IxvB-WHlhQZ",
        "outputId": "b4f831af-294f-4c38-bce1-168d0594bc86"
      },
      "outputs": [
        {
          "output_type": "stream",
          "name": "stdout",
          "text": [
            "Drive already mounted at /content/drive; to attempt to forcibly remount, call drive.mount(\"/content/drive\", force_remount=True).\n"
          ]
        }
      ],
      "source": [
        "# google driveのマウント\n",
        "from google.colab import drive\n",
        "drive.mount('/content/drive')"
      ]
    },
    {
      "cell_type": "code",
      "execution_count": 3,
      "metadata": {
        "id": "AUUeKQ-wT4NV"
      },
      "outputs": [],
      "source": [
        "# プログレスバー導入\n",
        "from tqdm import tqdm\n",
        "import time"
      ]
    },
    {
      "cell_type": "code",
      "execution_count": 27,
      "metadata": {
        "id": "wycxMBf8FBYw"
      },
      "outputs": [],
      "source": [
        "# 標準化・正規化ライブラリ\n",
        "from sklearn.preprocessing import StandardScaler\n",
        "from sklearn.preprocessing import MinMaxScaler\n",
        "\n",
        "# 店舗ごとに画像を読み込むように設定\n",
        "# 標準化検討\n",
        "class MyDataset(torch.utils.data.Dataset):\n",
        "    def __init__(self, score_path, transform=None):\n",
        "        imgs = []\n",
        "        distances = []\n",
        "        scores = []\n",
        "        dinner_prices = []\n",
        "\n",
        "        # 標準化・正規化のクラスを定義\n",
        "        ss_score = StandardScaler()\n",
        "        ms_score = MinMaxScaler()\n",
        "        ss_distance = StandardScaler()\n",
        "        ms_distance = MinMaxScaler()\n",
        "        ss_dinner = StandardScaler()\n",
        "        ms_dinner = MinMaxScaler()\n",
        "\n",
        "        price_list = {\n",
        "            \"-\":0,\n",
        "            \"～￥999\":500,\n",
        "            \"￥1,000～￥1,999\":1500,\n",
        "            \"￥2,000～￥2,999\":2500,\n",
        "            \"￥3,000～￥3,999\":3500,\n",
        "            \"￥4,000～￥4,999\":4500,\n",
        "            \"￥5,000～￥5,999\":5500,\n",
        "            \"￥6,000～￥7,999\":7000,\n",
        "            \"￥8,000～￥9,999\":9000,\n",
        "            \"￥10,000～￥14,999\":12500,\n",
        "            \"￥15,000～￥19,999\":17500,\n",
        "            \"￥20,000～￥29,999\":25000,\n",
        "            \"￥30,000～￥39,999\":35000,\n",
        "            \"￥40,000～￥49,999\":45000,\n",
        "            \"￥50,000～￥59,999\":55000,\n",
        "            \"￥60,000～￥79,999\":70000,\n",
        "            \"￥80,000～￥99,999\":90000,\n",
        "            \"￥100,000～\":120000\n",
        "        }\n",
        "        \n",
        "        with open (score_path, 'r') as infh:\n",
        "            header = next(infh)\n",
        "            for line in infh:\n",
        "                d = line.replace('\\n', \"\").split(\"\\t\")\n",
        "                # 画像3枚\n",
        "                three_imgs = []\n",
        "                three_imgs.append(os.path.join(os.path.dirname(score_path), d[0]))\n",
        "                three_imgs.append(os.path.join(os.path.dirname(score_path), d[1]))\n",
        "                three_imgs.append(os.path.join(os.path.dirname(score_path), d[2]))\n",
        "                imgs.append(three_imgs)\n",
        "\n",
        "                # 最寄りまでの距離\n",
        "                distances.append(int(d[6]))\n",
        "\n",
        "                # 夜の値段帯\n",
        "                dinner_prices.append(int(price_list[d[7]]))\n",
        "                \n",
        "                # スコア\n",
        "                if d[3] == '':\n",
        "                    scores.append(float(0))\n",
        "                else:\n",
        "                    scores.append(float(d[3]))\n",
        "        \n",
        "        self.imgs = imgs\n",
        "\n",
        "        scores = torch.from_numpy(np.array(scores)).float().view(-1, 1)\n",
        "        scores = ss_score.fit_transform(scores) #fit_transformを用いて、特徴量の平均値と標準化を計算してから特徴量のスケール変換を行う\n",
        "        scores = ms_score.fit_transform(scores) #特徴量の最大値と最小値を計算し変換\n",
        "        self.scores = torch.from_numpy(np.array(scores)).to(torch.float32).view(-1, 1)\n",
        "\n",
        "        distances = torch.from_numpy(np.array(distances)).float().view(-1, 1)\n",
        "        distances = ss_distance.fit_transform(distances) #fit_transformを用いて、特徴量の平均値と標準化を計算してから特徴量のスケール変換を行う\n",
        "        distances = ms_distance.fit_transform(distances) #特徴量の最大値と最小値を計算し変換\n",
        "        self.distances = torch.from_numpy(np.array(distances)).to(torch.float32).view(-1, 1)\n",
        "\n",
        "        dinner_prices = torch.from_numpy(np.array(dinner_prices)).float().view(-1, 1)\n",
        "        dinner_prices = ss_dinner.fit_transform(dinner_prices) #fit_transformを用いて、特徴量の平均値と標準化を計算してから特徴量のスケール変換を行う\n",
        "        dinner_prices = ms_dinner.fit_transform(dinner_prices) #特徴量の最大値と最小値を計算し変換\n",
        "        self.dinner_prices = torch.from_numpy(np.array(dinner_prices)).to(torch.float32).view(-1, 1)\n",
        "        \n",
        "        self.ss_score = ss_score\n",
        "        self.ms_score = ms_score\n",
        "        \n",
        "        self.transform = transform\n",
        "        \n",
        "    def __len__(self):\n",
        "        return len(self.scores)\n",
        "    \n",
        "    def __getitem__(self, i):\n",
        "        img0 = PIL.Image.open(self.imgs[i][0]).convert(\"RGB\")\n",
        "        img1 = PIL.Image.open(self.imgs[i][1]).convert(\"RGB\")\n",
        "        img2 = PIL.Image.open(self.imgs[i][2]).convert(\"RGB\")\n",
        "        if self.transform is not None:\n",
        "            img0 = self.transform(img0)\n",
        "            img1 = self.transform(img1)\n",
        "            img2 = self.transform(img2)\n",
        "            \n",
        "        return [img0, img1, img2, self.distances[i], self.dinner_prices[i]], self.scores[i]"
      ]
    },
    {
      "cell_type": "code",
      "execution_count": 28,
      "metadata": {
        "id": "aHuMY1YMfpRV"
      },
      "outputs": [],
      "source": [
        "from torchvision.transforms.transforms import Resize\n",
        "normalize = torchvision.transforms.Normalize(\n",
        "        mean=[0.485, 0.456, 0.406], std=[0.229, 0.224, 0.225]\n",
        ")\n",
        "transform = torchvision.transforms.Compose([\n",
        "    torchvision.transforms.Resize(224),\n",
        "    torchvision.transforms.ToTensor(),\n",
        "    normalize\n",
        "])\n",
        "\n",
        "data_dir = \"./drive/MyDrive/Colab Notebooks/CATechAccel/data/train_scores_20220306211034.tsv\"\n",
        "full_dataset = MyDataset(data_dir, transform=transform)"
      ]
    },
    {
      "cell_type": "markdown",
      "source": [
        "# 標準化・正規化ライブラリ\n",
        "from sklearn.preprocessing import StandardScaler\n",
        "from sklearn.preprocessing import MinMaxScaler\n",
        "\n",
        "# 標準化・正規化のクラスを定義\n",
        "ss = StandardScaler()\n",
        "ms = MinMaxScaler()\n",
        " \n",
        "#fit_transformを用いて、特徴量の平均値と標準化を計算してから特徴量のスケール変換を行う\n",
        "full_dataset.y = ss.fit_transform(full_dataset.y)\n",
        "\n",
        "#特徴量の最大値と最小値を計算し変換\n",
        "full_dataset.y = ms.fit_transform(full_dataset.y)\n",
        "full_dataset.y = torch.from_numpy(full_dataset.y).to(torch.float32)"
      ],
      "metadata": {
        "id": "kt7sz40dpUZF"
      }
    },
    {
      "cell_type": "code",
      "source": [
        "#　店舗ごとに分けられるように\n",
        "train_ratio = 0.8\n",
        "train_size = int(train_ratio * len(full_dataset))\n",
        "valid_size = len(full_dataset) - train_size\n",
        "\n",
        "train_dataset, valid_dataset = torch.utils.data.random_split(\n",
        "    full_dataset, [train_size, valid_size]\n",
        ")\n",
        "\n",
        "# # print(f\"full: {len(full_dataset)} -> train: {len(train_dataset)}, test: {len(val_dataset)}\")\n",
        "train_loader = torch.utils.data.DataLoader(train_dataset, batch_size=64, shuffle=True, num_workers=2)\n",
        "valid_loader = torch.utils.data.DataLoader(valid_dataset, batch_size=64, shuffle=False, num_workers=2)"
      ],
      "metadata": {
        "id": "3AGa37H9pY2_"
      },
      "execution_count": 29,
      "outputs": []
    },
    {
      "cell_type": "code",
      "source": [
        "# # 1店舗(3画像)1スコアでの出力\n",
        "# arch = \"resnet50\"\n",
        "# resnet_model = models.__dict__[arch](pretrained=True)\n",
        "\n",
        "# # 最後のfc層を削除（Identity()に変更）\n",
        "# resnet_model.fc = nn.Identity()\n",
        "\n",
        "# for p in resnet_model.parameters(): \n",
        "# #   print(\"p:{}\\n\".format(p))\n",
        "#   p.requires_grad=False"
      ],
      "metadata": {
        "id": "1cZWWnWEwH3y"
      },
      "execution_count": 30,
      "outputs": []
    },
    {
      "cell_type": "code",
      "source": [
        "# device設定\n",
        "device = torch.device('cuda:0' if torch.cuda.is_available() else 'cpu')"
      ],
      "metadata": {
        "id": "gYWCvI-PNOEd"
      },
      "execution_count": 31,
      "outputs": []
    },
    {
      "cell_type": "markdown",
      "source": [
        "# コードに変換可\n",
        "print(\"各特徴量ごとの平均値は\"+str(ss.mean_))\n",
        "print(\"各特徴量ごとの標準偏差は\"+str(ss.var_))"
      ],
      "metadata": {
        "id": "izpUDRdT1R7w"
      }
    },
    {
      "cell_type": "code",
      "source": [
        "class CustomNet(torch.nn.Module):\n",
        "    \n",
        "    def __init__(self):\n",
        "        super(CustomNet, self).__init__()\n",
        "\n",
        "        self.imgfc1 = torch.nn.Linear(3 * 2048, 1024)\n",
        "        self.imgfc2 = torch.nn.Linear(1024, 1024)\n",
        "        self.imgfc3 = torch.nn.Linear(1024, 1)\n",
        "        self.fc1 = torch.nn.Linear(3, 3)\n",
        "        self.fc2 = torch.nn.Linear(3, 1)\n",
        "        self.sigmoid = torch.nn.Sigmoid()\n",
        "\n",
        "        # resnetの定義\n",
        "        arch = \"resnet50\"\n",
        "        resnet_model = models.__dict__[arch](pretrained=True)\n",
        "        resnet_model.fc = nn.Identity()\n",
        "        for p in resnet_model.parameters():\n",
        "            p.requires_grad=False\n",
        "        self.resnet = resnet_model.to(device)\n",
        "\n",
        "\n",
        "    def imgs_features(self, imgs):\n",
        "        img0 = self.resnet(imgs[0])\n",
        "        img1 = self.resnet(imgs[1])\n",
        "        img2 = self.resnet(imgs[2])\n",
        "        imgs = torch.stack((img0, img1, img2), 1)\n",
        "\n",
        "        imgs = imgs.view(-1, 3 * 2048) # 多次元から1次元に無理やり戻しすぎ\n",
        "        imgs = self.imgfc1(imgs)\n",
        "        imgs = self.imgfc2(imgs)\n",
        "        imgs = self.imgfc3(imgs)\n",
        "        # sigmoid関数を使って0 - 1の値に変換する\n",
        "        imgs = self.sigmoid(imgs)\n",
        "        return imgs\n",
        "        \n",
        "    def forward(self, img0, img1, img2, distance, dinner_price):\n",
        "        # distance = inputs[3]\n",
        "        imgs = self.imgs_features([img0, img1, img2])\n",
        "        # print(\"distance.size(): {}, imgs.size(): {}\".format(distance.size(), imgs.size()))\n",
        "        outputs = torch.cat((imgs, distance, dinner_price), 1)\n",
        "        # print(\"outputs.size(): {}\".format(outputs.size()))\n",
        "        # outputs = self.fc1(outputs)\n",
        "        # print(\"outputs.size(): {}\".format(outputs.size()))\n",
        "        # import pdb; pdb.set_trace()\n",
        "        outputs = self.fc2(outputs)\n",
        "        # print(\"outputs.size(): {}\".format(outputs.size()))\n",
        "\n",
        "        # これいるかな、？\n",
        "        outputs = self.sigmoid(outputs)\n",
        "        \n",
        "        return outputs\n",
        "\n",
        "custom_model = CustomNet()\n",
        "custom_model = custom_model.to(device)"
      ],
      "metadata": {
        "id": "UQ7RC2OmVUdI"
      },
      "execution_count": 46,
      "outputs": []
    },
    {
      "cell_type": "markdown",
      "source": [
        "# test\n",
        "resnet_model.train()\n",
        "\n",
        "data = next(iter(train_loader))\n",
        "img0, img1, img2, scores = data\n",
        "scores /= 5\n",
        "img0 = img0.to(device)\n",
        "img1 = img1.to(device)\n",
        "img2 = img2.to(device)\n",
        "scores = scores.to(device)\n",
        "# optimizer.zero_grad()\n",
        "output0 = resnet_model(img0)\n",
        "output1 = resnet_model(img1)\n",
        "output2 = resnet_model(img2)\n",
        "torch.stack((output0, output1, output2), 1).size()"
      ],
      "metadata": {
        "id": "pKvAf6r2D8q_"
      }
    },
    {
      "cell_type": "code",
      "execution_count": 44,
      "metadata": {
        "id": "PqoDfe5Uhqso"
      },
      "outputs": [],
      "source": [
        "optimizer = torch.optim.SGD(custom_model.parameters(), lr=0.01)\n",
        "# criterion = torch.nn.MSELoss()\n",
        "\n",
        "class RMSELoss(nn.Module):\n",
        "    def __init__(self, eps=1e-6):\n",
        "        super().__init__()\n",
        "        self.mse = nn.MSELoss()\n",
        "        self.eps = eps\n",
        "        \n",
        "    def forward(self,yhat,y):\n",
        "        loss = torch.sqrt(self.mse(yhat,y) + self.eps)\n",
        "        return loss\n",
        "\n",
        "criterion = RMSELoss()\n"
      ]
    },
    {
      "cell_type": "code",
      "execution_count": 60,
      "metadata": {
        "id": "6TgDTlJJhvgg"
      },
      "outputs": [],
      "source": [
        "# train_loss = []\n",
        "# valid_loss = []\n",
        "# valid_scores = torch.tensor([]).to(device)\n",
        "# valid_outputs = torch.tensor([]).to(device)\n",
        "\n",
        "# for epoch in tqdm(range(50)):\n",
        "#   # 学習\n",
        "# #  そもそも勾配変化がしないのでなしでいい\n",
        "# #   resnet_model.train()\n",
        "#   custom_model.train()\n",
        "#   running_train_loss = 0.0\n",
        "#   with torch.set_grad_enabled(True):\n",
        "#     for data in train_loader:\n",
        "#       # custom_modelに入れ込む↓\n",
        "#       img0, img1, img2, scores = data\n",
        "#       img0 = img0.to(device)\n",
        "#       img1 = img1.to(device)\n",
        "#       img2 = img2.to(device)\n",
        "#       scores = scores.to(device)\n",
        "#       output0 = resnet_model(img0)\n",
        "#       output1 = resnet_model(img1)\n",
        "#       output2 = resnet_model(img2)\n",
        "#       outputs = torch.stack((output0, output1, output2), 1)\n",
        "      \n",
        "#       outputs = custom_model(outputs)\n",
        "#       # torch.Size([64, 3, 2048])\n",
        "#       loss = criterion(outputs, scores)\n",
        "#     #   print(\"loss.item():{}\\n\".format(loss.item()))\n",
        "#       running_train_loss += loss.item()\n",
        "#       optimizer.zero_grad()\n",
        "#       loss.backward()\n",
        "#       optimizer.step()\n",
        "\n",
        "#     #   print(outputs)\n",
        "\n",
        "#   train_loss.append(running_train_loss / len(train_dataset))\n",
        "  \n",
        "#   # 検証\n",
        "# #   resnet_model.eval()\n",
        "#   custom_model.eval()\n",
        "#   running_valid_loss = 0.0\n",
        "#   with torch.set_grad_enabled(False):\n",
        "#     for data in valid_loader:\n",
        "\n",
        "#       img0, img1, img2, scores = data\n",
        "#       img0 = img0.to(device)\n",
        "#       img1 = img1.to(device)\n",
        "#       img2 = img2.to(device)\n",
        "#       scores = scores.to(device)\n",
        "#       output0 = resnet_model(img0)\n",
        "#       output1 = resnet_model(img1)\n",
        "#       output2 = resnet_model(img2)\n",
        "#       outputs = torch.stack((output0, output1, output2), 1)\n",
        "#       outputs = custom_model(outputs)\n",
        "#       # print(\"loss.item():{}\\n\".format(loss.item()))\n",
        "#       running_valid_loss += loss.item()\n",
        "#       valid_outputs = torch.cat((valid_outputs, outputs), 0)\n",
        "#       valid_scores = torch.cat((valid_scores, scores), 0)\n",
        "\n",
        "\n",
        "#   valid_loss.append(running_valid_loss / len(valid_dataset))\n",
        "# #   print('#epoch:{}\\ttrain loss: {}'.format(epoch, running_train_loss / len(train_loss)))\n",
        "#   print('#epoch:{}\\ttrain loss: {}\\tvalid loss: {}'.format(epoch,\n",
        "#                                                 running_train_loss / len(train_loss), \n",
        "#                                                 running_valid_loss / len(valid_loss)))"
      ]
    },
    {
      "cell_type": "code",
      "source": [
        "train_loss = []\n",
        "valid_loss = []\n",
        "valid_outputs = torch.tensor([]).to(device)\n",
        "valid_scores = torch.tensor([]).to(device)\n",
        "\n",
        "for epoch in tqdm(range(50)):\n",
        "  # 学習\n",
        "  custom_model.train()\n",
        "  running_train_loss = 0.0\n",
        "  with torch.set_grad_enabled(True):\n",
        "    for data in train_loader:\n",
        "      inputs, scores = data\n",
        "      scores = scores.to(device)\n",
        "      for i in range(len(inputs)):\n",
        "          inputs[i] = inputs[i].to(device)\n",
        "    #   inputs = inputs.to(device)\n",
        "      outputs = custom_model(inputs[0], inputs[1], inputs[2], inputs[3], inputs[4])\n",
        "      # torch.Size([64, 3, 2048])\n",
        "      loss = criterion(outputs, scores)\n",
        "    #   print(\"loss.item():{}\\n\".format(loss.item()))\n",
        "      running_train_loss += loss.item()\n",
        "      optimizer.zero_grad()\n",
        "      loss.backward()\n",
        "      optimizer.step()\n",
        "\n",
        "    #   print(outputs)\n",
        "\n",
        "  train_loss.append(running_train_loss / len(train_dataset))\n",
        "  \n",
        "  # 検証\n",
        "  custom_model.eval()\n",
        "  running_valid_loss = 0.0\n",
        "  with torch.set_grad_enabled(False):\n",
        "    for data in valid_loader:\n",
        "      inputs, scores = data\n",
        "      scores = scores.to(device)\n",
        "      for i in range(len(inputs)):\n",
        "          inputs[i] = inputs[i].to(device)\n",
        "      outputs = custom_model(inputs[0], inputs[1], inputs[2], inputs[3], inputs[4])\n",
        "      # print(\"loss.item():{}\\n\".format(loss.item()))\n",
        "      running_valid_loss += loss.item()\n",
        "      valid_outputs = torch.cat((valid_outputs, outputs), 0)\n",
        "      valid_scores = torch.cat((valid_scores, scores), 0)\n",
        "\n",
        "\n",
        "  valid_loss.append(running_valid_loss / len(valid_dataset))\n",
        "#   print('#epoch:{}\\ttrain loss: {}'.format(epoch, running_train_loss / len(train_loss)))\n",
        "  print('#epoch:{}\\ttrain loss: {}\\tvalid loss: {}'.format(epoch,\n",
        "                                                running_train_loss / len(train_loss), \n",
        "                                                running_valid_loss / len(valid_loss)))"
      ],
      "metadata": {
        "colab": {
          "base_uri": "https://localhost:8080/"
        },
        "id": "DDkq9qYirPKK",
        "outputId": "3ef50516-6663-4585-b6ca-c3baab6f8877"
      },
      "execution_count": 47,
      "outputs": [
        {
          "output_type": "stream",
          "name": "stderr",
          "text": [
            "  2%|▏         | 1/50 [00:15<12:38, 15.49s/it]"
          ]
        },
        {
          "output_type": "stream",
          "name": "stdout",
          "text": [
            "#epoch:0\ttrain loss: 3.3019504100084305\tvalid loss: 1.0187886953353882\n"
          ]
        },
        {
          "output_type": "stream",
          "name": "stderr",
          "text": [
            "\r  4%|▍         | 2/50 [00:30<12:14, 15.30s/it]"
          ]
        },
        {
          "output_type": "stream",
          "name": "stdout",
          "text": [
            "#epoch:1\ttrain loss: 1.6415218338370323\tvalid loss: 0.4259505271911621\n"
          ]
        },
        {
          "output_type": "stream",
          "name": "stderr",
          "text": [
            "\r  6%|▌         | 3/50 [00:46<12:04, 15.42s/it]"
          ]
        },
        {
          "output_type": "stream",
          "name": "stdout",
          "text": [
            "#epoch:2\ttrain loss: 1.0954389373461406\tvalid loss: 0.29581371943155926\n"
          ]
        },
        {
          "output_type": "stream",
          "name": "stderr",
          "text": [
            "\r  8%|▊         | 4/50 [01:01<11:49, 15.43s/it]"
          ]
        },
        {
          "output_type": "stream",
          "name": "stdout",
          "text": [
            "#epoch:3\ttrain loss: 0.8233811967074871\tvalid loss: 0.2425500899553299\n"
          ]
        },
        {
          "output_type": "stream",
          "name": "stderr",
          "text": [
            "\r 10%|█         | 5/50 [01:17<11:33, 15.42s/it]"
          ]
        },
        {
          "output_type": "stream",
          "name": "stdout",
          "text": [
            "#epoch:4\ttrain loss: 0.6570615917444229\tvalid loss: 0.17978496551513673\n"
          ]
        },
        {
          "output_type": "stream",
          "name": "stderr",
          "text": [
            "\r 12%|█▏        | 6/50 [01:32<11:21, 15.50s/it]"
          ]
        },
        {
          "output_type": "stream",
          "name": "stdout",
          "text": [
            "#epoch:5\ttrain loss: 0.5498916034897169\tvalid loss: 0.1698052485783895\n"
          ]
        },
        {
          "output_type": "stream",
          "name": "stderr",
          "text": [
            "\r 14%|█▍        | 7/50 [01:48<11:08, 15.54s/it]"
          ]
        },
        {
          "output_type": "stream",
          "name": "stdout",
          "text": [
            "#epoch:6\ttrain loss: 0.4706907080752509\tvalid loss: 0.1363837378365653\n"
          ]
        },
        {
          "output_type": "stream",
          "name": "stderr",
          "text": [
            "\r 16%|█▌        | 8/50 [02:03<10:48, 15.45s/it]"
          ]
        },
        {
          "output_type": "stream",
          "name": "stdout",
          "text": [
            "#epoch:7\ttrain loss: 0.41411539167165756\tvalid loss: 0.13656707108020782\n"
          ]
        },
        {
          "output_type": "stream",
          "name": "stderr",
          "text": [
            "\r 18%|█▊        | 9/50 [02:19<10:32, 15.44s/it]"
          ]
        },
        {
          "output_type": "stream",
          "name": "stdout",
          "text": [
            "#epoch:8\ttrain loss: 0.36512498060862225\tvalid loss: 0.10092188914616902\n"
          ]
        },
        {
          "output_type": "stream",
          "name": "stderr",
          "text": [
            "\r 20%|██        | 10/50 [02:34<10:18, 15.47s/it]"
          ]
        },
        {
          "output_type": "stream",
          "name": "stdout",
          "text": [
            "#epoch:9\ttrain loss: 0.3286741688847542\tvalid loss: 0.08881615996360778\n"
          ]
        },
        {
          "output_type": "stream",
          "name": "stderr",
          "text": [
            "\r 22%|██▏       | 11/50 [02:49<10:03, 15.46s/it]"
          ]
        },
        {
          "output_type": "stream",
          "name": "stdout",
          "text": [
            "#epoch:10\ttrain loss: 0.3008353534069928\tvalid loss: 0.09764797037298029\n"
          ]
        },
        {
          "output_type": "stream",
          "name": "stderr",
          "text": [
            "\r 24%|██▍       | 12/50 [03:05<09:43, 15.37s/it]"
          ]
        },
        {
          "output_type": "stream",
          "name": "stdout",
          "text": [
            "#epoch:11\ttrain loss: 0.27594760184486705\tvalid loss: 0.09035071730613708\n"
          ]
        },
        {
          "output_type": "stream",
          "name": "stderr",
          "text": [
            "\r 26%|██▌       | 13/50 [03:20<09:28, 15.36s/it]"
          ]
        },
        {
          "output_type": "stream",
          "name": "stdout",
          "text": [
            "#epoch:12\ttrain loss: 0.2547942709464293\tvalid loss: 0.08663873489086445\n"
          ]
        },
        {
          "output_type": "stream",
          "name": "stderr",
          "text": [
            "\r 28%|██▊       | 14/50 [03:36<09:16, 15.45s/it]"
          ]
        },
        {
          "output_type": "stream",
          "name": "stdout",
          "text": [
            "#epoch:13\ttrain loss: 0.23570040400539125\tvalid loss: 0.07220797027860369\n"
          ]
        },
        {
          "output_type": "stream",
          "name": "stderr",
          "text": [
            "\r 30%|███       | 15/50 [03:51<08:59, 15.40s/it]"
          ]
        },
        {
          "output_type": "stream",
          "name": "stdout",
          "text": [
            "#epoch:14\ttrain loss: 0.22124245862166086\tvalid loss: 0.07706095377604166\n"
          ]
        },
        {
          "output_type": "stream",
          "name": "stderr",
          "text": [
            "\r 32%|███▏      | 16/50 [04:06<08:45, 15.45s/it]"
          ]
        },
        {
          "output_type": "stream",
          "name": "stdout",
          "text": [
            "#epoch:15\ttrain loss: 0.20703569892793894\tvalid loss: 0.06940315663814545\n"
          ]
        },
        {
          "output_type": "stream",
          "name": "stderr",
          "text": [
            "\r 34%|███▍      | 17/50 [04:22<08:31, 15.49s/it]"
          ]
        },
        {
          "output_type": "stream",
          "name": "stdout",
          "text": [
            "#epoch:16\ttrain loss: 0.19455931204206803\tvalid loss: 0.06157510420855354\n"
          ]
        },
        {
          "output_type": "stream",
          "name": "stderr",
          "text": [
            "\r 36%|███▌      | 18/50 [04:37<08:13, 15.42s/it]"
          ]
        },
        {
          "output_type": "stream",
          "name": "stdout",
          "text": [
            "#epoch:17\ttrain loss: 0.18348537551032174\tvalid loss: 0.05873366859224108\n"
          ]
        },
        {
          "output_type": "stream",
          "name": "stderr",
          "text": [
            "\r 38%|███▊      | 19/50 [04:53<07:58, 15.45s/it]"
          ]
        },
        {
          "output_type": "stream",
          "name": "stdout",
          "text": [
            "#epoch:18\ttrain loss: 0.17374123476053538\tvalid loss: 0.056124982080961526\n"
          ]
        },
        {
          "output_type": "stream",
          "name": "stderr",
          "text": [
            "\r 40%|████      | 20/50 [05:08<07:43, 15.44s/it]"
          ]
        },
        {
          "output_type": "stream",
          "name": "stdout",
          "text": [
            "#epoch:19\ttrain loss: 0.16502681821584703\tvalid loss: 0.05195739269256592\n"
          ]
        },
        {
          "output_type": "stream",
          "name": "stderr",
          "text": [
            "\r 42%|████▏     | 21/50 [05:24<07:30, 15.52s/it]"
          ]
        },
        {
          "output_type": "stream",
          "name": "stdout",
          "text": [
            "#epoch:20\ttrain loss: 0.1575676408551988\tvalid loss: 0.050772848583403085\n"
          ]
        },
        {
          "output_type": "stream",
          "name": "stderr",
          "text": [
            "\r 44%|████▍     | 22/50 [05:40<07:15, 15.54s/it]"
          ]
        },
        {
          "output_type": "stream",
          "name": "stdout",
          "text": [
            "#epoch:21\ttrain loss: 0.15019630234349857\tvalid loss: 0.047199823639609596\n"
          ]
        },
        {
          "output_type": "stream",
          "name": "stderr",
          "text": [
            "\r 46%|████▌     | 23/50 [05:55<06:57, 15.48s/it]"
          ]
        },
        {
          "output_type": "stream",
          "name": "stdout",
          "text": [
            "#epoch:22\ttrain loss: 0.14403707631256268\tvalid loss: 0.04760399072066597\n"
          ]
        },
        {
          "output_type": "stream",
          "name": "stderr",
          "text": [
            "\r 48%|████▊     | 24/50 [06:11<06:44, 15.55s/it]"
          ]
        },
        {
          "output_type": "stream",
          "name": "stdout",
          "text": [
            "#epoch:23\ttrain loss: 0.13724478768805662\tvalid loss: 0.04129608472188314\n"
          ]
        },
        {
          "output_type": "stream",
          "name": "stderr",
          "text": [
            "\r 50%|█████     | 25/50 [06:26<06:27, 15.49s/it]"
          ]
        },
        {
          "output_type": "stream",
          "name": "stdout",
          "text": [
            "#epoch:24\ttrain loss: 0.13259699881076814\tvalid loss: 0.045100951194763185\n"
          ]
        },
        {
          "output_type": "stream",
          "name": "stderr",
          "text": [
            "\r 52%|█████▏    | 26/50 [06:41<06:11, 15.50s/it]"
          ]
        },
        {
          "output_type": "stream",
          "name": "stdout",
          "text": [
            "#epoch:25\ttrain loss: 0.12590986089064524\tvalid loss: 0.030643105506896973\n"
          ]
        },
        {
          "output_type": "stream",
          "name": "stderr",
          "text": [
            "\r 54%|█████▍    | 27/50 [06:57<05:56, 15.51s/it]"
          ]
        },
        {
          "output_type": "stream",
          "name": "stdout",
          "text": [
            "#epoch:26\ttrain loss: 0.1227477154246083\tvalid loss: 0.04127551449669732\n"
          ]
        },
        {
          "output_type": "stream",
          "name": "stderr",
          "text": [
            "\r 56%|█████▌    | 28/50 [07:12<05:39, 15.42s/it]"
          ]
        },
        {
          "output_type": "stream",
          "name": "stdout",
          "text": [
            "#epoch:27\ttrain loss: 0.11791209663663592\tvalid loss: 0.03589185220854623\n"
          ]
        },
        {
          "output_type": "stream",
          "name": "stderr",
          "text": [
            "\r 58%|█████▊    | 29/50 [07:28<05:23, 15.41s/it]"
          ]
        },
        {
          "output_type": "stream",
          "name": "stdout",
          "text": [
            "#epoch:28\ttrain loss: 0.11407006403495526\tvalid loss: 0.037478089332580566\n"
          ]
        },
        {
          "output_type": "stream",
          "name": "stderr",
          "text": [
            "\r 60%|██████    | 30/50 [07:43<05:08, 15.42s/it]"
          ]
        },
        {
          "output_type": "stream",
          "name": "stdout",
          "text": [
            "#epoch:29\ttrain loss: 0.11006468037764232\tvalid loss: 0.03433235883712769\n"
          ]
        },
        {
          "output_type": "stream",
          "name": "stderr",
          "text": [
            "\r 62%|██████▏   | 31/50 [07:58<04:52, 15.40s/it]"
          ]
        },
        {
          "output_type": "stream",
          "name": "stdout",
          "text": [
            "#epoch:30\ttrain loss: 0.10687118672555493\tvalid loss: 0.03567760605965891\n"
          ]
        },
        {
          "output_type": "stream",
          "name": "stderr",
          "text": [
            "\r 64%|██████▍   | 32/50 [08:14<04:38, 15.45s/it]"
          ]
        },
        {
          "output_type": "stream",
          "name": "stdout",
          "text": [
            "#epoch:31\ttrain loss: 0.10266969352960587\tvalid loss: 0.027401939034461975\n"
          ]
        },
        {
          "output_type": "stream",
          "name": "stderr",
          "text": [
            "\r 66%|██████▌   | 33/50 [08:29<04:21, 15.40s/it]"
          ]
        },
        {
          "output_type": "stream",
          "name": "stdout",
          "text": [
            "#epoch:32\ttrain loss: 0.10009943490678613\tvalid loss: 0.030555977965846207\n"
          ]
        },
        {
          "output_type": "stream",
          "name": "stderr",
          "text": [
            "\r 68%|██████▊   | 34/50 [08:45<04:06, 15.39s/it]"
          ]
        },
        {
          "output_type": "stream",
          "name": "stdout",
          "text": [
            "#epoch:33\ttrain loss: 0.09693661375957377\tvalid loss: 0.029709886102115408\n"
          ]
        },
        {
          "output_type": "stream",
          "name": "stderr",
          "text": [
            "\r 70%|███████   | 35/50 [09:00<03:50, 15.39s/it]"
          ]
        },
        {
          "output_type": "stream",
          "name": "stdout",
          "text": [
            "#epoch:34\ttrain loss: 0.09356782351221357\tvalid loss: 0.02278717075075422\n"
          ]
        },
        {
          "output_type": "stream",
          "name": "stderr",
          "text": [
            "\r 72%|███████▏  | 36/50 [09:16<03:36, 15.43s/it]"
          ]
        },
        {
          "output_type": "stream",
          "name": "stdout",
          "text": [
            "#epoch:35\ttrain loss: 0.09177488833665848\tvalid loss: 0.0288656751314799\n"
          ]
        },
        {
          "output_type": "stream",
          "name": "stderr",
          "text": [
            "\r 74%|███████▍  | 37/50 [09:31<03:20, 15.45s/it]"
          ]
        },
        {
          "output_type": "stream",
          "name": "stdout",
          "text": [
            "#epoch:36\ttrain loss: 0.08940034782564318\tvalid loss: 0.029019081914747082\n"
          ]
        },
        {
          "output_type": "stream",
          "name": "stderr",
          "text": [
            "\r 76%|███████▌  | 38/50 [09:46<03:04, 15.40s/it]"
          ]
        },
        {
          "output_type": "stream",
          "name": "stdout",
          "text": [
            "#epoch:37\ttrain loss: 0.08676000253150337\tvalid loss: 0.026583423739985415\n"
          ]
        },
        {
          "output_type": "stream",
          "name": "stderr",
          "text": [
            "\r 78%|███████▊  | 39/50 [10:02<02:49, 15.38s/it]"
          ]
        },
        {
          "output_type": "stream",
          "name": "stdout",
          "text": [
            "#epoch:38\ttrain loss: 0.08490277941410358\tvalid loss: 0.02839190837664482\n"
          ]
        },
        {
          "output_type": "stream",
          "name": "stderr",
          "text": [
            "\r 80%|████████  | 40/50 [10:17<02:33, 15.39s/it]"
          ]
        },
        {
          "output_type": "stream",
          "name": "stdout",
          "text": [
            "#epoch:39\ttrain loss: 0.08247291035950184\tvalid loss: 0.024311698973178864\n"
          ]
        },
        {
          "output_type": "stream",
          "name": "stderr",
          "text": [
            "\r 82%|████████▏ | 41/50 [10:33<02:19, 15.45s/it]"
          ]
        },
        {
          "output_type": "stream",
          "name": "stdout",
          "text": [
            "#epoch:40\ttrain loss: 0.08052627342503245\tvalid loss: 0.025924964648921314\n"
          ]
        },
        {
          "output_type": "stream",
          "name": "stderr",
          "text": [
            "\r 84%|████████▍ | 42/50 [10:48<02:02, 15.36s/it]"
          ]
        },
        {
          "output_type": "stream",
          "name": "stdout",
          "text": [
            "#epoch:41\ttrain loss: 0.07892393782025292\tvalid loss: 0.027508704435257686\n"
          ]
        },
        {
          "output_type": "stream",
          "name": "stderr",
          "text": [
            "\r 86%|████████▌ | 43/50 [11:03<01:47, 15.38s/it]"
          ]
        },
        {
          "output_type": "stream",
          "name": "stdout",
          "text": [
            "#epoch:42\ttrain loss: 0.07663529002389242\tvalid loss: 0.022696522779242938\n"
          ]
        },
        {
          "output_type": "stream",
          "name": "stderr",
          "text": [
            "\r 88%|████████▊ | 44/50 [11:18<01:31, 15.31s/it]"
          ]
        },
        {
          "output_type": "stream",
          "name": "stdout",
          "text": [
            "#epoch:43\ttrain loss: 0.07527342201633887\tvalid loss: 0.024424154650081287\n"
          ]
        },
        {
          "output_type": "stream",
          "name": "stderr",
          "text": [
            "\r 90%|█████████ | 45/50 [11:34<01:16, 15.29s/it]"
          ]
        },
        {
          "output_type": "stream",
          "name": "stdout",
          "text": [
            "#epoch:44\ttrain loss: 0.0736312233739429\tvalid loss: 0.024678177303738065\n"
          ]
        },
        {
          "output_type": "stream",
          "name": "stderr",
          "text": [
            "\r 92%|█████████▏| 46/50 [11:49<01:01, 15.30s/it]"
          ]
        },
        {
          "output_type": "stream",
          "name": "stdout",
          "text": [
            "#epoch:45\ttrain loss: 0.07200003091407858\tvalid loss: 0.02414753126061481\n"
          ]
        },
        {
          "output_type": "stream",
          "name": "stderr",
          "text": [
            "\r 94%|█████████▍| 47/50 [12:04<00:46, 15.37s/it]"
          ]
        },
        {
          "output_type": "stream",
          "name": "stdout",
          "text": [
            "#epoch:46\ttrain loss: 0.07027033351837321\tvalid loss: 0.021444292778664446\n"
          ]
        },
        {
          "output_type": "stream",
          "name": "stderr",
          "text": [
            "\r 96%|█████████▌| 48/50 [12:20<00:30, 15.37s/it]"
          ]
        },
        {
          "output_type": "stream",
          "name": "stdout",
          "text": [
            "#epoch:47\ttrain loss: 0.06877522605160873\tvalid loss: 0.021526843309402466\n"
          ]
        },
        {
          "output_type": "stream",
          "name": "stderr",
          "text": [
            "\r 98%|█████████▊| 49/50 [12:35<00:15, 15.35s/it]"
          ]
        },
        {
          "output_type": "stream",
          "name": "stdout",
          "text": [
            "#epoch:48\ttrain loss: 0.06750604540717844\tvalid loss: 0.022036095054782167\n"
          ]
        },
        {
          "output_type": "stream",
          "name": "stderr",
          "text": [
            "100%|██████████| 50/50 [12:51<00:00, 15.43s/it]"
          ]
        },
        {
          "output_type": "stream",
          "name": "stdout",
          "text": [
            "#epoch:49\ttrain loss: 0.06594640463590622\tvalid loss: 0.019649527072906493\n"
          ]
        },
        {
          "output_type": "stream",
          "name": "stderr",
          "text": [
            "\n"
          ]
        }
      ]
    },
    {
      "cell_type": "code",
      "source": [
        "fig = plt.figure()\n",
        "ax = fig.add_subplot()\n",
        "ax.plot(train_loss, label='train')\n",
        "ax.plot(valid_loss, label='valid')\n",
        "fig.show()"
      ],
      "metadata": {
        "colab": {
          "base_uri": "https://localhost:8080/",
          "height": 265
        },
        "id": "qtbpr3kxR5_n",
        "outputId": "023bd128-73bd-4bca-fc01-4449f5be3d8e"
      },
      "execution_count": 66,
      "outputs": [
        {
          "output_type": "display_data",
          "data": {
            "image/png": "[encoded data removed]",
            "text/plain": [
              "<Figure size 432x288 with 1 Axes>"
            ]
          },
          "metadata": {
            "needs_background": "light"
          }
        }
      ]
    },
    {
      "cell_type": "code",
      "source": [
        "valid_outputs.size()\n",
        "valid_scores.size()"
      ],
      "metadata": {
        "colab": {
          "base_uri": "https://localhost:8080/"
        },
        "id": "XZPaqZhvuS6u",
        "outputId": "3b465d1c-5ba5-43f5-bc86-a2786dec1414"
      },
      "execution_count": 42,
      "outputs": [
        {
          "output_type": "execute_result",
          "data": {
            "text/plain": [
              "torch.Size([10000, 1])"
            ]
          },
          "metadata": {},
          "execution_count": 42
        }
      ]
    },
    {
      "cell_type": "code",
      "source": [
        "fig = plt.figure()\n",
        "ax = fig.add_subplot()\n",
        "\n",
        "# 標準化・正規化を戻す\n",
        "ss = full_dataset.ss_score\n",
        "ms = full_dataset.ms_score\n",
        "plot_outputs = ss.inverse_transform(ms.inverse_transform(valid_outputs.cpu().detach().numpy()))\n",
        "plot_scores = ss.inverse_transform(ms.inverse_transform(valid_scores.cpu().detach().numpy()))\n",
        "\n",
        "from itertools import chain\n",
        "# 相関行列を計算\n",
        "coef = np.corrcoef(list(chain.from_iterable(plot_outputs)), list(chain.from_iterable(plot_scores)))\n",
        "# print(plot_outputs)\n",
        "# fig内でのaxes座標を取得，戻り値はBbox\n",
        "ax_pos = ax.get_position()\n",
        "coef_text = \"Correlation coefficient: \" + str(coef[0][1])\n",
        "# fig内座標でテキストを表示 Bboxは Bbox.x0, Bbox.x1, Bbox.y0, Bbox.y1で座標を取得できる\n",
        "fig.text(ax_pos.x0, ax_pos.y1 + 0.05, coef_text, fontsize='x-large')  \n",
        "\n",
        "ax.scatter(plot_outputs, plot_scores, s=8)\n",
        "fig.show()"
      ],
      "metadata": {
        "colab": {
          "base_uri": "https://localhost:8080/",
          "height": 291
        },
        "id": "nZtazbxDSB8V",
        "outputId": "ff0c9454-5eaa-46a3-d3b0-c87f18ab639f"
      },
      "execution_count": 70,
      "outputs": [
        {
          "output_type": "display_data",
          "data": {
            "image/png": "[encoded data removed]",
            "text/plain": [
              "<Figure size 432x288 with 1 Axes>"
            ]
          },
          "metadata": {
            "needs_background": "light"
          }
        }
      ]
    },
    {
      "cell_type": "markdown",
      "metadata": {
        "id": "aB0i8-xo0Hce"
      },
      "source": [
        "- 重みは更新しない（->p.requires_grad=False）\n",
        "- 回帰問題にするために、out_features=1に設定\n",
        "- dataloaderのときにNormalizeを変更、画像サイズも調整 -> h:224, w:224"
      ]
    },
    {
      "cell_type": "code",
      "execution_count": null,
      "metadata": {
        "id": "-qm2SIc7hL9K"
      },
      "outputs": [],
      "source": [
        "class RegressionNet(torch.nn.Module):\n",
        "    \n",
        "    def __init__(self):\n",
        "        super(RegressionNet, self).__init__()\n",
        "        \n",
        "        self.relu = torch.nn.ReLU()\n",
        "        \n",
        "        self.conv1 = torch.nn.Conv2d(3, 16, 3)\n",
        "        self.pool1 = torch.nn.MaxPool2d(2, 2)\n",
        "        self.conv2 = torch.nn.Conv2d(16, 32, 3)\n",
        "        self.pool2 = torch.nn.MaxPool2d(2, 2)\n",
        "\n",
        "        self.fc1 = torch.nn.Linear(32 * 78 * 78, 1024)\n",
        "        self.fc2 = torch.nn.Linear(1024, 1024)\n",
        "        self.fc3 = torch.nn.Linear(1024, 1)\n",
        "        \n",
        "    def forward(self, x):\n",
        "        # x = torch.nn.functional.relu(self.conv1(x))\n",
        "        # print(torch.Tensor.size(x))\n",
        "        # -> torch.Size([64, 3, 320, 320])\n",
        "        x = self.conv1(x)\n",
        "        # print(torch.Tensor.size(x))\n",
        "        # -> torch.Size([64, 16, 318, 318])\n",
        "        x = self.relu(x)\n",
        "        # print(torch.Tensor.size(x))\n",
        "        # -> torch.Size([64, 16, 318, 318])\n",
        "        x = self.pool1(x)\n",
        "        # print(torch.Tensor.size(x))\n",
        "        # -> torch.Size([64, 16, 159, 159])\n",
        "        # x = torch.nn.functional.relu(self.conv2(x))\n",
        "        x = self.conv2(x)\n",
        "        # print(torch.Tensor.size(x))\n",
        "        # -> torch.Size([64, 32, 157, 157])\n",
        "        x = self.relu(x)\n",
        "        # print(torch.Tensor.size(x))\n",
        "        # -> torch.Size([64, 32, 157, 157])\n",
        "        x = self.pool2(x)\n",
        "        # print(torch.Tensor.size(x))\n",
        "        # -> torch.Size([64, 32, 78, 78])\n",
        "\n",
        "        x = x.view(-1, 32 * 78 * 78) # 多次元から1次元に無理やり戻しすぎ\n",
        "        x = self.relu(x) # 別の活性化関数に変更（tanhなど）\n",
        "        x = self.fc1(x)\n",
        "        x = self.fc2(x)\n",
        "        x = self.fc3(x)\n",
        "        print(\"x:{}\".format(x))\n",
        "        # sigmoid関数を使って0 - 1の値に変換する\n",
        "        \n",
        "        return x"
      ]
    },
    {
      "cell_type": "code",
      "execution_count": null,
      "metadata": {
        "id": "C-PBC-IVhyDx"
      },
      "outputs": [],
      "source": [
        "# 1画像1スコアでの出力\n",
        "arch = \"resnet50\"\n",
        "model = models.__dict__[arch](pretrained=True)\n",
        "\n",
        "# 最後のfc層だけout_features=1に変更\n",
        "# model.fc = nn.Linear(model.fc.in_features, 1)\n",
        "# Add Sigmoid\n",
        "model.fc = nn.Sequential(\n",
        "    nn.Linear(model.fc.in_features, 1),\n",
        "    nn.Sigmoid()\n",
        ")\n",
        "\n",
        "for p in model.parameters(): \n",
        "#   print(\"p:{}\\n\".format(p))\n",
        "  p.requires_grad=False\n",
        "\n",
        "# fc層とbiasだけ学習はさせる\n",
        "model.fc[0].weight.requires_grad=True\n",
        "model.fc[0].bias.requires_grad=True\n",
        "\n",
        "device = torch.device('cuda:0' if torch.cuda.is_available() else 'cpu')\n",
        "model = model.to(device)\n",
        "\n",
        "# model.train()\n",
        "\n",
        "# data = next(iter(train_loader))\n",
        "# inputs, labels = data\n",
        "# labels /= 5\n",
        "# inputs = inputs.to(device)\n",
        "# labels = labels.to(device)\n",
        "# # optimizer.zero_grad()\n",
        "# outputs = model(inputs)"
      ]
    },
    {
      "cell_type": "code",
      "source": [
        "# test\n",
        "resnet_model.train()\n",
        "\n",
        "data = next(iter(train_loader))\n",
        "img0, img1, img2, scores = data\n",
        "scores /= 5\n",
        "img0 = img0.to(device)\n",
        "img1 = img1.to(device)\n",
        "img2 = img2.to(device)\n",
        "scores = scores.to(device)\n",
        "# optimizer.zero_grad()\n",
        "outputs = resnet_model(img0)\n",
        "outputs.size()"
      ],
      "metadata": {
        "id": "QS1Hmlg1HNUO",
        "colab": {
          "base_uri": "https://localhost:8080/"
        },
        "outputId": "ceeb80bc-68d3-4dbb-dedc-9eb255f80bb6"
      },
      "execution_count": null,
      "outputs": [
        {
          "output_type": "execute_result",
          "data": {
            "text/plain": [
              "torch.Size([64, 2048])"
            ]
          },
          "metadata": {},
          "execution_count": 13
        }
      ]
    }
  ],
  "metadata": {
    "accelerator": "GPU",
    "colab": {
      "collapsed_sections": [],
      "name": "main.ipynb",
      "provenance": [],
      "authorship_tag": "ABX9TyM2wfTSg+9P1Z3ByY1lNf+U",
      "include_colab_link": true
    },
    "kernelspec": {
      "display_name": "Python 3",
      "name": "python3"
    },
    "language_info": {
      "name": "python"
    }
  },
  "nbformat": 4,
  "nbformat_minor": 0
}