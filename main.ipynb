{
  "cells": [
    {
      "cell_type": "markdown",
      "metadata": {
        "id": "view-in-github",
        "colab_type": "text"
      },
      "source": [
        "<a href=\"https://colab.research.google.com/github/ayumu-1212/tabelog_analysis/blob/main/main.ipynb\" target=\"_parent\"><img src=\"https://colab.research.google.com/assets/colab-badge.svg\" alt=\"Open In Colab\"/></a>"
      ]
    },
    {
      "cell_type": "code",
      "execution_count": 85,
      "metadata": {
        "id": "VpGLFm20CH6h"
      },
      "outputs": [],
      "source": [
        "import os\n",
        "import numpy as np\n",
        "import matplotlib.pyplot as plt\n",
        "import PIL\n",
        "import torch\n",
        "import torchvision\n",
        "from torchvision import models\n",
        "import torch.nn as nn"
      ]
    },
    {
      "cell_type": "code",
      "execution_count": 86,
      "metadata": {
        "colab": {
          "base_uri": "https://localhost:8080/"
        },
        "id": "1IxvB-WHlhQZ",
        "outputId": "1de45c4c-51e3-44d8-813f-3ef02ba48a21"
      },
      "outputs": [
        {
          "output_type": "stream",
          "name": "stdout",
          "text": [
            "Drive already mounted at /content/drive; to attempt to forcibly remount, call drive.mount(\"/content/drive\", force_remount=True).\n"
          ]
        }
      ],
      "source": [
        "# google driveのマウント\n",
        "from google.colab import drive\n",
        "drive.mount('/content/drive')"
      ]
    },
    {
      "cell_type": "code",
      "execution_count": 87,
      "metadata": {
        "id": "AUUeKQ-wT4NV"
      },
      "outputs": [],
      "source": [
        "# プログレスバー導入\n",
        "from tqdm import tqdm\n",
        "import time"
      ]
    },
    {
      "cell_type": "code",
      "execution_count": 88,
      "metadata": {
        "id": "wycxMBf8FBYw"
      },
      "outputs": [],
      "source": [
        "# 店舗ごとに画像を読み込むように設定\n",
        "# 標準化検討\n",
        "class MyDataset(torch.utils.data.Dataset):\n",
        "    def __init__(self, score_path, transform=None):\n",
        "        x = []\n",
        "        y = []\n",
        "        \n",
        "        with open (score_path, 'r') as infh:\n",
        "            header = next(infh)\n",
        "            line_index = 0\n",
        "            three_imgs = []\n",
        "            for line in infh:\n",
        "                line_index += 1\n",
        "                d = line.replace('\\n', \"\").split(\",\")\n",
        "                three_imgs.append(os.path.join(os.path.dirname(score_path), d[0]))\n",
        "                if line_index % 3 == 0:\n",
        "                    x.append(three_imgs)\n",
        "                    three_imgs = []\n",
        "                    if d[1] == '':\n",
        "                        y.append(float(0))\n",
        "                    else:\n",
        "                        y.append(float(d[1]))\n",
        "        \n",
        "        self.x = x\n",
        "        self.y = torch.from_numpy(np.array(y)).float().view(-1, 1)\n",
        "        \n",
        "        self.transform = transform\n",
        "        \n",
        "    def __len__(self):\n",
        "        return len(self.x)\n",
        "    \n",
        "    def __getitem__(self, i):\n",
        "        img0 = PIL.Image.open(self.x[i][0]).convert(\"RGB\")\n",
        "        img1 = PIL.Image.open(self.x[i][1]).convert(\"RGB\")\n",
        "        img2 = PIL.Image.open(self.x[i][2]).convert(\"RGB\")\n",
        "        if self.transform is not None:\n",
        "            img0 = self.transform(img0)\n",
        "            img1 = self.transform(img1)\n",
        "            img2 = self.transform(img2)\n",
        "            \n",
        "        return img0, img1, img2, self.y[i]"
      ]
    },
    {
      "cell_type": "code",
      "execution_count": 89,
      "metadata": {
        "id": "aHuMY1YMfpRV"
      },
      "outputs": [],
      "source": [
        "from torchvision.transforms.transforms import Resize\n",
        "normalize = torchvision.transforms.Normalize(\n",
        "        mean=[0.485, 0.456, 0.406], std=[0.229, 0.224, 0.225]\n",
        ")\n",
        "transform = torchvision.transforms.Compose([\n",
        "    torchvision.transforms.Resize(224),\n",
        "    torchvision.transforms.ToTensor(),\n",
        "    normalize\n",
        "])\n",
        "\n",
        "data_dir = \"./drive/MyDrive/Colab Notebooks/CATechAccel/data/train_labels_20220223054616.csv\"\n",
        "full_dataset = MyDataset(data_dir, transform=transform)\n",
        "\n",
        "# 標準化・正規化ライブラリ\n",
        "from sklearn.preprocessing import StandardScaler\n",
        "from sklearn.preprocessing import MinMaxScaler\n",
        "\n",
        "# 標準化・正規化のクラスを定義\n",
        "ss = StandardScaler()\n",
        "ms = MinMaxScaler()\n",
        " \n",
        "#fit_transformを用いて、特徴量の平均値と標準化を計算してから特徴量のスケール変換を行う\n",
        "full_dataset.y = ss.fit_transform(full_dataset.y)\n",
        "\n",
        "#特徴量の最大値と最小値を計算し変換\n",
        "full_dataset.y = ms.fit_transform(full_dataset.y)\n",
        "\n",
        "full_dataset.y = torch.from_numpy(full_dataset.y).to(torch.float32)\n",
        "\n",
        "# # 店舗ごとに分けられるように\n",
        "train_ratio = 0.8\n",
        "train_size = int(train_ratio * len(full_dataset))\n",
        "valid_size = len(full_dataset) - train_size\n",
        "\n",
        "train_dataset, valid_dataset = torch.utils.data.random_split(\n",
        "    full_dataset, [train_size, valid_size]\n",
        ")\n",
        "\n",
        "# # print(f\"full: {len(full_dataset)} -> train: {len(train_dataset)}, test: {len(val_dataset)}\")\n",
        "\n",
        "train_loader = torch.utils.data.DataLoader(train_dataset, batch_size=64, shuffle=True, num_workers=2)\n",
        "\n",
        "valid_loader = torch.utils.data.DataLoader(valid_dataset, batch_size=64, shuffle=False, num_workers=2)"
      ]
    },
    {
      "cell_type": "code",
      "source": [
        "# 1店舗(3画像)1スコアでの出力\n",
        "arch = \"resnet50\"\n",
        "resnet_model = models.__dict__[arch](pretrained=True)\n",
        "\n",
        "# 最後のfc層を削除（Identity()に変更）\n",
        "resnet_model.fc = nn.Identity()\n",
        "\n",
        "for p in resnet_model.parameters(): \n",
        "#   print(\"p:{}\\n\".format(p))\n",
        "  p.requires_grad=False"
      ],
      "metadata": {
        "id": "1cZWWnWEwH3y"
      },
      "execution_count": 90,
      "outputs": []
    },
    {
      "cell_type": "code",
      "source": [
        "class CustomNet(torch.nn.Module):\n",
        "    \n",
        "    def __init__(self):\n",
        "        super(CustomNet, self).__init__()\n",
        "\n",
        "        self.sigmoid = torch.nn.Sigmoid()\n",
        "\n",
        "        self.fc1 = torch.nn.Linear(3 * 2048, 1024)\n",
        "        self.fc2 = torch.nn.Linear(1024, 1024)\n",
        "        self.fc3 = torch.nn.Linear(1024, 1)\n",
        "        \n",
        "    def forward(self, x):\n",
        "        # print(torch.Tensor.size(x))\n",
        "        # -> torch.Size([64, 3, 320, 320])\n",
        "\n",
        "        x = x.view(-1, 3 * 2048) # 多次元から1次元に無理やり戻しすぎ\n",
        "        x = self.fc1(x)\n",
        "        x = self.fc2(x)\n",
        "        x = self.fc3(x)\n",
        "        # sigmoid関数を使って0 - 1の値に変換する\n",
        "        x = self.sigmoid(x)\n",
        "        \n",
        "        return x\n",
        "\n",
        "custom_model = CustomNet()"
      ],
      "metadata": {
        "id": "UQ7RC2OmVUdI"
      },
      "execution_count": 91,
      "outputs": []
    },
    {
      "cell_type": "code",
      "source": [
        "device = torch.device('cuda:0' if torch.cuda.is_available() else 'cpu')\n",
        "custom_model = custom_model.to(device)\n",
        "resnet_model = resnet_model.to(device)"
      ],
      "metadata": {
        "id": "18c6FA4QZGcr"
      },
      "execution_count": 92,
      "outputs": []
    },
    {
      "cell_type": "code",
      "source": [
        "# # test\n",
        "# resnet_model.train()\n",
        "\n",
        "# data = next(iter(train_loader))\n",
        "# img0, img1, img2, scores = data\n",
        "# scores /= 5\n",
        "# img0 = img0.to(device)\n",
        "# img1 = img1.to(device)\n",
        "# img2 = img2.to(device)\n",
        "# scores = scores.to(device)\n",
        "# # optimizer.zero_grad()\n",
        "# output0 = resnet_model(img0)\n",
        "# output1 = resnet_model(img1)\n",
        "# output2 = resnet_model(img2)\n",
        "# torch.stack((output0, output1, output2), 1).size()"
      ],
      "metadata": {
        "id": "pKvAf6r2D8q_"
      },
      "execution_count": 93,
      "outputs": []
    },
    {
      "cell_type": "code",
      "execution_count": 94,
      "metadata": {
        "id": "PqoDfe5Uhqso"
      },
      "outputs": [],
      "source": [
        "optimizer = torch.optim.SGD(custom_model.parameters(), lr=0.01)\n",
        "\n",
        "# class RMSELoss(nn.Module):\n",
        "#     def __init__(self, eps=1e-6):\n",
        "#         super().__init__()\n",
        "#         self.mse = nn.MSELoss()\n",
        "#         self.eps = eps\n",
        "        \n",
        "#     def forward(self,yhat,y):\n",
        "#         loss = torch.sqrt(self.mse(yhat,y) + self.eps)\n",
        "#         return loss\n",
        "\n",
        "# criterion = RMSELoss()\n",
        "\n",
        "\n",
        "criterion = torch.nn.MSELoss()"
      ]
    },
    {
      "cell_type": "code",
      "execution_count": 95,
      "metadata": {
        "colab": {
          "base_uri": "https://localhost:8080/"
        },
        "id": "6TgDTlJJhvgg",
        "outputId": "195ee9f8-bdc4-45ea-b4ab-4343ab133f26"
      },
      "outputs": [
        {
          "output_type": "stream",
          "name": "stderr",
          "text": [
            "  2%|▏         | 1/50 [00:15<12:50, 15.72s/it]"
          ]
        },
        {
          "output_type": "stream",
          "name": "stdout",
          "text": [
            "#epoch:0\ttrain loss: 0.4715806171298027\tvalid loss: 0.1030692383646965\n"
          ]
        },
        {
          "output_type": "stream",
          "name": "stderr",
          "text": [
            "\r  4%|▍         | 2/50 [00:31<12:33, 15.69s/it]"
          ]
        },
        {
          "output_type": "stream",
          "name": "stdout",
          "text": [
            "#epoch:1\ttrain loss: 0.09050135524012148\tvalid loss: 0.05023285746574402\n"
          ]
        },
        {
          "output_type": "stream",
          "name": "stderr",
          "text": [
            "\r  6%|▌         | 3/50 [00:46<12:15, 15.64s/it]"
          ]
        },
        {
          "output_type": "stream",
          "name": "stdout",
          "text": [
            "#epoch:2\ttrain loss: 0.05495009485942622\tvalid loss: 0.004670547321438789\n"
          ]
        },
        {
          "output_type": "stream",
          "name": "stderr",
          "text": [
            "\r  8%|▊         | 4/50 [01:02<11:57, 15.60s/it]"
          ]
        },
        {
          "output_type": "stream",
          "name": "stdout",
          "text": [
            "#epoch:3\ttrain loss: 0.04108557355357334\tvalid loss: 0.004886300303041935\n"
          ]
        },
        {
          "output_type": "stream",
          "name": "stderr",
          "text": [
            "\r 10%|█         | 5/50 [01:17<11:37, 15.50s/it]"
          ]
        },
        {
          "output_type": "stream",
          "name": "stdout",
          "text": [
            "#epoch:4\ttrain loss: 0.03464437373913824\tvalid loss: 0.01832367330789566\n"
          ]
        },
        {
          "output_type": "stream",
          "name": "stderr",
          "text": [
            "\r 12%|█▏        | 6/50 [01:33<11:23, 15.53s/it]"
          ]
        },
        {
          "output_type": "stream",
          "name": "stdout",
          "text": [
            "#epoch:5\ttrain loss: 0.027184380567632616\tvalid loss: 0.002086752404769262\n"
          ]
        },
        {
          "output_type": "stream",
          "name": "stderr",
          "text": [
            "\r 14%|█▍        | 7/50 [01:48<11:05, 15.48s/it]"
          ]
        },
        {
          "output_type": "stream",
          "name": "stdout",
          "text": [
            "#epoch:6\ttrain loss: 0.023155609012714455\tvalid loss: 0.0013094145272459304\n"
          ]
        },
        {
          "output_type": "stream",
          "name": "stderr",
          "text": [
            "\r 16%|█▌        | 8/50 [02:04<10:48, 15.45s/it]"
          ]
        },
        {
          "output_type": "stream",
          "name": "stdout",
          "text": [
            "#epoch:7\ttrain loss: 0.021653112082276493\tvalid loss: 0.012190014123916626\n"
          ]
        },
        {
          "output_type": "stream",
          "name": "stderr",
          "text": [
            "\r 18%|█▊        | 9/50 [02:19<10:36, 15.53s/it]"
          ]
        },
        {
          "output_type": "stream",
          "name": "stdout",
          "text": [
            "#epoch:8\ttrain loss: 0.01803039728353421\tvalid loss: 0.0010855382101403342\n"
          ]
        },
        {
          "output_type": "stream",
          "name": "stderr",
          "text": [
            "\r 20%|██        | 10/50 [02:35<10:20, 15.52s/it]"
          ]
        },
        {
          "output_type": "stream",
          "name": "stdout",
          "text": [
            "#epoch:9\ttrain loss: 0.01614149594679475\tvalid loss: 0.001163636613637209\n"
          ]
        },
        {
          "output_type": "stream",
          "name": "stderr",
          "text": [
            "\r 22%|██▏       | 11/50 [02:50<10:03, 15.47s/it]"
          ]
        },
        {
          "output_type": "stream",
          "name": "stdout",
          "text": [
            "#epoch:10\ttrain loss: 0.015599349661814895\tvalid loss: 0.008919186212799766\n"
          ]
        },
        {
          "output_type": "stream",
          "name": "stderr",
          "text": [
            "\r 24%|██▍       | 12/50 [03:05<09:44, 15.39s/it]"
          ]
        },
        {
          "output_type": "stream",
          "name": "stdout",
          "text": [
            "#epoch:11\ttrain loss: 0.013424442440737039\tvalid loss: 0.0013898288210233052\n"
          ]
        },
        {
          "output_type": "stream",
          "name": "stderr",
          "text": [
            "\r 26%|██▌       | 13/50 [03:21<09:29, 15.38s/it]"
          ]
        },
        {
          "output_type": "stream",
          "name": "stdout",
          "text": [
            "#epoch:12\ttrain loss: 0.01242687443916041\tvalid loss: 0.00118055552817308\n"
          ]
        },
        {
          "output_type": "stream",
          "name": "stderr",
          "text": [
            "\r 28%|██▊       | 14/50 [03:36<09:13, 15.38s/it]"
          ]
        },
        {
          "output_type": "stream",
          "name": "stdout",
          "text": [
            "#epoch:13\ttrain loss: 0.011417246606600071\tvalid loss: 0.0006984491566462177\n"
          ]
        },
        {
          "output_type": "stream",
          "name": "stderr",
          "text": [
            "\r 30%|███       | 15/50 [03:52<08:58, 15.37s/it]"
          ]
        },
        {
          "output_type": "stream",
          "name": "stdout",
          "text": [
            "#epoch:14\ttrain loss: 0.011480545904487372\tvalid loss: 0.0071771581967671715\n"
          ]
        },
        {
          "output_type": "stream",
          "name": "stderr",
          "text": [
            "\r 32%|███▏      | 16/50 [04:07<08:41, 15.34s/it]"
          ]
        },
        {
          "output_type": "stream",
          "name": "stdout",
          "text": [
            "#epoch:15\ttrain loss: 0.009938511866494082\tvalid loss: 0.0007929067360237241\n"
          ]
        },
        {
          "output_type": "stream",
          "name": "stderr",
          "text": [
            "\r 34%|███▍      | 17/50 [04:22<08:27, 15.39s/it]"
          ]
        },
        {
          "output_type": "stream",
          "name": "stdout",
          "text": [
            "#epoch:16\ttrain loss: 0.009312103803762618\tvalid loss: 0.0005667703226208687\n"
          ]
        },
        {
          "output_type": "stream",
          "name": "stderr",
          "text": [
            "\r 36%|███▌      | 18/50 [04:38<08:10, 15.34s/it]"
          ]
        },
        {
          "output_type": "stream",
          "name": "stdout",
          "text": [
            "#epoch:17\ttrain loss: 0.008871180897889039\tvalid loss: 0.0008469056338071823\n"
          ]
        },
        {
          "output_type": "stream",
          "name": "stderr",
          "text": [
            "\r 38%|███▊      | 19/50 [04:53<07:56, 15.36s/it]"
          ]
        },
        {
          "output_type": "stream",
          "name": "stdout",
          "text": [
            "#epoch:18\ttrain loss: 0.008321668585076145\tvalid loss: 0.0004786161313715734\n"
          ]
        },
        {
          "output_type": "stream",
          "name": "stderr",
          "text": [
            "\r 40%|████      | 20/50 [05:08<07:41, 15.39s/it]"
          ]
        },
        {
          "output_type": "stream",
          "name": "stdout",
          "text": [
            "#epoch:19\ttrain loss: 0.008477098308503628\tvalid loss: 0.00493461787700653\n"
          ]
        },
        {
          "output_type": "stream",
          "name": "stderr",
          "text": [
            "\r 42%|████▏     | 21/50 [05:24<07:26, 15.41s/it]"
          ]
        },
        {
          "output_type": "stream",
          "name": "stdout",
          "text": [
            "#epoch:20\ttrain loss: 0.007532130671842467\tvalid loss: 0.0007005036764201664\n"
          ]
        },
        {
          "output_type": "stream",
          "name": "stderr",
          "text": [
            "\r 44%|████▍     | 22/50 [05:39<07:11, 15.40s/it]"
          ]
        },
        {
          "output_type": "stream",
          "name": "stdout",
          "text": [
            "#epoch:21\ttrain loss: 0.0071322337025776505\tvalid loss: 0.00035562218082222074\n"
          ]
        },
        {
          "output_type": "stream",
          "name": "stderr",
          "text": [
            "\r 46%|████▌     | 23/50 [05:55<06:56, 15.42s/it]"
          ]
        },
        {
          "output_type": "stream",
          "name": "stdout",
          "text": [
            "#epoch:22\ttrain loss: 0.007317375877629156\tvalid loss: 0.004314386326333751\n"
          ]
        },
        {
          "output_type": "stream",
          "name": "stderr",
          "text": [
            "\r 48%|████▊     | 24/50 [06:10<06:40, 15.40s/it]"
          ]
        },
        {
          "output_type": "stream",
          "name": "stdout",
          "text": [
            "#epoch:23\ttrain loss: 0.006563072451778377\tvalid loss: 0.0005859246011823416\n"
          ]
        },
        {
          "output_type": "stream",
          "name": "stderr",
          "text": [
            "\r 50%|█████     | 25/50 [06:26<06:25, 15.42s/it]"
          ]
        },
        {
          "output_type": "stream",
          "name": "stdout",
          "text": [
            "#epoch:24\ttrain loss: 0.006301346877589822\tvalid loss: 0.0005390755087137223\n"
          ]
        },
        {
          "output_type": "stream",
          "name": "stderr",
          "text": [
            "\r 52%|█████▏    | 26/50 [06:41<06:12, 15.50s/it]"
          ]
        },
        {
          "output_type": "stream",
          "name": "stdout",
          "text": [
            "#epoch:25\ttrain loss: 0.006419539442644096\tvalid loss: 0.0038046765212829295\n"
          ]
        },
        {
          "output_type": "stream",
          "name": "stderr",
          "text": [
            "\r 54%|█████▍    | 27/50 [06:57<05:55, 15.46s/it]"
          ]
        },
        {
          "output_type": "stream",
          "name": "stdout",
          "text": [
            "#epoch:26\ttrain loss: 0.005765220581519383\tvalid loss: 0.0003427227062207681\n"
          ]
        },
        {
          "output_type": "stream",
          "name": "stderr",
          "text": [
            "\r 56%|█████▌    | 28/50 [07:12<05:39, 15.45s/it]"
          ]
        },
        {
          "output_type": "stream",
          "name": "stdout",
          "text": [
            "#epoch:27\ttrain loss: 0.005606023162337286\tvalid loss: 0.0005725849685924393\n"
          ]
        },
        {
          "output_type": "stream",
          "name": "stderr",
          "text": [
            "\r 58%|█████▊    | 29/50 [07:28<05:24, 15.47s/it]"
          ]
        },
        {
          "output_type": "stream",
          "name": "stdout",
          "text": [
            "#epoch:28\ttrain loss: 0.005363726530802147\tvalid loss: 0.00035164707565102084\n"
          ]
        },
        {
          "output_type": "stream",
          "name": "stderr",
          "text": [
            "\r 60%|██████    | 30/50 [07:43<05:09, 15.49s/it]"
          ]
        },
        {
          "output_type": "stream",
          "name": "stdout",
          "text": [
            "#epoch:29\ttrain loss: 0.005541205313056708\tvalid loss: 0.0033736805121103923\n"
          ]
        },
        {
          "output_type": "stream",
          "name": "stderr",
          "text": [
            "\r 62%|██████▏   | 31/50 [07:59<04:54, 15.48s/it]"
          ]
        },
        {
          "output_type": "stream",
          "name": "stdout",
          "text": [
            "#epoch:30\ttrain loss: 0.004971447994091337\tvalid loss: 0.00031352436710749905\n"
          ]
        },
        {
          "output_type": "stream",
          "name": "stderr",
          "text": [
            "\r 64%|██████▍   | 32/50 [08:14<04:38, 15.49s/it]"
          ]
        },
        {
          "output_type": "stream",
          "name": "stdout",
          "text": [
            "#epoch:31\ttrain loss: 0.004842747657676227\tvalid loss: 0.0004010468255728483\n"
          ]
        },
        {
          "output_type": "stream",
          "name": "stderr",
          "text": [
            "\r 66%|██████▌   | 33/50 [08:30<04:23, 15.49s/it]"
          ]
        },
        {
          "output_type": "stream",
          "name": "stdout",
          "text": [
            "#epoch:32\ttrain loss: 0.004671873362509139\tvalid loss: 0.0003803483295169744\n"
          ]
        },
        {
          "output_type": "stream",
          "name": "stderr",
          "text": [
            "\r 68%|██████▊   | 34/50 [08:45<04:07, 15.46s/it]"
          ]
        },
        {
          "output_type": "stream",
          "name": "stdout",
          "text": [
            "#epoch:33\ttrain loss: 0.004857108804999906\tvalid loss: 0.0028963752967469834\n"
          ]
        },
        {
          "output_type": "stream",
          "name": "stderr",
          "text": [
            "\r 70%|███████   | 35/50 [09:00<03:51, 15.45s/it]"
          ]
        },
        {
          "output_type": "stream",
          "name": "stdout",
          "text": [
            "#epoch:34\ttrain loss: 0.004417580991451229\tvalid loss: 0.0002573873049446515\n"
          ]
        },
        {
          "output_type": "stream",
          "name": "stderr",
          "text": [
            "\r 72%|███████▏  | 36/50 [09:16<03:36, 15.45s/it]"
          ]
        },
        {
          "output_type": "stream",
          "name": "stdout",
          "text": [
            "#epoch:35\ttrain loss: 0.004270896878248702\tvalid loss: 0.0003547381816638841\n"
          ]
        },
        {
          "output_type": "stream",
          "name": "stderr",
          "text": [
            "\r 74%|███████▍  | 37/50 [09:31<03:20, 15.46s/it]"
          ]
        },
        {
          "output_type": "stream",
          "name": "stdout",
          "text": [
            "#epoch:36\ttrain loss: 0.004138480116789405\tvalid loss: 0.0003960036949531452\n"
          ]
        },
        {
          "output_type": "stream",
          "name": "stderr",
          "text": [
            "\r 76%|███████▌  | 38/50 [09:47<03:05, 15.42s/it]"
          ]
        },
        {
          "output_type": "stream",
          "name": "stdout",
          "text": [
            "#epoch:37\ttrain loss: 0.004554371956098629\tvalid loss: 0.004553964655650289\n"
          ]
        },
        {
          "output_type": "stream",
          "name": "stderr",
          "text": [
            "\r 78%|███████▊  | 39/50 [10:02<02:50, 15.47s/it]"
          ]
        },
        {
          "output_type": "stream",
          "name": "stdout",
          "text": [
            "#epoch:38\ttrain loss: 0.0038982652462063692\tvalid loss: 0.00023518006006876627\n"
          ]
        },
        {
          "output_type": "stream",
          "name": "stderr",
          "text": [
            "\r 80%|████████  | 40/50 [10:18<02:34, 15.43s/it]"
          ]
        },
        {
          "output_type": "stream",
          "name": "stdout",
          "text": [
            "#epoch:39\ttrain loss: 0.0038046695408411324\tvalid loss: 0.0002155108842998743\n"
          ]
        },
        {
          "output_type": "stream",
          "name": "stderr",
          "text": [
            "\r 82%|████████▏ | 41/50 [10:33<02:19, 15.45s/it]"
          ]
        },
        {
          "output_type": "stream",
          "name": "stdout",
          "text": [
            "#epoch:40\ttrain loss: 0.0036947268583789102\tvalid loss: 0.00022584009097843637\n"
          ]
        },
        {
          "output_type": "stream",
          "name": "stderr",
          "text": [
            "\r 84%|████████▍ | 42/50 [10:48<02:03, 15.42s/it]"
          ]
        },
        {
          "output_type": "stream",
          "name": "stdout",
          "text": [
            "#epoch:41\ttrain loss: 0.003614993849104004\tvalid loss: 0.00023724597745708058\n"
          ]
        },
        {
          "output_type": "stream",
          "name": "stderr",
          "text": [
            "\r 86%|████████▌ | 43/50 [11:04<01:47, 15.40s/it]"
          ]
        },
        {
          "output_type": "stream",
          "name": "stdout",
          "text": [
            "#epoch:42\ttrain loss: 0.0035142539188179165\tvalid loss: 0.0001834361748986466\n"
          ]
        },
        {
          "output_type": "stream",
          "name": "stderr",
          "text": [
            "\r 88%|████████▊ | 44/50 [11:19<01:32, 15.39s/it]"
          ]
        },
        {
          "output_type": "stream",
          "name": "stdout",
          "text": [
            "#epoch:43\ttrain loss: 0.0036883341751738703\tvalid loss: 0.0022259654307907276\n"
          ]
        },
        {
          "output_type": "stream",
          "name": "stderr",
          "text": [
            "\r 90%|█████████ | 45/50 [11:34<01:16, 15.38s/it]"
          ]
        },
        {
          "output_type": "stream",
          "name": "stdout",
          "text": [
            "#epoch:44\ttrain loss: 0.0035827399128013186\tvalid loss: 0.001953906151983473\n"
          ]
        },
        {
          "output_type": "stream",
          "name": "stderr",
          "text": [
            "\r 92%|█████████▏| 46/50 [11:50<01:01, 15.41s/it]"
          ]
        },
        {
          "output_type": "stream",
          "name": "stdout",
          "text": [
            "#epoch:45\ttrain loss: 0.003285512449624746\tvalid loss: 0.0002843662691505059\n"
          ]
        },
        {
          "output_type": "stream",
          "name": "stderr",
          "text": [
            "\r 94%|█████████▍| 47/50 [12:05<00:46, 15.44s/it]"
          ]
        },
        {
          "output_type": "stream",
          "name": "stdout",
          "text": [
            "#epoch:46\ttrain loss: 0.0032031081141309535\tvalid loss: 0.00021476548244344428\n"
          ]
        },
        {
          "output_type": "stream",
          "name": "stderr",
          "text": [
            "\r 96%|█████████▌| 48/50 [12:21<00:30, 15.42s/it]"
          ]
        },
        {
          "output_type": "stream",
          "name": "stdout",
          "text": [
            "#epoch:47\ttrain loss: 0.003123390328255482\tvalid loss: 0.0002849192824214697\n"
          ]
        },
        {
          "output_type": "stream",
          "name": "stderr",
          "text": [
            "\r 98%|█████████▊| 49/50 [12:36<00:15, 15.39s/it]"
          ]
        },
        {
          "output_type": "stream",
          "name": "stdout",
          "text": [
            "#epoch:48\ttrain loss: 0.003038004774847353\tvalid loss: 0.00015576141031116856\n"
          ]
        },
        {
          "output_type": "stream",
          "name": "stderr",
          "text": [
            "100%|██████████| 50/50 [12:51<00:00, 15.44s/it]"
          ]
        },
        {
          "output_type": "stream",
          "name": "stdout",
          "text": [
            "#epoch:49\ttrain loss: 0.002982096248306334\tvalid loss: 0.00020161494612693786\n"
          ]
        },
        {
          "output_type": "stream",
          "name": "stderr",
          "text": [
            "\n"
          ]
        }
      ],
      "source": [
        "train_loss = []\n",
        "valid_loss = []\n",
        "\n",
        "for epoch in tqdm(range(50)):\n",
        "  # 学習\n",
        "#  そもそも勾配変化がしないのでなしでいい\n",
        "#   resnet_model.train()\n",
        "  custom_model.train()\n",
        "  running_train_loss = 0.0\n",
        "  with torch.set_grad_enabled(True):\n",
        "    for data in train_loader:\n",
        "      # custom_modelに入れ込む↓\n",
        "      img0, img1, img2, scores = data\n",
        "      # ↓の式は前処理 or custom_modelに入れ込む\n",
        "    #   scores /= 5\n",
        "      img0 = img0.to(device)\n",
        "      img1 = img1.to(device)\n",
        "      img2 = img2.to(device)\n",
        "      scores = scores.to(device)\n",
        "      output0 = resnet_model(img0)\n",
        "      output1 = resnet_model(img1)\n",
        "      output2 = resnet_model(img2)\n",
        "      outputs = torch.stack((output0, output1, output2), 1)\n",
        "      \n",
        "      outputs = custom_model(outputs)\n",
        "      # torch.Size([64, 3, 2048])\n",
        "      loss = criterion(outputs, scores)\n",
        "    #   print(\"loss.item():{}\\n\".format(loss.item()))\n",
        "      running_train_loss += loss.item()\n",
        "      optimizer.zero_grad()\n",
        "      loss.backward()\n",
        "      optimizer.step()\n",
        "\n",
        "    #   print(outputs)\n",
        "\n",
        "  train_loss.append(running_train_loss / len(train_dataset))\n",
        "  \n",
        "  # 検証\n",
        "#   resnet_model.eval()\n",
        "  custom_model.eval()\n",
        "  running_valid_loss = 0.0\n",
        "  with torch.set_grad_enabled(False):\n",
        "    for data in valid_loader:\n",
        "\n",
        "      img0, img1, img2, scores = data\n",
        "    #   scores /= 5\n",
        "      img0 = img0.to(device)\n",
        "      img1 = img1.to(device)\n",
        "      img2 = img2.to(device)\n",
        "      scores = scores.to(device)\n",
        "      output0 = resnet_model(img0)\n",
        "      output1 = resnet_model(img1)\n",
        "      output2 = resnet_model(img2)\n",
        "      outputs = torch.stack((output0, output1, output2), 1)\n",
        "      outputs = custom_model(outputs)\n",
        "      # print(\"loss.item():{}\\n\".format(loss.item()))\n",
        "      running_valid_loss += loss.item()\n",
        "\n",
        "  valid_loss.append(running_valid_loss / len(valid_dataset))\n",
        "#   print('#epoch:{}\\ttrain loss: {}'.format(epoch, running_train_loss / len(train_loss)))\n",
        "  print('#epoch:{}\\ttrain loss: {}\\tvalid loss: {}'.format(epoch,\n",
        "                                                running_train_loss / len(train_loss), \n",
        "                                                running_valid_loss / len(valid_loss)))"
      ]
    },
    {
      "cell_type": "code",
      "source": [
        "fig = plt.figure()\n",
        "ax = fig.add_subplot()\n",
        "ax.plot(train_loss, label='train')\n",
        "ax.plot(valid_loss, label='valid')\n",
        "fig.show()"
      ],
      "metadata": {
        "colab": {
          "base_uri": "https://localhost:8080/",
          "height": 265
        },
        "id": "qtbpr3kxR5_n",
        "outputId": "35a5cf67-9b30-4016-f5cd-6dd32b67b9da"
      },
      "execution_count": 96,
      "outputs": [
        {
          "output_type": "display_data",
          "data": {
            "image/png": "[encoded data removed]",
            "text/plain": [
              "<Figure size 432x288 with 1 Axes>"
            ]
          },
          "metadata": {
            "needs_background": "light"
          }
        }
      ]
    },
    {
      "cell_type": "code",
      "source": [
        "full_dataset.y"
      ],
      "metadata": {
        "colab": {
          "base_uri": "https://localhost:8080/"
        },
        "id": "DplEcIqGjbsA",
        "outputId": "626ad381-2e03-4b43-87f3-03883e00cb8f"
      },
      "execution_count": 97,
      "outputs": [
        {
          "output_type": "execute_result",
          "data": {
            "text/plain": [
              "tensor([[0.8355],\n",
              "        [0.8226],\n",
              "        [0.8997],\n",
              "        ...,\n",
              "        [0.8046],\n",
              "        [0.7815],\n",
              "        [0.8123]])"
            ]
          },
          "metadata": {},
          "execution_count": 97
        }
      ]
    },
    {
      "cell_type": "code",
      "source": [
        "fig = plt.figure()\n",
        "ax = fig.add_subplot()\n",
        "# 標準化・正規化を戻す\n",
        "plot_outputs = ss.inverse_transform(ms.inverse_transform(outputs.cpu().detach().numpy()))\n",
        "plot_scores = ss.inverse_transform(ms.inverse_transform(scores.cpu().detach().numpy()))\n",
        "ax.scatter(plot_outputs, plot_scores)\n",
        "fig.show()"
      ],
      "metadata": {
        "colab": {
          "base_uri": "https://localhost:8080/",
          "height": 265
        },
        "id": "nZtazbxDSB8V",
        "outputId": "d949d7ec-b3d6-4530-bdc0-00db2b60bd7b"
      },
      "execution_count": 98,
      "outputs": [
        {
          "output_type": "display_data",
          "data": {
            "image/png": "[encoded data removed]",
            "text/plain": [
              "<Figure size 432x288 with 1 Axes>"
            ]
          },
          "metadata": {
            "needs_background": "light"
          }
        }
      ]
    },
    {
      "cell_type": "markdown",
      "metadata": {
        "id": "aB0i8-xo0Hce"
      },
      "source": [
        "- 重みは更新しない（->p.requires_grad=False）\n",
        "- 回帰問題にするために、out_features=1に設定\n",
        "- dataloaderのときにNormalizeを変更、画像サイズも調整 -> h:224, w:224"
      ]
    },
    {
      "cell_type": "code",
      "execution_count": null,
      "metadata": {
        "id": "-qm2SIc7hL9K"
      },
      "outputs": [],
      "source": [
        "class RegressionNet(torch.nn.Module):\n",
        "    \n",
        "    def __init__(self):\n",
        "        super(RegressionNet, self).__init__()\n",
        "        \n",
        "        self.relu = torch.nn.ReLU()\n",
        "        \n",
        "        self.conv1 = torch.nn.Conv2d(3, 16, 3)\n",
        "        self.pool1 = torch.nn.MaxPool2d(2, 2)\n",
        "        self.conv2 = torch.nn.Conv2d(16, 32, 3)\n",
        "        self.pool2 = torch.nn.MaxPool2d(2, 2)\n",
        "\n",
        "        self.fc1 = torch.nn.Linear(32 * 78 * 78, 1024)\n",
        "        self.fc2 = torch.nn.Linear(1024, 1024)\n",
        "        self.fc3 = torch.nn.Linear(1024, 1)\n",
        "        \n",
        "    def forward(self, x):\n",
        "        # x = torch.nn.functional.relu(self.conv1(x))\n",
        "        # print(torch.Tensor.size(x))\n",
        "        # -> torch.Size([64, 3, 320, 320])\n",
        "        x = self.conv1(x)\n",
        "        # print(torch.Tensor.size(x))\n",
        "        # -> torch.Size([64, 16, 318, 318])\n",
        "        x = self.relu(x)\n",
        "        # print(torch.Tensor.size(x))\n",
        "        # -> torch.Size([64, 16, 318, 318])\n",
        "        x = self.pool1(x)\n",
        "        # print(torch.Tensor.size(x))\n",
        "        # -> torch.Size([64, 16, 159, 159])\n",
        "        # x = torch.nn.functional.relu(self.conv2(x))\n",
        "        x = self.conv2(x)\n",
        "        # print(torch.Tensor.size(x))\n",
        "        # -> torch.Size([64, 32, 157, 157])\n",
        "        x = self.relu(x)\n",
        "        # print(torch.Tensor.size(x))\n",
        "        # -> torch.Size([64, 32, 157, 157])\n",
        "        x = self.pool2(x)\n",
        "        # print(torch.Tensor.size(x))\n",
        "        # -> torch.Size([64, 32, 78, 78])\n",
        "\n",
        "        x = x.view(-1, 32 * 78 * 78) # 多次元から1次元に無理やり戻しすぎ\n",
        "        x = self.relu(x) # 別の活性化関数に変更（tanhなど）\n",
        "        x = self.fc1(x)\n",
        "        x = self.fc2(x)\n",
        "        x = self.fc3(x)\n",
        "        print(\"x:{}\".format(x))\n",
        "        # sigmoid関数を使って0 - 1の値に変換する\n",
        "        \n",
        "        return x"
      ]
    },
    {
      "cell_type": "code",
      "execution_count": null,
      "metadata": {
        "id": "C-PBC-IVhyDx"
      },
      "outputs": [],
      "source": [
        "# 1画像1スコアでの出力\n",
        "arch = \"resnet50\"\n",
        "model = models.__dict__[arch](pretrained=True)\n",
        "\n",
        "# 最後のfc層だけout_features=1に変更\n",
        "# model.fc = nn.Linear(model.fc.in_features, 1)\n",
        "# Add Sigmoid\n",
        "model.fc = nn.Sequential(\n",
        "    nn.Linear(model.fc.in_features, 1),\n",
        "    nn.Sigmoid()\n",
        ")\n",
        "\n",
        "for p in model.parameters(): \n",
        "#   print(\"p:{}\\n\".format(p))\n",
        "  p.requires_grad=False\n",
        "\n",
        "# fc層とbiasだけ学習はさせる\n",
        "model.fc[0].weight.requires_grad=True\n",
        "model.fc[0].bias.requires_grad=True\n",
        "\n",
        "device = torch.device('cuda:0' if torch.cuda.is_available() else 'cpu')\n",
        "model = model.to(device)\n",
        "\n",
        "# model.train()\n",
        "\n",
        "# data = next(iter(train_loader))\n",
        "# inputs, labels = data\n",
        "# labels /= 5\n",
        "# inputs = inputs.to(device)\n",
        "# labels = labels.to(device)\n",
        "# # optimizer.zero_grad()\n",
        "# outputs = model(inputs)"
      ]
    },
    {
      "cell_type": "code",
      "source": [
        "# test\n",
        "model.train()\n",
        "\n",
        "data = next(iter(train_loader))\n",
        "img0, img1, img2, scores = data\n",
        "scores /= 5\n",
        "img0 = img0.to(device)\n",
        "img1 = img1.to(device)\n",
        "img2 = img2.to(device)\n",
        "scores = scores.to(device)\n",
        "# optimizer.zero_grad()\n",
        "outputs = model(img0)"
      ],
      "metadata": {
        "id": "QS1Hmlg1HNUO"
      },
      "execution_count": null,
      "outputs": []
    },
    {
      "cell_type": "code",
      "source": [
        ""
      ],
      "metadata": {
        "id": "KNQNHzlfV_FJ"
      },
      "execution_count": null,
      "outputs": []
    }
  ],
  "metadata": {
    "accelerator": "GPU",
    "colab": {
      "collapsed_sections": [],
      "name": "main.ipynb",
      "provenance": [],
      "authorship_tag": "ABX9TyOgiZc2qfm7cqYMJF3Pezld",
      "include_colab_link": true
    },
    "kernelspec": {
      "display_name": "Python 3",
      "name": "python3"
    },
    "language_info": {
      "name": "python"
    }
  },
  "nbformat": 4,
  "nbformat_minor": 0
}