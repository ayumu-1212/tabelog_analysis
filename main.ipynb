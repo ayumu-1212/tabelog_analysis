{
  "cells": [
    {
      "cell_type": "markdown",
      "metadata": {
        "id": "view-in-github",
        "colab_type": "text"
      },
      "source": [
        "<a href=\"https://colab.research.google.com/github/ayumu-1212/tabelog_analysis/blob/main/main.ipynb\" target=\"_parent\"><img src=\"https://colab.research.google.com/assets/colab-badge.svg\" alt=\"Open In Colab\"/></a>"
      ]
    },
    {
      "cell_type": "code",
      "execution_count": null,
      "metadata": {
        "id": "VpGLFm20CH6h"
      },
      "outputs": [],
      "source": [
        "import os\n",
        "import numpy as np\n",
        "import matplotlib.pyplot as plt\n",
        "import PIL\n",
        "import torch\n",
        "import torchvision\n",
        "from torchvision import models\n",
        "import torch.nn as nn"
      ]
    },
    {
      "cell_type": "code",
      "execution_count": null,
      "metadata": {
        "colab": {
          "base_uri": "https://localhost:8080/"
        },
        "id": "1IxvB-WHlhQZ",
        "outputId": "a312f090-a2b3-406a-929a-36f726e2b2e8"
      },
      "outputs": [
        {
          "output_type": "stream",
          "name": "stdout",
          "text": [
            "Drive already mounted at /content/drive; to attempt to forcibly remount, call drive.mount(\"/content/drive\", force_remount=True).\n"
          ]
        }
      ],
      "source": [
        "# google driveのマウント\n",
        "from google.colab import drive\n",
        "drive.mount('/content/drive')"
      ]
    },
    {
      "cell_type": "code",
      "execution_count": null,
      "metadata": {
        "id": "AUUeKQ-wT4NV"
      },
      "outputs": [],
      "source": [
        "# プログレスバー導入\n",
        "from tqdm import tqdm\n",
        "import time"
      ]
    },
    {
      "cell_type": "code",
      "execution_count": null,
      "metadata": {
        "id": "wycxMBf8FBYw"
      },
      "outputs": [],
      "source": [
        "# 店舗ごとに画像を読み込むように設定\n",
        "# 標準化検討\n",
        "class MyDataset(torch.utils.data.Dataset):\n",
        "    def __init__(self, label_path, transform=None):\n",
        "        x = []\n",
        "        y = []\n",
        "        \n",
        "        with open (label_path, 'r') as infh:\n",
        "            header = next(infh)\n",
        "            line_index = 0\n",
        "            three_imgs = []\n",
        "            for line in infh:\n",
        "                line_index += 1\n",
        "                d = line.replace('\\n', \"\").split(\",\")\n",
        "                three_imgs.append(os.path.join(os.path.dirname(label_path), d[0]))\n",
        "                if line_index % 3 == 0:\n",
        "                    x.append(three_imgs)\n",
        "                    three_imgs = []\n",
        "                    if d[1] == '':\n",
        "                        y.append(float(0))\n",
        "                    else:\n",
        "                        y.append(float(d[1]))\n",
        "        \n",
        "        self.x = x\n",
        "        self.y = torch.from_numpy(np.array(y)).float().view(-1, 1)\n",
        "        \n",
        "        self.transform = transform\n",
        "        \n",
        "    def __len__(self):\n",
        "        return len(self.x)\n",
        "    \n",
        "    def __getitem__(self, i):\n",
        "        img0 = PIL.Image.open(self.x[i][0]).convert(\"RGB\")\n",
        "        img1 = PIL.Image.open(self.x[i][1]).convert(\"RGB\")\n",
        "        img2 = PIL.Image.open(self.x[i][2]).convert(\"RGB\")\n",
        "        if self.transform is not None:\n",
        "            img0 = self.transform(img0)\n",
        "            img1 = self.transform(img1)\n",
        "            img2 = self.transform(img2)\n",
        "            \n",
        "        return img0, img1, img2, self.y[i]"
      ]
    },
    {
      "cell_type": "code",
      "execution_count": null,
      "metadata": {
        "id": "aHuMY1YMfpRV"
      },
      "outputs": [],
      "source": [
        "from torchvision.transforms.transforms import Resize\n",
        "normalize = torchvision.transforms.Normalize(\n",
        "        mean=[0.485, 0.456, 0.406], std=[0.229, 0.224, 0.225]\n",
        ")\n",
        "transform = torchvision.transforms.Compose([\n",
        "    torchvision.transforms.Resize(224),\n",
        "    torchvision.transforms.ToTensor(),\n",
        "    normalize\n",
        "])\n",
        "\n",
        "data_dir = \"./drive/MyDrive/Colab Notebooks/CATechAccel/data/train_labels_20220223054616.csv\"\n",
        "full_dataset = MyDataset(data_dir, transform=transform)\n",
        "\n",
        "# # 店舗ごとに分けられるように\n",
        "train_ratio = 0.8\n",
        "train_size = int(train_ratio * len(full_dataset))\n",
        "valid_size = len(full_dataset) - train_size\n",
        "\n",
        "train_dataset, valid_dataset = torch.utils.data.random_split(\n",
        "    full_dataset, [train_size, valid_size]\n",
        ")\n",
        "\n",
        "# # print(f\"full: {len(full_dataset)} -> train: {len(train_dataset)}, test: {len(val_dataset)}\")\n",
        "\n",
        "train_loader = torch.utils.data.DataLoader(train_dataset, batch_size=64, shuffle=True, num_workers=2)\n",
        "\n",
        "valid_loader = torch.utils.data.DataLoader(valid_dataset, batch_size=64, shuffle=False, num_workers=2)"
      ]
    },
    {
      "cell_type": "code",
      "source": [
        "# 1店舗(3画像)1スコアでの出力\n",
        "arch = \"resnet50\"\n",
        "resnet_model = models.__dict__[arch](pretrained=True)\n",
        "\n",
        "# 最後のfc層を削除（Identity()に変更）\n",
        "resnet_model.fc = nn.Identity()\n",
        "\n",
        "for p in resnet_model.parameters(): \n",
        "#   print(\"p:{}\\n\".format(p))\n",
        "  p.requires_grad=False"
      ],
      "metadata": {
        "id": "1cZWWnWEwH3y"
      },
      "execution_count": null,
      "outputs": []
    },
    {
      "cell_type": "code",
      "source": [
        "class CustomNet(torch.nn.Module):\n",
        "    \n",
        "    def __init__(self):\n",
        "        super(CustomNet, self).__init__()\n",
        "\n",
        "        self.sigmoid = torch.nn.Sigmoid()\n",
        "\n",
        "        self.fc1 = torch.nn.Linear(3 * 2048, 1024)\n",
        "        self.fc2 = torch.nn.Linear(1024, 1024)\n",
        "        self.fc3 = torch.nn.Linear(1024, 1)\n",
        "        \n",
        "    def forward(self, x):\n",
        "        # print(torch.Tensor.size(x))\n",
        "        # -> torch.Size([64, 3, 320, 320])\n",
        "\n",
        "        x = x.view(-1, 3 * 2048) # 多次元から1次元に無理やり戻しすぎ\n",
        "        x = self.fc1(x)\n",
        "        x = self.fc2(x)\n",
        "        x = self.fc3(x)\n",
        "        # sigmoid関数を使って0 - 1の値に変換する\n",
        "        x = self.sigmoid(x)\n",
        "        \n",
        "        return x\n",
        "\n",
        "custom_model = CustomNet()"
      ],
      "metadata": {
        "id": "UQ7RC2OmVUdI"
      },
      "execution_count": null,
      "outputs": []
    },
    {
      "cell_type": "code",
      "source": [
        "device = torch.device('cuda:0' if torch.cuda.is_available() else 'cpu')\n",
        "custom_model = custom_model.to(device)\n",
        "resnet_model = resnet_model.to(device)"
      ],
      "metadata": {
        "id": "18c6FA4QZGcr"
      },
      "execution_count": null,
      "outputs": []
    },
    {
      "cell_type": "code",
      "source": [
        "# test\n",
        "resnet_model.train()\n",
        "\n",
        "data = next(iter(train_loader))\n",
        "img0, img1, img2, labels = data\n",
        "labels /= 5\n",
        "img0 = img0.to(device)\n",
        "img1 = img1.to(device)\n",
        "img2 = img2.to(device)\n",
        "labels = labels.to(device)\n",
        "# optimizer.zero_grad()\n",
        "output0 = resnet_model(img0)\n",
        "output1 = resnet_model(img1)\n",
        "output2 = resnet_model(img2)\n",
        "torch.stack((output0, output1, output2), 1).size()"
      ],
      "metadata": {
        "colab": {
          "base_uri": "https://localhost:8080/"
        },
        "id": "pKvAf6r2D8q_",
        "outputId": "458a5803-7d59-4e5d-e108-de5640e37343"
      },
      "execution_count": null,
      "outputs": [
        {
          "output_type": "execute_result",
          "data": {
            "text/plain": [
              "torch.Size([64, 3, 2048])"
            ]
          },
          "metadata": {},
          "execution_count": 22
        }
      ]
    },
    {
      "cell_type": "code",
      "execution_count": null,
      "metadata": {
        "id": "PqoDfe5Uhqso"
      },
      "outputs": [],
      "source": [
        "optimizer = torch.optim.SGD(custom_model.parameters(), lr=0.01)\n",
        "\n",
        "class RMSELoss(nn.Module):\n",
        "    def __init__(self):\n",
        "        super().__init__()\n",
        "        self.mse = nn.MSELoss()\n",
        "        \n",
        "    def forward(self,yhat,y):\n",
        "        return torch.sqrt(self.mse(yhat,y))\n",
        "\n",
        "criterion = RMSELoss()\n",
        "\n",
        "\n",
        "# criterion = torch.nn.RMSELoss()"
      ]
    },
    {
      "cell_type": "code",
      "execution_count": null,
      "metadata": {
        "colab": {
          "base_uri": "https://localhost:8080/"
        },
        "id": "6TgDTlJJhvgg",
        "outputId": "eecd9866-2e01-4d3b-89ec-92addf700490"
      },
      "outputs": [
        {
          "output_type": "stream",
          "name": "stderr",
          "text": [
            "  2%|▏         | 1/50 [00:19<15:42, 19.24s/it]"
          ]
        },
        {
          "output_type": "stream",
          "name": "stdout",
          "text": [
            "#epoch:0\ttrain loss: 0.09624232596252114\tvalid loss: 0.007605471648275852\n"
          ]
        },
        {
          "output_type": "stream",
          "name": "stderr",
          "text": [
            "\r  4%|▍         | 2/50 [00:38<15:19, 19.16s/it]"
          ]
        },
        {
          "output_type": "stream",
          "name": "stdout",
          "text": [
            "#epoch:1\ttrain loss: 0.05116735416231677\tvalid loss: 0.030421726405620575\n"
          ]
        },
        {
          "output_type": "stream",
          "name": "stderr",
          "text": [
            "\r  6%|▌         | 3/50 [00:57<14:57, 19.10s/it]"
          ]
        },
        {
          "output_type": "stream",
          "name": "stdout",
          "text": [
            "#epoch:2\ttrain loss: 0.03428729483857751\tvalid loss: 0.02070555090904236\n"
          ]
        },
        {
          "output_type": "stream",
          "name": "stderr",
          "text": [
            "\r  8%|▊         | 4/50 [01:16<14:35, 19.03s/it]"
          ]
        },
        {
          "output_type": "stream",
          "name": "stdout",
          "text": [
            "#epoch:3\ttrain loss: 0.02518471091752872\tvalid loss: 0.013422215357422829\n"
          ]
        },
        {
          "output_type": "stream",
          "name": "stderr",
          "text": [
            "\r 10%|█         | 5/50 [01:35<14:16, 19.03s/it]"
          ]
        },
        {
          "output_type": "stream",
          "name": "stdout",
          "text": [
            "#epoch:4\ttrain loss: 0.020077119977213443\tvalid loss: 0.011254015564918517\n"
          ]
        },
        {
          "output_type": "stream",
          "name": "stderr",
          "text": [
            "\r 12%|█▏        | 6/50 [01:54<14:00, 19.10s/it]"
          ]
        },
        {
          "output_type": "stream",
          "name": "stdout",
          "text": [
            "#epoch:5\ttrain loss: 0.015736421977635473\tvalid loss: 0.0014838950398067634\n"
          ]
        },
        {
          "output_type": "stream",
          "name": "stderr",
          "text": [
            "\r 14%|█▍        | 7/50 [02:13<13:44, 19.17s/it]"
          ]
        },
        {
          "output_type": "stream",
          "name": "stdout",
          "text": [
            "#epoch:6\ttrain loss: 0.013306530890986323\tvalid loss: 0.000648433475622109\n"
          ]
        },
        {
          "output_type": "stream",
          "name": "stderr",
          "text": [
            "\r 16%|█▌        | 8/50 [02:33<13:25, 19.17s/it]"
          ]
        },
        {
          "output_type": "stream",
          "name": "stdout",
          "text": [
            "#epoch:7\ttrain loss: 0.011672720225760713\tvalid loss: 0.0011311190901324153\n"
          ]
        },
        {
          "output_type": "stream",
          "name": "stderr",
          "text": [
            "\r 18%|█▊        | 9/50 [02:52<13:07, 19.21s/it]"
          ]
        },
        {
          "output_type": "stream",
          "name": "stdout",
          "text": [
            "#epoch:8\ttrain loss: 0.010947344229660101\tvalid loss: 0.006264327300919427\n"
          ]
        },
        {
          "output_type": "stream",
          "name": "stderr",
          "text": [
            "\r 20%|██        | 10/50 [03:11<12:49, 19.23s/it]"
          ]
        },
        {
          "output_type": "stream",
          "name": "stdout",
          "text": [
            "#epoch:9\ttrain loss: 0.009148222021758556\tvalid loss: 0.0007563411258161068\n"
          ]
        },
        {
          "output_type": "stream",
          "name": "stderr",
          "text": [
            "\r 22%|██▏       | 11/50 [03:30<12:29, 19.22s/it]"
          ]
        },
        {
          "output_type": "stream",
          "name": "stdout",
          "text": [
            "#epoch:10\ttrain loss: 0.008329832809977233\tvalid loss: 0.0005758010189641606\n"
          ]
        },
        {
          "output_type": "stream",
          "name": "stderr",
          "text": [
            "\r 24%|██▍       | 12/50 [03:50<12:10, 19.21s/it]"
          ]
        },
        {
          "output_type": "stream",
          "name": "stdout",
          "text": [
            "#epoch:11\ttrain loss: 0.0076245073093256606\tvalid loss: 0.0003126703668385744\n"
          ]
        },
        {
          "output_type": "stream",
          "name": "stderr",
          "text": [
            "\r 26%|██▌       | 13/50 [04:09<11:51, 19.23s/it]"
          ]
        },
        {
          "output_type": "stream",
          "name": "stdout",
          "text": [
            "#epoch:12\ttrain loss: 0.006957441326588965\tvalid loss: 0.0005851588570154631\n"
          ]
        },
        {
          "output_type": "stream",
          "name": "stderr",
          "text": [
            "\r 28%|██▊       | 14/50 [04:28<11:34, 19.29s/it]"
          ]
        },
        {
          "output_type": "stream",
          "name": "stdout",
          "text": [
            "#epoch:13\ttrain loss: 0.006491900055802294\tvalid loss: 0.0006039499172142573\n"
          ]
        },
        {
          "output_type": "stream",
          "name": "stderr",
          "text": [
            "\r 30%|███       | 15/50 [04:47<11:15, 19.29s/it]"
          ]
        },
        {
          "output_type": "stream",
          "name": "stdout",
          "text": [
            "#epoch:14\ttrain loss: 0.006023254742225011\tvalid loss: 0.00046697473153471946\n"
          ]
        },
        {
          "output_type": "stream",
          "name": "stderr",
          "text": [
            "\r 32%|███▏      | 16/50 [05:07<10:56, 19.30s/it]"
          ]
        },
        {
          "output_type": "stream",
          "name": "stdout",
          "text": [
            "#epoch:15\ttrain loss: 0.005568177097302396\tvalid loss: 0.000360586418537423\n"
          ]
        },
        {
          "output_type": "stream",
          "name": "stderr",
          "text": [
            "\r 34%|███▍      | 17/50 [05:26<10:33, 19.20s/it]"
          ]
        },
        {
          "output_type": "stream",
          "name": "stdout",
          "text": [
            "#epoch:16\ttrain loss: 0.005553355454193319\tvalid loss: 0.0033163255190148074\n"
          ]
        },
        {
          "output_type": "stream",
          "name": "stderr",
          "text": [
            "\r 36%|███▌      | 18/50 [05:45<10:14, 19.20s/it]"
          ]
        },
        {
          "output_type": "stream",
          "name": "stdout",
          "text": [
            "#epoch:17\ttrain loss: 0.0049336542853982085\tvalid loss: 0.0002893575777610143\n"
          ]
        },
        {
          "output_type": "stream",
          "name": "stderr",
          "text": [
            "\r 38%|███▊      | 19/50 [06:05<09:58, 19.30s/it]"
          ]
        },
        {
          "output_type": "stream",
          "name": "stdout",
          "text": [
            "#epoch:18\ttrain loss: 0.00496082188022372\tvalid loss: 0.0026877026416753467\n"
          ]
        },
        {
          "output_type": "stream",
          "name": "stderr",
          "text": [
            "\r 40%|████      | 20/50 [06:24<09:38, 19.27s/it]"
          ]
        },
        {
          "output_type": "stream",
          "name": "stdout",
          "text": [
            "#epoch:19\ttrain loss: 0.004386346286628396\tvalid loss: 0.0002397270640358329\n"
          ]
        },
        {
          "output_type": "stream",
          "name": "stderr",
          "text": [
            "\r 42%|████▏     | 21/50 [06:43<09:17, 19.22s/it]"
          ]
        },
        {
          "output_type": "stream",
          "name": "stdout",
          "text": [
            "#epoch:20\ttrain loss: 0.004465185416241487\tvalid loss: 0.0024810202774547393\n"
          ]
        },
        {
          "output_type": "stream",
          "name": "stderr",
          "text": [
            "\r 44%|████▍     | 22/50 [07:02<08:58, 19.23s/it]"
          ]
        },
        {
          "output_type": "stream",
          "name": "stdout",
          "text": [
            "#epoch:21\ttrain loss: 0.004241830637593838\tvalid loss: 0.002400743859735402\n"
          ]
        },
        {
          "output_type": "stream",
          "name": "stderr",
          "text": [
            "\r 46%|████▌     | 23/50 [07:21<08:39, 19.23s/it]"
          ]
        },
        {
          "output_type": "stream",
          "name": "stdout",
          "text": [
            "#epoch:22\ttrain loss: 0.004029743920039871\tvalid loss: 0.002283929158811984\n"
          ]
        },
        {
          "output_type": "stream",
          "name": "stderr",
          "text": [
            "\r 48%|████▊     | 24/50 [07:41<08:21, 19.29s/it]"
          ]
        },
        {
          "output_type": "stream",
          "name": "stdout",
          "text": [
            "#epoch:23\ttrain loss: 0.004122960487923895\tvalid loss: 0.004365221286813418\n"
          ]
        },
        {
          "output_type": "stream",
          "name": "stderr",
          "text": [
            "\r 50%|█████     | 25/50 [08:00<08:02, 19.29s/it]"
          ]
        },
        {
          "output_type": "stream",
          "name": "stdout",
          "text": [
            "#epoch:24\ttrain loss: 0.003475893852300942\tvalid loss: 0.0003471853956580162\n"
          ]
        },
        {
          "output_type": "stream",
          "name": "stderr",
          "text": [
            "\r 52%|█████▏    | 26/50 [08:19<07:42, 19.26s/it]"
          ]
        },
        {
          "output_type": "stream",
          "name": "stdout",
          "text": [
            "#epoch:25\ttrain loss: 0.0032947806220573303\tvalid loss: 0.00015648329057372533\n"
          ]
        },
        {
          "output_type": "stream",
          "name": "stderr",
          "text": [
            "\r 54%|█████▍    | 27/50 [08:39<07:23, 19.28s/it]"
          ]
        },
        {
          "output_type": "stream",
          "name": "stdout",
          "text": [
            "#epoch:26\ttrain loss: 0.0031661658625428877\tvalid loss: 0.00016866679544802064\n"
          ]
        },
        {
          "output_type": "stream",
          "name": "stderr",
          "text": [
            "\r 56%|█████▌    | 28/50 [08:58<07:03, 19.24s/it]"
          ]
        },
        {
          "output_type": "stream",
          "name": "stdout",
          "text": [
            "#epoch:27\ttrain loss: 0.003044193103310785\tvalid loss: 0.00027862189537180323\n"
          ]
        },
        {
          "output_type": "stream",
          "name": "stderr",
          "text": [
            "\r 58%|█████▊    | 29/50 [09:17<06:45, 19.29s/it]"
          ]
        },
        {
          "output_type": "stream",
          "name": "stdout",
          "text": [
            "#epoch:28\ttrain loss: 0.003140559223287835\tvalid loss: 0.0017409966937426862\n"
          ]
        },
        {
          "output_type": "stream",
          "name": "stderr",
          "text": [
            "\r 60%|██████    | 30/50 [09:37<06:26, 19.34s/it]"
          ]
        },
        {
          "output_type": "stream",
          "name": "stdout",
          "text": [
            "#epoch:29\ttrain loss: 0.002812299923971295\tvalid loss: 0.00018903521510461966\n"
          ]
        },
        {
          "output_type": "stream",
          "name": "stderr",
          "text": [
            "\r 62%|██████▏   | 31/50 [09:56<06:05, 19.25s/it]"
          ]
        },
        {
          "output_type": "stream",
          "name": "stdout",
          "text": [
            "#epoch:30\ttrain loss: 0.0029236332686137286\tvalid loss: 0.0017975014784643727\n"
          ]
        },
        {
          "output_type": "stream",
          "name": "stderr",
          "text": [
            "\r 64%|██████▍   | 32/50 [10:15<05:46, 19.24s/it]"
          ]
        },
        {
          "output_type": "stream",
          "name": "stdout",
          "text": [
            "#epoch:31\ttrain loss: 0.0026276444805262145\tvalid loss: 0.0001955237239599228\n"
          ]
        },
        {
          "output_type": "stream",
          "name": "stderr",
          "text": [
            "\r 66%|██████▌   | 33/50 [10:34<05:26, 19.22s/it]"
          ]
        },
        {
          "output_type": "stream",
          "name": "stdout",
          "text": [
            "#epoch:32\ttrain loss: 0.0026887825718431763\tvalid loss: 0.0014829237126942837\n"
          ]
        },
        {
          "output_type": "stream",
          "name": "stderr",
          "text": [
            "\r 68%|██████▊   | 34/50 [10:53<05:07, 19.21s/it]"
          ]
        },
        {
          "output_type": "stream",
          "name": "stdout",
          "text": [
            "#epoch:33\ttrain loss: 0.002445163855822209\tvalid loss: 0.00014803016229587442\n"
          ]
        },
        {
          "output_type": "stream",
          "name": "stderr",
          "text": [
            "\r 70%|███████   | 35/50 [11:12<04:47, 19.18s/it]"
          ]
        },
        {
          "output_type": "stream",
          "name": "stdout",
          "text": [
            "#epoch:34\ttrain loss: 0.002390454593114555\tvalid loss: 0.00017111006059816907\n"
          ]
        },
        {
          "output_type": "stream",
          "name": "stderr",
          "text": [
            "\r 72%|███████▏  | 36/50 [11:32<04:28, 19.21s/it]"
          ]
        },
        {
          "output_type": "stream",
          "name": "stdout",
          "text": [
            "#epoch:35\ttrain loss: 0.0024794505443423986\tvalid loss: 0.0013607855265339215\n"
          ]
        },
        {
          "output_type": "stream",
          "name": "stderr",
          "text": [
            "\r 74%|███████▍  | 37/50 [11:51<04:09, 19.20s/it]"
          ]
        },
        {
          "output_type": "stream",
          "name": "stdout",
          "text": [
            "#epoch:36\ttrain loss: 0.002231484920893972\tvalid loss: 0.00012607014159093032\n"
          ]
        },
        {
          "output_type": "stream",
          "name": "stderr",
          "text": [
            "\r 76%|███████▌  | 38/50 [12:10<03:50, 19.21s/it]"
          ]
        },
        {
          "output_type": "stream",
          "name": "stdout",
          "text": [
            "#epoch:37\ttrain loss: 0.0021741233036951407\tvalid loss: 0.0001562802782772403\n"
          ]
        },
        {
          "output_type": "stream",
          "name": "stderr",
          "text": [
            "\r 78%|███████▊  | 39/50 [12:29<03:31, 19.21s/it]"
          ]
        },
        {
          "output_type": "stream",
          "name": "stdout",
          "text": [
            "#epoch:38\ttrain loss: 0.0022720826091244817\tvalid loss: 0.0014052562033518767\n"
          ]
        },
        {
          "output_type": "stream",
          "name": "stderr",
          "text": [
            "\r 80%|████████  | 40/50 [12:49<03:12, 19.25s/it]"
          ]
        },
        {
          "output_type": "stream",
          "name": "stdout",
          "text": [
            "#epoch:39\ttrain loss: 0.002205829878221266\tvalid loss: 0.0013106543570756911\n"
          ]
        },
        {
          "output_type": "stream",
          "name": "stderr",
          "text": [
            "\r 82%|████████▏ | 41/50 [13:08<02:53, 19.27s/it]"
          ]
        },
        {
          "output_type": "stream",
          "name": "stdout",
          "text": [
            "#epoch:40\ttrain loss: 0.002255718581514751\tvalid loss: 0.0023881335084031266\n"
          ]
        },
        {
          "output_type": "stream",
          "name": "stderr",
          "text": [
            "\r 84%|████████▍ | 42/50 [13:27<02:34, 19.28s/it]"
          ]
        },
        {
          "output_type": "stream",
          "name": "stdout",
          "text": [
            "#epoch:41\ttrain loss: 0.0019390961831612956\tvalid loss: 0.00017576613685204868\n"
          ]
        },
        {
          "output_type": "stream",
          "name": "stderr",
          "text": [
            "\r 86%|████████▌ | 43/50 [13:47<02:15, 19.31s/it]"
          ]
        },
        {
          "output_type": "stream",
          "name": "stdout",
          "text": [
            "#epoch:42\ttrain loss: 0.0018915785909738652\tvalid loss: 0.0001333884483333244\n"
          ]
        },
        {
          "output_type": "stream",
          "name": "stderr",
          "text": [
            "\r 88%|████████▊ | 44/50 [14:06<01:56, 19.36s/it]"
          ]
        },
        {
          "output_type": "stream",
          "name": "stdout",
          "text": [
            "#epoch:43\ttrain loss: 0.0018557690835388546\tvalid loss: 0.000166255874897946\n"
          ]
        },
        {
          "output_type": "stream",
          "name": "stderr",
          "text": [
            "\r 90%|█████████ | 45/50 [14:25<01:36, 19.30s/it]"
          ]
        },
        {
          "output_type": "stream",
          "name": "stdout",
          "text": [
            "#epoch:44\ttrain loss: 0.0020533992081052726\tvalid loss: 0.0021474407778845892\n"
          ]
        },
        {
          "output_type": "stream",
          "name": "stderr",
          "text": [
            "\r 92%|█████████▏| 46/50 [14:45<01:17, 19.31s/it]"
          ]
        },
        {
          "output_type": "stream",
          "name": "stdout",
          "text": [
            "#epoch:45\ttrain loss: 0.0017252224497497082\tvalid loss: 0.00010351271813978319\n"
          ]
        },
        {
          "output_type": "stream",
          "name": "stderr",
          "text": [
            "\r 94%|█████████▍| 47/50 [15:04<00:57, 19.30s/it]"
          ]
        },
        {
          "output_type": "stream",
          "name": "stdout",
          "text": [
            "#epoch:46\ttrain loss: 0.0019505576384154723\tvalid loss: 0.0019133858224178882\n"
          ]
        },
        {
          "output_type": "stream",
          "name": "stderr",
          "text": [
            "\r 96%|█████████▌| 48/50 [15:24<00:38, 19.44s/it]"
          ]
        },
        {
          "output_type": "stream",
          "name": "stdout",
          "text": [
            "#epoch:47\ttrain loss: 0.0016835484008576411\tvalid loss: 0.00016627326840534806\n"
          ]
        },
        {
          "output_type": "stream",
          "name": "stderr",
          "text": [
            "\r 98%|█████████▊| 49/50 [15:43<00:19, 19.33s/it]"
          ]
        },
        {
          "output_type": "stream",
          "name": "stdout",
          "text": [
            "#epoch:48\ttrain loss: 0.0017444952391088009\tvalid loss: 0.0010917021759918758\n"
          ]
        },
        {
          "output_type": "stream",
          "name": "stderr",
          "text": [
            "100%|██████████| 50/50 [16:02<00:00, 19.24s/it]"
          ]
        },
        {
          "output_type": "stream",
          "name": "stdout",
          "text": [
            "#epoch:49\ttrain loss: 0.0016950528346933425\tvalid loss: 0.0009371867775917053\n"
          ]
        },
        {
          "output_type": "stream",
          "name": "stderr",
          "text": [
            "\n"
          ]
        }
      ],
      "source": [
        "train_loss = []\n",
        "valid_loss = []\n",
        "\n",
        "for epoch in tqdm(range(50)):\n",
        "  # 学習\n",
        "#  そもそも勾配変化がしないのでなしでいい\n",
        "#   resnet_model.train()\n",
        "  custom_model.train()\n",
        "  running_train_loss = 0.0\n",
        "  with torch.set_grad_enabled(True):\n",
        "    for data in train_loader:\n",
        "      # custom_modelに入れ込む↓\n",
        "      img0, img1, img2, labels = data\n",
        "      # ↓の式は前処理 or custom_modelに入れ込む\n",
        "      labels /= 5\n",
        "      img0 = img0.to(device)\n",
        "      img1 = img1.to(device)\n",
        "      img2 = img2.to(device)\n",
        "      labels = labels.to(device)\n",
        "      output0 = resnet_model(img0)\n",
        "      output1 = resnet_model(img1)\n",
        "      output2 = resnet_model(img2)\n",
        "      outputs = torch.stack((output0, output1, output2), 1)\n",
        "      \n",
        "      outputs = custom_model(outputs)\n",
        "      # torch.Size([64, 3, 2048])\n",
        "      loss = criterion(outputs, labels)\n",
        "      # print(\"loss.item():{}\\n\".format(loss.item()))\n",
        "      running_train_loss += loss.item()\n",
        "      optimizer.zero_grad()\n",
        "      loss.backward()\n",
        "      optimizer.step()\n",
        "\n",
        "    #   print(outputs)\n",
        "\n",
        "  train_loss.append(running_train_loss / len(train_dataset))\n",
        "  \n",
        "  # 検証\n",
        "#   resnet_model.eval()\n",
        "  custom_model.eval()\n",
        "  running_valid_loss = 0.0\n",
        "  with torch.set_grad_enabled(False):\n",
        "    for data in valid_loader:\n",
        "\n",
        "      img0, img1, img2, labels = data\n",
        "      labels /= 5\n",
        "      img0 = img0.to(device)\n",
        "      img1 = img1.to(device)\n",
        "      img2 = img2.to(device)\n",
        "      labels = labels.to(device)\n",
        "      output0 = resnet_model(img0)\n",
        "      output1 = resnet_model(img1)\n",
        "      output2 = resnet_model(img2)\n",
        "      outputs = torch.stack((output0, output1, output2), 1)\n",
        "      outputs = custom_model(outputs)\n",
        "      # print(\"loss.item():{}\\n\".format(loss.item()))\n",
        "      running_valid_loss += loss.item()\n",
        "\n",
        "  valid_loss.append(running_valid_loss / len(valid_dataset))\n",
        "#   print('#epoch:{}\\ttrain loss: {}'.format(epoch, running_train_loss / len(train_loss)))\n",
        "  print('#epoch:{}\\ttrain loss: {}\\tvalid loss: {}'.format(epoch,\n",
        "                                                running_train_loss / len(train_loss), \n",
        "                                                running_valid_loss / len(valid_loss)))"
      ]
    },
    {
      "cell_type": "code",
      "source": [
        "fig = plt.figure()\n",
        "ax = fig.add_subplot()\n",
        "ax.plot(train_loss, label='train')\n",
        "ax.plot(valid_loss, label='valid')\n",
        "fig.show()"
      ],
      "metadata": {
        "colab": {
          "base_uri": "https://localhost:8080/",
          "height": 265
        },
        "id": "qtbpr3kxR5_n",
        "outputId": "1436e150-771c-4435-f9e0-817660f1f535"
      },
      "execution_count": null,
      "outputs": [
        {
          "output_type": "display_data",
          "data": {
            "image/png": "[encoded data removed]",
            "text/plain": [
              "<Figure size 432x288 with 1 Axes>"
            ]
          },
          "metadata": {
            "needs_background": "light"
          }
        }
      ]
    },
    {
      "cell_type": "code",
      "source": [
        "fig = plt.figure()\n",
        "ax = fig.add_subplot()\n",
        "outputs *= 5\n",
        "ax.scatter(outputs.cpu().detach().numpy(), labels.cpu().detach().numpy())\n",
        "fig.show()"
      ],
      "metadata": {
        "colab": {
          "base_uri": "https://localhost:8080/",
          "height": 265
        },
        "id": "nZtazbxDSB8V",
        "outputId": "afdd92c8-5b56-48f5-f8f4-4ea1e7630d31"
      },
      "execution_count": null,
      "outputs": [
        {
          "output_type": "display_data",
          "data": {
            "image/png": "[encoded data removed]",
            "text/plain": [
              "<Figure size 432x288 with 1 Axes>"
            ]
          },
          "metadata": {
            "needs_background": "light"
          }
        }
      ]
    },
    {
      "cell_type": "markdown",
      "metadata": {
        "id": "aB0i8-xo0Hce"
      },
      "source": [
        "- 重みは更新しない（->p.requires_grad=False）\n",
        "- 回帰問題にするために、out_features=1に設定\n",
        "- dataloaderのときにNormalizeを変更、画像サイズも調整 -> h:224, w:224"
      ]
    },
    {
      "cell_type": "code",
      "execution_count": null,
      "metadata": {
        "id": "-qm2SIc7hL9K"
      },
      "outputs": [],
      "source": [
        "class RegressionNet(torch.nn.Module):\n",
        "    \n",
        "    def __init__(self):\n",
        "        super(RegressionNet, self).__init__()\n",
        "        \n",
        "        self.relu = torch.nn.ReLU()\n",
        "        \n",
        "        self.conv1 = torch.nn.Conv2d(3, 16, 3)\n",
        "        self.pool1 = torch.nn.MaxPool2d(2, 2)\n",
        "        self.conv2 = torch.nn.Conv2d(16, 32, 3)\n",
        "        self.pool2 = torch.nn.MaxPool2d(2, 2)\n",
        "\n",
        "        self.fc1 = torch.nn.Linear(32 * 78 * 78, 1024)\n",
        "        self.fc2 = torch.nn.Linear(1024, 1024)\n",
        "        self.fc3 = torch.nn.Linear(1024, 1)\n",
        "        \n",
        "    def forward(self, x):\n",
        "        # x = torch.nn.functional.relu(self.conv1(x))\n",
        "        # print(torch.Tensor.size(x))\n",
        "        # -> torch.Size([64, 3, 320, 320])\n",
        "        x = self.conv1(x)\n",
        "        # print(torch.Tensor.size(x))\n",
        "        # -> torch.Size([64, 16, 318, 318])\n",
        "        x = self.relu(x)\n",
        "        # print(torch.Tensor.size(x))\n",
        "        # -> torch.Size([64, 16, 318, 318])\n",
        "        x = self.pool1(x)\n",
        "        # print(torch.Tensor.size(x))\n",
        "        # -> torch.Size([64, 16, 159, 159])\n",
        "        # x = torch.nn.functional.relu(self.conv2(x))\n",
        "        x = self.conv2(x)\n",
        "        # print(torch.Tensor.size(x))\n",
        "        # -> torch.Size([64, 32, 157, 157])\n",
        "        x = self.relu(x)\n",
        "        # print(torch.Tensor.size(x))\n",
        "        # -> torch.Size([64, 32, 157, 157])\n",
        "        x = self.pool2(x)\n",
        "        # print(torch.Tensor.size(x))\n",
        "        # -> torch.Size([64, 32, 78, 78])\n",
        "\n",
        "        x = x.view(-1, 32 * 78 * 78) # 多次元から1次元に無理やり戻しすぎ\n",
        "        x = self.relu(x) # 別の活性化関数に変更（tanhなど）\n",
        "        x = self.fc1(x)\n",
        "        x = self.fc2(x)\n",
        "        x = self.fc3(x)\n",
        "        print(\"x:{}\".format(x))\n",
        "        # sigmoid関数を使って0 - 1の値に変換する\n",
        "        \n",
        "        return x"
      ]
    },
    {
      "cell_type": "code",
      "execution_count": null,
      "metadata": {
        "id": "C-PBC-IVhyDx"
      },
      "outputs": [],
      "source": [
        "# 1画像1スコアでの出力\n",
        "arch = \"resnet50\"\n",
        "model = models.__dict__[arch](pretrained=True)\n",
        "\n",
        "# 最後のfc層だけout_features=1に変更\n",
        "# model.fc = nn.Linear(model.fc.in_features, 1)\n",
        "# Add Sigmoid\n",
        "model.fc = nn.Sequential(\n",
        "    nn.Linear(model.fc.in_features, 1),\n",
        "    nn.Sigmoid()\n",
        ")\n",
        "\n",
        "for p in model.parameters(): \n",
        "#   print(\"p:{}\\n\".format(p))\n",
        "  p.requires_grad=False\n",
        "\n",
        "# fc層とbiasだけ学習はさせる\n",
        "model.fc[0].weight.requires_grad=True\n",
        "model.fc[0].bias.requires_grad=True\n",
        "\n",
        "device = torch.device('cuda:0' if torch.cuda.is_available() else 'cpu')\n",
        "model = model.to(device)\n",
        "\n",
        "# model.train()\n",
        "\n",
        "# data = next(iter(train_loader))\n",
        "# inputs, labels = data\n",
        "# labels /= 5\n",
        "# inputs = inputs.to(device)\n",
        "# labels = labels.to(device)\n",
        "# # optimizer.zero_grad()\n",
        "# outputs = model(inputs)"
      ]
    },
    {
      "cell_type": "code",
      "source": [
        "# test\n",
        "model.train()\n",
        "\n",
        "data = next(iter(train_loader))\n",
        "img0, img1, img2, labels = data\n",
        "labels /= 5\n",
        "img0 = img0.to(device)\n",
        "img1 = img1.to(device)\n",
        "img2 = img2.to(device)\n",
        "labels = labels.to(device)\n",
        "# optimizer.zero_grad()\n",
        "outputs = model(img0)"
      ],
      "metadata": {
        "id": "QS1Hmlg1HNUO"
      },
      "execution_count": null,
      "outputs": []
    },
    {
      "cell_type": "code",
      "source": [
        ""
      ],
      "metadata": {
        "id": "KNQNHzlfV_FJ"
      },
      "execution_count": null,
      "outputs": []
    }
  ],
  "metadata": {
    "accelerator": "GPU",
    "colab": {
      "collapsed_sections": [],
      "name": "main.ipynb",
      "provenance": [],
      "authorship_tag": "ABX9TyOTFkjHIuYMjQo4kGAC195D",
      "include_colab_link": true
    },
    "kernelspec": {
      "display_name": "Python 3",
      "name": "python3"
    },
    "language_info": {
      "name": "python"
    }
  },
  "nbformat": 4,
  "nbformat_minor": 0
}