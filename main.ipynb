{
  "cells": [
    {
      "cell_type": "markdown",
      "metadata": {
        "id": "view-in-github",
        "colab_type": "text"
      },
      "source": [
        "<a href=\"https://colab.research.google.com/github/ayumu-1212/tabelog_analysis/blob/main/main.ipynb\" target=\"_parent\"><img src=\"https://colab.research.google.com/assets/colab-badge.svg\" alt=\"Open In Colab\"/></a>"
      ]
    },
    {
      "cell_type": "code",
      "execution_count": 31,
      "metadata": {
        "id": "VpGLFm20CH6h"
      },
      "outputs": [],
      "source": [
        "import os\n",
        "import numpy as np\n",
        "import matplotlib.pyplot as plt\n",
        "import PIL\n",
        "import torch\n",
        "import torchvision\n",
        "from torchvision import models\n",
        "import torch.nn as nn"
      ]
    },
    {
      "cell_type": "code",
      "execution_count": 32,
      "metadata": {
        "colab": {
          "base_uri": "https://localhost:8080/"
        },
        "id": "1IxvB-WHlhQZ",
        "outputId": "555a9602-1990-426d-f121-0d8e58bd3c91"
      },
      "outputs": [
        {
          "output_type": "stream",
          "name": "stdout",
          "text": [
            "Drive already mounted at /content/drive; to attempt to forcibly remount, call drive.mount(\"/content/drive\", force_remount=True).\n"
          ]
        }
      ],
      "source": [
        "# google driveのマウント\n",
        "from google.colab import drive\n",
        "drive.mount('/content/drive')"
      ]
    },
    {
      "cell_type": "code",
      "execution_count": 33,
      "metadata": {
        "id": "AUUeKQ-wT4NV"
      },
      "outputs": [],
      "source": [
        "# プログレスバー導入\n",
        "from tqdm import tqdm\n",
        "import time"
      ]
    },
    {
      "cell_type": "code",
      "execution_count": 36,
      "metadata": {
        "id": "wycxMBf8FBYw"
      },
      "outputs": [],
      "source": [
        "# 標準化・正規化ライブラリ\n",
        "from sklearn.preprocessing import StandardScaler\n",
        "from sklearn.preprocessing import MinMaxScaler\n",
        "\n",
        "# 店舗ごとに画像を読み込むように設定\n",
        "# 標準化検討\n",
        "class MyDataset(torch.utils.data.Dataset):\n",
        "    def __init__(self, score_path, transform=None):\n",
        "        imgs = []\n",
        "        distances = []\n",
        "        scores = []\n",
        "\n",
        "        # 標準化・正規化のクラスを定義\n",
        "        ss_score = StandardScaler()\n",
        "        ms_score = MinMaxScaler()\n",
        "        ss_distance = StandardScaler()\n",
        "        ms_distance = MinMaxScaler()\n",
        "        \n",
        "        with open (score_path, 'r') as infh:\n",
        "            header = next(infh)\n",
        "            for line in infh:\n",
        "                d = line.replace('\\n', \"\").split(\"\\t\")\n",
        "                # 画像3枚\n",
        "                three_imgs = []\n",
        "                three_imgs.append(os.path.join(os.path.dirname(score_path), d[0]))\n",
        "                three_imgs.append(os.path.join(os.path.dirname(score_path), d[1]))\n",
        "                three_imgs.append(os.path.join(os.path.dirname(score_path), d[2]))\n",
        "                imgs.append(three_imgs)\n",
        "\n",
        "                # 最寄りまでの距離\n",
        "                distances.append(int(d[6]))\n",
        "                \n",
        "                if d[3] == '':\n",
        "                    scores.append(float(0))\n",
        "                else:\n",
        "                    scores.append(float(d[3]))\n",
        "        \n",
        "        self.imgs = imgs\n",
        "\n",
        "        scores = torch.from_numpy(np.array(scores)).float().view(-1, 1)\n",
        "        scores = ss_score.fit_transform(scores) #fit_transformを用いて、特徴量の平均値と標準化を計算してから特徴量のスケール変換を行う\n",
        "        scores = ms_score.fit_transform(scores) #特徴量の最大値と最小値を計算し変換\n",
        "        self.scores = torch.from_numpy(np.array(scores)).to(torch.float32).view(-1, 1)\n",
        "\n",
        "        distances = torch.from_numpy(np.array(distances)).float().view(-1, 1)\n",
        "        distances = ss_distance.fit_transform(distances) #fit_transformを用いて、特徴量の平均値と標準化を計算してから特徴量のスケール変換を行う\n",
        "        distances = ms_distance.fit_transform(distances) #特徴量の最大値と最小値を計算し変換\n",
        "        self.distances = torch.from_numpy(np.array(distances)).to(torch.float32).view(-1, 1)\n",
        "        \n",
        "        self.ss_score = ss_score\n",
        "        self.ms_score = ms_score\n",
        "        \n",
        "        self.transform = transform\n",
        "        \n",
        "    def __len__(self):\n",
        "        return len(self.scores)\n",
        "    \n",
        "    def __getitem__(self, i):\n",
        "        img0 = PIL.Image.open(self.imgs[i][0]).convert(\"RGB\")\n",
        "        img1 = PIL.Image.open(self.imgs[i][1]).convert(\"RGB\")\n",
        "        img2 = PIL.Image.open(self.imgs[i][2]).convert(\"RGB\")\n",
        "        if self.transform is not None:\n",
        "            img0 = self.transform(img0)\n",
        "            img1 = self.transform(img1)\n",
        "            img2 = self.transform(img2)\n",
        "            \n",
        "        return [img0, img1, img2, self.distances[i]], self.scores[i]"
      ]
    },
    {
      "cell_type": "code",
      "execution_count": 37,
      "metadata": {
        "id": "aHuMY1YMfpRV"
      },
      "outputs": [],
      "source": [
        "from torchvision.transforms.transforms import Resize\n",
        "normalize = torchvision.transforms.Normalize(\n",
        "        mean=[0.485, 0.456, 0.406], std=[0.229, 0.224, 0.225]\n",
        ")\n",
        "transform = torchvision.transforms.Compose([\n",
        "    torchvision.transforms.Resize(224),\n",
        "    torchvision.transforms.ToTensor(),\n",
        "    normalize\n",
        "])\n",
        "\n",
        "data_dir = \"./drive/MyDrive/Colab Notebooks/CATechAccel/data/train_scores_20220306211034.tsv\"\n",
        "full_dataset = MyDataset(data_dir, transform=transform)"
      ]
    },
    {
      "cell_type": "markdown",
      "source": [
        "# 標準化・正規化ライブラリ\n",
        "from sklearn.preprocessing import StandardScaler\n",
        "from sklearn.preprocessing import MinMaxScaler\n",
        "\n",
        "# 標準化・正規化のクラスを定義\n",
        "ss = StandardScaler()\n",
        "ms = MinMaxScaler()\n",
        " \n",
        "#fit_transformを用いて、特徴量の平均値と標準化を計算してから特徴量のスケール変換を行う\n",
        "full_dataset.y = ss.fit_transform(full_dataset.y)\n",
        "\n",
        "#特徴量の最大値と最小値を計算し変換\n",
        "full_dataset.y = ms.fit_transform(full_dataset.y)\n",
        "full_dataset.y = torch.from_numpy(full_dataset.y).to(torch.float32)"
      ],
      "metadata": {
        "id": "kt7sz40dpUZF"
      }
    },
    {
      "cell_type": "code",
      "source": [
        "#　店舗ごとに分けられるように\n",
        "train_ratio = 0.8\n",
        "train_size = int(train_ratio * len(full_dataset))\n",
        "valid_size = len(full_dataset) - train_size\n",
        "\n",
        "train_dataset, valid_dataset = torch.utils.data.random_split(\n",
        "    full_dataset, [train_size, valid_size]\n",
        ")\n",
        "\n",
        "# # print(f\"full: {len(full_dataset)} -> train: {len(train_dataset)}, test: {len(val_dataset)}\")\n",
        "train_loader = torch.utils.data.DataLoader(train_dataset, batch_size=64, shuffle=True, num_workers=2)\n",
        "valid_loader = torch.utils.data.DataLoader(valid_dataset, batch_size=64, shuffle=False, num_workers=2)"
      ],
      "metadata": {
        "id": "3AGa37H9pY2_"
      },
      "execution_count": 38,
      "outputs": []
    },
    {
      "cell_type": "code",
      "source": [
        "# 1店舗(3画像)1スコアでの出力\n",
        "arch = \"resnet50\"\n",
        "resnet_model = models.__dict__[arch](pretrained=True)\n",
        "\n",
        "# 最後のfc層を削除（Identity()に変更）\n",
        "resnet_model.fc = nn.Identity()\n",
        "\n",
        "for p in resnet_model.parameters(): \n",
        "#   print(\"p:{}\\n\".format(p))\n",
        "  p.requires_grad=False"
      ],
      "metadata": {
        "id": "1cZWWnWEwH3y",
        "colab": {
          "base_uri": "https://localhost:8080/",
          "height": 86,
          "referenced_widgets": [
            "d85195e819394410ab0a2810208c240a",
            "a712da5fda1d41c8919853612f7e242a",
            "43d8e4b3b38140cc82bb2cc6f0a6f360",
            "d84e8f970f0e4a28b8b301f725c2d5f9",
            "824396b427ab464cb9064d2ee84399f2",
            "bee06b9e42f04305874887e68f899f23",
            "58e6b9716a2c4b4882dc5b06cad25e71",
            "35a91149339d424984756c28ea22fcb9",
            "cb3a32ed94674145af26ce6e59e3ff7d",
            "357ec2a62d6741ba8dd4aad5fe52bfa1",
            "fe384bcd6f234259b27e210172aeb327"
          ]
        },
        "outputId": "ab78e992-5f51-4340-fe06-adfc33be39f2"
      },
      "execution_count": 6,
      "outputs": [
        {
          "output_type": "stream",
          "name": "stderr",
          "text": [
            "Downloading: \"https://download.pytorch.org/models/resnet50-0676ba61.pth\" to /root/.cache/torch/hub/checkpoints/resnet50-0676ba61.pth\n"
          ]
        },
        {
          "output_type": "display_data",
          "data": {
            "application/vnd.jupyter.widget-view+json": {
              "model_id": "d85195e819394410ab0a2810208c240a",
              "version_minor": 0,
              "version_major": 2
            },
            "text/plain": [
              "  0%|          | 0.00/97.8M [00:00<?, ?B/s]"
            ]
          },
          "metadata": {}
        }
      ]
    },
    {
      "cell_type": "markdown",
      "source": [
        "# コードに変換可\n",
        "print(\"各特徴量ごとの平均値は\"+str(ss.mean_))\n",
        "print(\"各特徴量ごとの標準偏差は\"+str(ss.var_))"
      ],
      "metadata": {
        "id": "izpUDRdT1R7w"
      }
    },
    {
      "cell_type": "code",
      "source": [
        "class CustomNet(torch.nn.Module):\n",
        "    \n",
        "    def __init__(self):\n",
        "        super(CustomNet, self).__init__()\n",
        "\n",
        "        self.sigmoid = torch.nn.Sigmoid()\n",
        "\n",
        "        self.fc1 = torch.nn.Linear(3 * 2048, 1024)\n",
        "        self.fc2 = torch.nn.Linear(1024, 1024)\n",
        "        self.fc3 = torch.nn.Linear(1024, 1)\n",
        "        \n",
        "    def forward(self, x):\n",
        "        # print(torch.Tensor.size(x))\n",
        "        # -> torch.Size([64, 3, 320, 320])\n",
        "\n",
        "        x = x.view(-1, 3 * 2048) # 多次元から1次元に無理やり戻しすぎ\n",
        "        x = self.fc1(x)\n",
        "        x = self.fc2(x)\n",
        "        x = self.fc3(x)\n",
        "        # sigmoid関数を使って0 - 1の値に変換する\n",
        "        x = self.sigmoid(x)\n",
        "        \n",
        "        return x\n",
        "\n",
        "custom_model = CustomNet()"
      ],
      "metadata": {
        "id": "UQ7RC2OmVUdI"
      },
      "execution_count": 8,
      "outputs": []
    },
    {
      "cell_type": "code",
      "source": [
        "device = torch.device('cuda:0' if torch.cuda.is_available() else 'cpu')\n",
        "custom_model = custom_model.to(device)\n",
        "resnet_model = resnet_model.to(device)"
      ],
      "metadata": {
        "id": "18c6FA4QZGcr"
      },
      "execution_count": 9,
      "outputs": []
    },
    {
      "cell_type": "markdown",
      "source": [
        "# test\n",
        "resnet_model.train()\n",
        "\n",
        "data = next(iter(train_loader))\n",
        "img0, img1, img2, scores = data\n",
        "scores /= 5\n",
        "img0 = img0.to(device)\n",
        "img1 = img1.to(device)\n",
        "img2 = img2.to(device)\n",
        "scores = scores.to(device)\n",
        "# optimizer.zero_grad()\n",
        "output0 = resnet_model(img0)\n",
        "output1 = resnet_model(img1)\n",
        "output2 = resnet_model(img2)\n",
        "torch.stack((output0, output1, output2), 1).size()"
      ],
      "metadata": {
        "id": "pKvAf6r2D8q_"
      }
    },
    {
      "cell_type": "code",
      "execution_count": 11,
      "metadata": {
        "id": "PqoDfe5Uhqso"
      },
      "outputs": [],
      "source": [
        "optimizer = torch.optim.SGD(custom_model.parameters(), lr=0.01)\n",
        "# criterion = torch.nn.MSELoss()\n",
        "\n",
        "class RMSELoss(nn.Module):\n",
        "    def __init__(self, eps=1e-6):\n",
        "        super().__init__()\n",
        "        self.mse = nn.MSELoss()\n",
        "        self.eps = eps\n",
        "        \n",
        "    def forward(self,yhat,y):\n",
        "        loss = torch.sqrt(self.mse(yhat,y) + self.eps)\n",
        "        return loss\n",
        "\n",
        "criterion = RMSELoss()\n"
      ]
    },
    {
      "cell_type": "code",
      "execution_count": null,
      "metadata": {
        "id": "6TgDTlJJhvgg"
      },
      "outputs": [],
      "source": [
        "train_loss = []\n",
        "valid_loss = []\n",
        "valid_scores = torch.tensor([]).to(device)\n",
        "valid_outputs = torch.tensor([]).to(device)\n",
        "\n",
        "for epoch in tqdm(range(50)):\n",
        "  # 学習\n",
        "#  そもそも勾配変化がしないのでなしでいい\n",
        "#   resnet_model.train()\n",
        "  custom_model.train()\n",
        "  running_train_loss = 0.0\n",
        "  with torch.set_grad_enabled(True):\n",
        "    for data in train_loader:\n",
        "      # custom_modelに入れ込む↓\n",
        "      img0, img1, img2, scores = data\n",
        "      img0 = img0.to(device)\n",
        "      img1 = img1.to(device)\n",
        "      img2 = img2.to(device)\n",
        "      scores = scores.to(device)\n",
        "      output0 = resnet_model(img0)\n",
        "      output1 = resnet_model(img1)\n",
        "      output2 = resnet_model(img2)\n",
        "      outputs = torch.stack((output0, output1, output2), 1)\n",
        "      \n",
        "      outputs = custom_model(outputs)\n",
        "      # torch.Size([64, 3, 2048])\n",
        "      loss = criterion(outputs, scores)\n",
        "    #   print(\"loss.item():{}\\n\".format(loss.item()))\n",
        "      running_train_loss += loss.item()\n",
        "      optimizer.zero_grad()\n",
        "      loss.backward()\n",
        "      optimizer.step()\n",
        "\n",
        "    #   print(outputs)\n",
        "\n",
        "  train_loss.append(running_train_loss / len(train_dataset))\n",
        "  \n",
        "  # 検証\n",
        "#   resnet_model.eval()\n",
        "  custom_model.eval()\n",
        "  running_valid_loss = 0.0\n",
        "  with torch.set_grad_enabled(False):\n",
        "    for data in valid_loader:\n",
        "\n",
        "      img0, img1, img2, scores = data\n",
        "      img0 = img0.to(device)\n",
        "      img1 = img1.to(device)\n",
        "      img2 = img2.to(device)\n",
        "      scores = scores.to(device)\n",
        "      output0 = resnet_model(img0)\n",
        "      output1 = resnet_model(img1)\n",
        "      output2 = resnet_model(img2)\n",
        "      outputs = torch.stack((output0, output1, output2), 1)\n",
        "      outputs = custom_model(outputs)\n",
        "      # print(\"loss.item():{}\\n\".format(loss.item()))\n",
        "      running_valid_loss += loss.item()\n",
        "      valid_outputs = torch.cat((valid_outputs, outputs), 0)\n",
        "      valid_scores = torch.cat((valid_scores, scores), 0)\n",
        "\n",
        "\n",
        "  valid_loss.append(running_valid_loss / len(valid_dataset))\n",
        "#   print('#epoch:{}\\ttrain loss: {}'.format(epoch, running_train_loss / len(train_loss)))\n",
        "  print('#epoch:{}\\ttrain loss: {}\\tvalid loss: {}'.format(epoch,\n",
        "                                                running_train_loss / len(train_loss), \n",
        "                                                running_valid_loss / len(valid_loss)))"
      ]
    },
    {
      "cell_type": "code",
      "source": [
        "train_loss = []\n",
        "valid_loss = []\n",
        "valid_scores = torch.tensor([]).to(device)\n",
        "valid_outputs = torch.tensor([]).to(device)\n",
        "\n",
        "for epoch in tqdm(range(50)):\n",
        "  # 学習\n",
        "#  そもそも勾配変化がしないのでなしでいい\n",
        "#   resnet_model.train()\n",
        "  custom_model.train()\n",
        "  running_train_loss = 0.0\n",
        "  with torch.set_grad_enabled(True):\n",
        "    for data in train_loader:\n",
        "      # custom_modelに入れ込む↓\n",
        "      inputs, scores = data\n",
        "      img0 = img0.to(device)\n",
        "      img1 = img1.to(device)\n",
        "      img2 = img2.to(device)\n",
        "      scores = scores.to(device)\n",
        "      output0 = resnet_model(img0)\n",
        "      output1 = resnet_model(img1)\n",
        "      output2 = resnet_model(img2)\n",
        "      outputs = torch.stack((output0, output1, output2), 1)\n",
        "      \n",
        "      outputs = custom_model(outputs)\n",
        "      # torch.Size([64, 3, 2048])\n",
        "      loss = criterion(outputs, scores)\n",
        "    #   print(\"loss.item():{}\\n\".format(loss.item()))\n",
        "      running_train_loss += loss.item()\n",
        "      optimizer.zero_grad()\n",
        "      loss.backward()\n",
        "      optimizer.step()\n",
        "\n",
        "    #   print(outputs)\n",
        "\n",
        "  train_loss.append(running_train_loss / len(train_dataset))\n",
        "  \n",
        "  # 検証\n",
        "#   resnet_model.eval()\n",
        "  custom_model.eval()\n",
        "  running_valid_loss = 0.0\n",
        "  with torch.set_grad_enabled(False):\n",
        "    for data in valid_loader:\n",
        "\n",
        "      img0, img1, img2, scores = data\n",
        "      img0 = img0.to(device)\n",
        "      img1 = img1.to(device)\n",
        "      img2 = img2.to(device)\n",
        "      scores = scores.to(device)\n",
        "      output0 = resnet_model(img0)\n",
        "      output1 = resnet_model(img1)\n",
        "      output2 = resnet_model(img2)\n",
        "      outputs = torch.stack((output0, output1, output2), 1)\n",
        "      outputs = custom_model(outputs)\n",
        "      # print(\"loss.item():{}\\n\".format(loss.item()))\n",
        "      running_valid_loss += loss.item()\n",
        "      valid_outputs = torch.cat((valid_outputs, outputs), 0)\n",
        "      valid_scores = torch.cat((valid_scores, scores), 0)\n",
        "\n",
        "\n",
        "  valid_loss.append(running_valid_loss / len(valid_dataset))\n",
        "#   print('#epoch:{}\\ttrain loss: {}'.format(epoch, running_train_loss / len(train_loss)))\n",
        "  print('#epoch:{}\\ttrain loss: {}\\tvalid loss: {}'.format(epoch,\n",
        "                                                running_train_loss / len(train_loss), \n",
        "                                                running_valid_loss / len(valid_loss)))"
      ],
      "metadata": {
        "id": "DDkq9qYirPKK"
      },
      "execution_count": null,
      "outputs": []
    },
    {
      "cell_type": "code",
      "source": [
        "fig = plt.figure()\n",
        "ax = fig.add_subplot()\n",
        "ax.plot(train_loss, label='train')\n",
        "ax.plot(valid_loss, label='valid')\n",
        "fig.show()"
      ],
      "metadata": {
        "colab": {
          "base_uri": "https://localhost:8080/",
          "height": 265
        },
        "id": "qtbpr3kxR5_n",
        "outputId": "d0909281-8640-4dc7-cdfc-192a2dd737a7"
      },
      "execution_count": null,
      "outputs": [
        {
          "output_type": "display_data",
          "data": {
            "image/png": "[encoded data removed]",
            "text/plain": [
              "<Figure size 432x288 with 1 Axes>"
            ]
          },
          "metadata": {
            "needs_background": "light"
          }
        }
      ]
    },
    {
      "cell_type": "code",
      "source": [
        "fig = plt.figure()\n",
        "ax = fig.add_subplot()\n",
        "# 標準化・正規化を戻す\n",
        "ss = full_dataset.ss_score\n",
        "ms = full_dataset.ms_score\n",
        "plot_outputs = ss.inverse_transform(ms.inverse_transform(valid_outputs.cpu().detach().numpy()))\n",
        "plot_scores = ss.inverse_transform(ms.inverse_transform(valid_scores.cpu().detach().numpy()))\n",
        "ax.scatter(plot_outputs, plot_scores, s=8)\n",
        "fig.show()"
      ],
      "metadata": {
        "colab": {
          "base_uri": "https://localhost:8080/",
          "height": 267
        },
        "id": "nZtazbxDSB8V",
        "outputId": "76d8cb5d-94b0-4003-d576-343296d02abc"
      },
      "execution_count": null,
      "outputs": [
        {
          "output_type": "display_data",
          "data": {
            "image/png": "[encoded data removed]",
            "text/plain": [
              "<Figure size 432x288 with 1 Axes>"
            ]
          },
          "metadata": {
            "needs_background": "light"
          }
        }
      ]
    },
    {
      "cell_type": "markdown",
      "metadata": {
        "id": "aB0i8-xo0Hce"
      },
      "source": [
        "- 重みは更新しない（->p.requires_grad=False）\n",
        "- 回帰問題にするために、out_features=1に設定\n",
        "- dataloaderのときにNormalizeを変更、画像サイズも調整 -> h:224, w:224"
      ]
    },
    {
      "cell_type": "code",
      "execution_count": null,
      "metadata": {
        "id": "-qm2SIc7hL9K"
      },
      "outputs": [],
      "source": [
        "class RegressionNet(torch.nn.Module):\n",
        "    \n",
        "    def __init__(self):\n",
        "        super(RegressionNet, self).__init__()\n",
        "        \n",
        "        self.relu = torch.nn.ReLU()\n",
        "        \n",
        "        self.conv1 = torch.nn.Conv2d(3, 16, 3)\n",
        "        self.pool1 = torch.nn.MaxPool2d(2, 2)\n",
        "        self.conv2 = torch.nn.Conv2d(16, 32, 3)\n",
        "        self.pool2 = torch.nn.MaxPool2d(2, 2)\n",
        "\n",
        "        self.fc1 = torch.nn.Linear(32 * 78 * 78, 1024)\n",
        "        self.fc2 = torch.nn.Linear(1024, 1024)\n",
        "        self.fc3 = torch.nn.Linear(1024, 1)\n",
        "        \n",
        "    def forward(self, x):\n",
        "        # x = torch.nn.functional.relu(self.conv1(x))\n",
        "        # print(torch.Tensor.size(x))\n",
        "        # -> torch.Size([64, 3, 320, 320])\n",
        "        x = self.conv1(x)\n",
        "        # print(torch.Tensor.size(x))\n",
        "        # -> torch.Size([64, 16, 318, 318])\n",
        "        x = self.relu(x)\n",
        "        # print(torch.Tensor.size(x))\n",
        "        # -> torch.Size([64, 16, 318, 318])\n",
        "        x = self.pool1(x)\n",
        "        # print(torch.Tensor.size(x))\n",
        "        # -> torch.Size([64, 16, 159, 159])\n",
        "        # x = torch.nn.functional.relu(self.conv2(x))\n",
        "        x = self.conv2(x)\n",
        "        # print(torch.Tensor.size(x))\n",
        "        # -> torch.Size([64, 32, 157, 157])\n",
        "        x = self.relu(x)\n",
        "        # print(torch.Tensor.size(x))\n",
        "        # -> torch.Size([64, 32, 157, 157])\n",
        "        x = self.pool2(x)\n",
        "        # print(torch.Tensor.size(x))\n",
        "        # -> torch.Size([64, 32, 78, 78])\n",
        "\n",
        "        x = x.view(-1, 32 * 78 * 78) # 多次元から1次元に無理やり戻しすぎ\n",
        "        x = self.relu(x) # 別の活性化関数に変更（tanhなど）\n",
        "        x = self.fc1(x)\n",
        "        x = self.fc2(x)\n",
        "        x = self.fc3(x)\n",
        "        print(\"x:{}\".format(x))\n",
        "        # sigmoid関数を使って0 - 1の値に変換する\n",
        "        \n",
        "        return x"
      ]
    },
    {
      "cell_type": "code",
      "execution_count": null,
      "metadata": {
        "id": "C-PBC-IVhyDx"
      },
      "outputs": [],
      "source": [
        "# 1画像1スコアでの出力\n",
        "arch = \"resnet50\"\n",
        "model = models.__dict__[arch](pretrained=True)\n",
        "\n",
        "# 最後のfc層だけout_features=1に変更\n",
        "# model.fc = nn.Linear(model.fc.in_features, 1)\n",
        "# Add Sigmoid\n",
        "model.fc = nn.Sequential(\n",
        "    nn.Linear(model.fc.in_features, 1),\n",
        "    nn.Sigmoid()\n",
        ")\n",
        "\n",
        "for p in model.parameters(): \n",
        "#   print(\"p:{}\\n\".format(p))\n",
        "  p.requires_grad=False\n",
        "\n",
        "# fc層とbiasだけ学習はさせる\n",
        "model.fc[0].weight.requires_grad=True\n",
        "model.fc[0].bias.requires_grad=True\n",
        "\n",
        "device = torch.device('cuda:0' if torch.cuda.is_available() else 'cpu')\n",
        "model = model.to(device)\n",
        "\n",
        "# model.train()\n",
        "\n",
        "# data = next(iter(train_loader))\n",
        "# inputs, labels = data\n",
        "# labels /= 5\n",
        "# inputs = inputs.to(device)\n",
        "# labels = labels.to(device)\n",
        "# # optimizer.zero_grad()\n",
        "# outputs = model(inputs)"
      ]
    },
    {
      "cell_type": "code",
      "source": [
        "# test\n",
        "resnet_model.train()\n",
        "\n",
        "data = next(iter(train_loader))\n",
        "img0, img1, img2, scores = data\n",
        "scores /= 5\n",
        "img0 = img0.to(device)\n",
        "img1 = img1.to(device)\n",
        "img2 = img2.to(device)\n",
        "scores = scores.to(device)\n",
        "# optimizer.zero_grad()\n",
        "outputs = resnet_model(img0)\n",
        "outputs.size()"
      ],
      "metadata": {
        "id": "QS1Hmlg1HNUO",
        "colab": {
          "base_uri": "https://localhost:8080/"
        },
        "outputId": "ceeb80bc-68d3-4dbb-dedc-9eb255f80bb6"
      },
      "execution_count": 13,
      "outputs": [
        {
          "output_type": "execute_result",
          "data": {
            "text/plain": [
              "torch.Size([64, 2048])"
            ]
          },
          "metadata": {},
          "execution_count": 13
        }
      ]
    }
  ],
  "metadata": {
    "accelerator": "GPU",
    "colab": {
      "collapsed_sections": [],
      "name": "main.ipynb",
      "provenance": [],
      "authorship_tag": "ABX9TyPKnuQmGhuTX8RzeRPUUdvN",
      "include_colab_link": true
    },
    "kernelspec": {
      "display_name": "Python 3",
      "name": "python3"
    },
    "language_info": {
      "name": "python"
    },
    "widgets": {
      "application/vnd.jupyter.widget-state+json": {
        "d85195e819394410ab0a2810208c240a": {
          "model_module": "@jupyter-widgets/controls",
          "model_name": "HBoxModel",
          "model_module_version": "1.5.0",
          "state": {
            "_view_name": "HBoxView",
            "_dom_classes": [],
            "_model_name": "HBoxModel",
            "_view_module": "@jupyter-widgets/controls",
            "_model_module_version": "1.5.0",
            "_view_count": null,
            "_view_module_version": "1.5.0",
            "box_style": "",
            "layout": "IPY_MODEL_a712da5fda1d41c8919853612f7e242a",
            "_model_module": "@jupyter-widgets/controls",
            "children": [
              "IPY_MODEL_43d8e4b3b38140cc82bb2cc6f0a6f360",
              "IPY_MODEL_d84e8f970f0e4a28b8b301f725c2d5f9",
              "IPY_MODEL_824396b427ab464cb9064d2ee84399f2"
            ]
          }
        },
        "a712da5fda1d41c8919853612f7e242a": {
          "model_module": "@jupyter-widgets/base",
          "model_name": "LayoutModel",
          "model_module_version": "1.2.0",
          "state": {
            "_view_name": "LayoutView",
            "grid_template_rows": null,
            "right": null,
            "justify_content": null,
            "_view_module": "@jupyter-widgets/base",
            "overflow": null,
            "_model_module_version": "1.2.0",
            "_view_count": null,
            "flex_flow": null,
            "width": null,
            "min_width": null,
            "border": null,
            "align_items": null,
            "bottom": null,
            "_model_module": "@jupyter-widgets/base",
            "top": null,
            "grid_column": null,
            "overflow_y": null,
            "overflow_x": null,
            "grid_auto_flow": null,
            "grid_area": null,
            "grid_template_columns": null,
            "flex": null,
            "_model_name": "LayoutModel",
            "justify_items": null,
            "grid_row": null,
            "max_height": null,
            "align_content": null,
            "visibility": null,
            "align_self": null,
            "height": null,
            "min_height": null,
            "padding": null,
            "grid_auto_rows": null,
            "grid_gap": null,
            "max_width": null,
            "order": null,
            "_view_module_version": "1.2.0",
            "grid_template_areas": null,
            "object_position": null,
            "object_fit": null,
            "grid_auto_columns": null,
            "margin": null,
            "display": null,
            "left": null
          }
        },
        "43d8e4b3b38140cc82bb2cc6f0a6f360": {
          "model_module": "@jupyter-widgets/controls",
          "model_name": "HTMLModel",
          "model_module_version": "1.5.0",
          "state": {
            "_view_name": "HTMLView",
            "style": "IPY_MODEL_bee06b9e42f04305874887e68f899f23",
            "_dom_classes": [],
            "description": "",
            "_model_name": "HTMLModel",
            "placeholder": "​",
            "_view_module": "@jupyter-widgets/controls",
            "_model_module_version": "1.5.0",
            "value": "100%",
            "_view_count": null,
            "_view_module_version": "1.5.0",
            "description_tooltip": null,
            "_model_module": "@jupyter-widgets/controls",
            "layout": "IPY_MODEL_58e6b9716a2c4b4882dc5b06cad25e71"
          }
        },
        "d84e8f970f0e4a28b8b301f725c2d5f9": {
          "model_module": "@jupyter-widgets/controls",
          "model_name": "FloatProgressModel",
          "model_module_version": "1.5.0",
          "state": {
            "_view_name": "ProgressView",
            "style": "IPY_MODEL_35a91149339d424984756c28ea22fcb9",
            "_dom_classes": [],
            "description": "",
            "_model_name": "FloatProgressModel",
            "bar_style": "success",
            "max": 102530333,
            "_view_module": "@jupyter-widgets/controls",
            "_model_module_version": "1.5.0",
            "value": 102530333,
            "_view_count": null,
            "_view_module_version": "1.5.0",
            "orientation": "horizontal",
            "min": 0,
            "description_tooltip": null,
            "_model_module": "@jupyter-widgets/controls",
            "layout": "IPY_MODEL_cb3a32ed94674145af26ce6e59e3ff7d"
          }
        },
        "824396b427ab464cb9064d2ee84399f2": {
          "model_module": "@jupyter-widgets/controls",
          "model_name": "HTMLModel",
          "model_module_version": "1.5.0",
          "state": {
            "_view_name": "HTMLView",
            "style": "IPY_MODEL_357ec2a62d6741ba8dd4aad5fe52bfa1",
            "_dom_classes": [],
            "description": "",
            "_model_name": "HTMLModel",
            "placeholder": "​",
            "_view_module": "@jupyter-widgets/controls",
            "_model_module_version": "1.5.0",
            "value": " 97.8M/97.8M [00:00&lt;00:00, 149MB/s]",
            "_view_count": null,
            "_view_module_version": "1.5.0",
            "description_tooltip": null,
            "_model_module": "@jupyter-widgets/controls",
            "layout": "IPY_MODEL_fe384bcd6f234259b27e210172aeb327"
          }
        },
        "bee06b9e42f04305874887e68f899f23": {
          "model_module": "@jupyter-widgets/controls",
          "model_name": "DescriptionStyleModel",
          "model_module_version": "1.5.0",
          "state": {
            "_view_name": "StyleView",
            "_model_name": "DescriptionStyleModel",
            "description_width": "",
            "_view_module": "@jupyter-widgets/base",
            "_model_module_version": "1.5.0",
            "_view_count": null,
            "_view_module_version": "1.2.0",
            "_model_module": "@jupyter-widgets/controls"
          }
        },
        "58e6b9716a2c4b4882dc5b06cad25e71": {
          "model_module": "@jupyter-widgets/base",
          "model_name": "LayoutModel",
          "model_module_version": "1.2.0",
          "state": {
            "_view_name": "LayoutView",
            "grid_template_rows": null,
            "right": null,
            "justify_content": null,
            "_view_module": "@jupyter-widgets/base",
            "overflow": null,
            "_model_module_version": "1.2.0",
            "_view_count": null,
            "flex_flow": null,
            "width": null,
            "min_width": null,
            "border": null,
            "align_items": null,
            "bottom": null,
            "_model_module": "@jupyter-widgets/base",
            "top": null,
            "grid_column": null,
            "overflow_y": null,
            "overflow_x": null,
            "grid_auto_flow": null,
            "grid_area": null,
            "grid_template_columns": null,
            "flex": null,
            "_model_name": "LayoutModel",
            "justify_items": null,
            "grid_row": null,
            "max_height": null,
            "align_content": null,
            "visibility": null,
            "align_self": null,
            "height": null,
            "min_height": null,
            "padding": null,
            "grid_auto_rows": null,
            "grid_gap": null,
            "max_width": null,
            "order": null,
            "_view_module_version": "1.2.0",
            "grid_template_areas": null,
            "object_position": null,
            "object_fit": null,
            "grid_auto_columns": null,
            "margin": null,
            "display": null,
            "left": null
          }
        },
        "35a91149339d424984756c28ea22fcb9": {
          "model_module": "@jupyter-widgets/controls",
          "model_name": "ProgressStyleModel",
          "model_module_version": "1.5.0",
          "state": {
            "_view_name": "StyleView",
            "_model_name": "ProgressStyleModel",
            "description_width": "",
            "_view_module": "@jupyter-widgets/base",
            "_model_module_version": "1.5.0",
            "_view_count": null,
            "_view_module_version": "1.2.0",
            "bar_color": null,
            "_model_module": "@jupyter-widgets/controls"
          }
        },
        "cb3a32ed94674145af26ce6e59e3ff7d": {
          "model_module": "@jupyter-widgets/base",
          "model_name": "LayoutModel",
          "model_module_version": "1.2.0",
          "state": {
            "_view_name": "LayoutView",
            "grid_template_rows": null,
            "right": null,
            "justify_content": null,
            "_view_module": "@jupyter-widgets/base",
            "overflow": null,
            "_model_module_version": "1.2.0",
            "_view_count": null,
            "flex_flow": null,
            "width": null,
            "min_width": null,
            "border": null,
            "align_items": null,
            "bottom": null,
            "_model_module": "@jupyter-widgets/base",
            "top": null,
            "grid_column": null,
            "overflow_y": null,
            "overflow_x": null,
            "grid_auto_flow": null,
            "grid_area": null,
            "grid_template_columns": null,
            "flex": null,
            "_model_name": "LayoutModel",
            "justify_items": null,
            "grid_row": null,
            "max_height": null,
            "align_content": null,
            "visibility": null,
            "align_self": null,
            "height": null,
            "min_height": null,
            "padding": null,
            "grid_auto_rows": null,
            "grid_gap": null,
            "max_width": null,
            "order": null,
            "_view_module_version": "1.2.0",
            "grid_template_areas": null,
            "object_position": null,
            "object_fit": null,
            "grid_auto_columns": null,
            "margin": null,
            "display": null,
            "left": null
          }
        },
        "357ec2a62d6741ba8dd4aad5fe52bfa1": {
          "model_module": "@jupyter-widgets/controls",
          "model_name": "DescriptionStyleModel",
          "model_module_version": "1.5.0",
          "state": {
            "_view_name": "StyleView",
            "_model_name": "DescriptionStyleModel",
            "description_width": "",
            "_view_module": "@jupyter-widgets/base",
            "_model_module_version": "1.5.0",
            "_view_count": null,
            "_view_module_version": "1.2.0",
            "_model_module": "@jupyter-widgets/controls"
          }
        },
        "fe384bcd6f234259b27e210172aeb327": {
          "model_module": "@jupyter-widgets/base",
          "model_name": "LayoutModel",
          "model_module_version": "1.2.0",
          "state": {
            "_view_name": "LayoutView",
            "grid_template_rows": null,
            "right": null,
            "justify_content": null,
            "_view_module": "@jupyter-widgets/base",
            "overflow": null,
            "_model_module_version": "1.2.0",
            "_view_count": null,
            "flex_flow": null,
            "width": null,
            "min_width": null,
            "border": null,
            "align_items": null,
            "bottom": null,
            "_model_module": "@jupyter-widgets/base",
            "top": null,
            "grid_column": null,
            "overflow_y": null,
            "overflow_x": null,
            "grid_auto_flow": null,
            "grid_area": null,
            "grid_template_columns": null,
            "flex": null,
            "_model_name": "LayoutModel",
            "justify_items": null,
            "grid_row": null,
            "max_height": null,
            "align_content": null,
            "visibility": null,
            "align_self": null,
            "height": null,
            "min_height": null,
            "padding": null,
            "grid_auto_rows": null,
            "grid_gap": null,
            "max_width": null,
            "order": null,
            "_view_module_version": "1.2.0",
            "grid_template_areas": null,
            "object_position": null,
            "object_fit": null,
            "grid_auto_columns": null,
            "margin": null,
            "display": null,
            "left": null
          }
        }
      }
    }
  },
  "nbformat": 4,
  "nbformat_minor": 0
}